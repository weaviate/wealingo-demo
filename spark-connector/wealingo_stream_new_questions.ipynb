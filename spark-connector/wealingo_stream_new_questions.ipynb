{
 "cells": [
  {
   "cell_type": "markdown",
   "metadata": {
    "application/vnd.databricks.v1+cell": {
     "cellMetadata": {
      "byteLimit": 2048000,
      "rowLimit": 10000
     },
     "inputWidgets": {},
     "nuid": "4912938b-c5c0-47e8-913b-637a974ac341",
     "showTitle": false,
     "title": ""
    }
   },
   "source": [
    "# Introduction"
   ]
  },
  {
   "cell_type": "markdown",
   "metadata": {
    "application/vnd.databricks.v1+cell": {
     "cellMetadata": {},
     "inputWidgets": {},
     "nuid": "084f0f46-07fe-43dd-a73c-a17e012e0202",
     "showTitle": false,
     "title": ""
    }
   },
   "source": [
    "This notebook consumes the kafka queue containing new questions into Weaviate."
   ]
  },
  {
   "cell_type": "markdown",
   "metadata": {
    "application/vnd.databricks.v1+cell": {
     "cellMetadata": {},
     "inputWidgets": {},
     "nuid": "c9c2fdfd-3ed8-4d79-9840-9e105683fc39",
     "showTitle": false,
     "title": ""
    }
   },
   "source": [
    "\n",
    "# Prerequisites"
   ]
  },
  {
   "cell_type": "markdown",
   "metadata": {
    "application/vnd.databricks.v1+cell": {
     "cellMetadata": {
      "byteLimit": 2048000,
      "rowLimit": 10000
     },
     "inputWidgets": {},
     "nuid": "3354592c-bbc1-4e52-a313-e502e66de09c",
     "showTitle": false,
     "title": ""
    }
   },
   "source": [
    "\n",
    "1. A postgreSQL instance\n",
    "2. A Kafka cluster\n",
    "3. CDC set up between PostgreSQL and a kafka topic to track additions of new questions"
   ]
  },
  {
   "cell_type": "markdown",
   "metadata": {
    "application/vnd.databricks.v1+cell": {
     "cellMetadata": {},
     "inputWidgets": {},
     "nuid": "1435b38e-d30f-415f-baca-908952782f3d",
     "showTitle": false,
     "title": ""
    }
   },
   "source": [
    "# Steps"
   ]
  },
  {
   "cell_type": "markdown",
   "metadata": {
    "application/vnd.databricks.v1+cell": {
     "cellMetadata": {
      "byteLimit": 2048000,
      "rowLimit": 10000
     },
     "inputWidgets": {},
     "nuid": "60b534be-7619-41d2-8251-c1d56532bfe3",
     "showTitle": false,
     "title": ""
    }
   },
   "source": [
    "Stream from Confluent into Spark:"
   ]
  },
  {
   "cell_type": "code",
   "execution_count": 0,
   "metadata": {
    "application/vnd.databricks.v1+cell": {
     "cellMetadata": {
      "byteLimit": 2048000,
      "rowLimit": 10000
     },
     "inputWidgets": {},
     "nuid": "30fa1e55-80d1-4d35-9964-a007bc30b585",
     "showTitle": false,
     "title": ""
    }
   },
   "outputs": [
    {
     "data": {
      "text/html": [
       "<style scoped>\n",
       "  .ansiout {\n",
       "    display: block;\n",
       "    unicode-bidi: embed;\n",
       "    white-space: pre-wrap;\n",
       "    word-wrap: break-word;\n",
       "    word-break: break-all;\n",
       "    font-family: \"Menlo\", \"Monaco\", \"Consolas\", \"Ubuntu Mono\", \"Source Code Pro\", monospace;\n",
       "    font-size: 13px;\n",
       "    color: #555;\n",
       "    margin-left: 4px;\n",
       "    line-height: 19px;\n",
       "  }\n",
       "</style>"
      ]
     },
     "metadata": {
      "application/vnd.databricks.v1+output": {
       "arguments": {},
       "data": "",
       "errorSummary": "Single-user check failed: user 'shukri@weaviate.io' attempted to run a command on single-user cluster 0813-172641-gd8opb2m, but the single user of this cluster is 'deepti@weaviate.io'",
       "errorTraceType": null,
       "metadata": {},
       "type": "ipynbError"
      }
     },
     "output_type": "display_data"
    }
   ],
   "source": [
    "# connect to the topic\n",
    "\n",
    "confluentBootstrapServers = \"\"\n",
    "confluentTopicName = \"\" # kafka topic where CDC on questions are published\n",
    "confluentApiKey = \"\"\n",
    "confluentSecret = \"\"\n",
    "\n",
    "df =  (\n",
    "    spark.readStream.format(\"kafka\")\n",
    "    .option(\"kafka.bootstrap.servers\", confluentBootstrapServers)\n",
    "    .option(\"subscribe\", confluentTopicName)\n",
    "    .option(\"startingOffsets\", \"latest\")  # Chage to \"earliest\" if want to read from offset 0\n",
    "    .option(\"kafka.security.protocol\", \"SASL_SSL\")\n",
    "    .option(\n",
    "        \"kafka.sasl.jaas.config\",\n",
    "        \"kafkashaded.org.apache.kafka.common.security.plain.PlainLoginModule required username='{}' password='{}';\".format(\n",
    "            confluentApiKey, confluentSecret\n",
    "        ),\n",
    "    )\n",
    "    .option(\"kafka.ssl.endpoint.identification.algorithm\", \"https\")\n",
    "    .option(\"kafka.sasl.mechanism\", \"PLAIN\")\n",
    "    .option(\"failOnDataLoss\", \"false\")\n",
    "    # .option(\"name\", \"productsFromConfluent\")\n",
    "    .load()\n",
    ")"
   ]
  },
  {
   "cell_type": "code",
   "execution_count": 0,
   "metadata": {
    "application/vnd.databricks.v1+cell": {
     "cellMetadata": {
      "byteLimit": 2048000,
      "rowLimit": 10000
     },
     "inputWidgets": {},
     "nuid": "53b22c42-2eb7-477f-ad41-44d4858af184",
     "showTitle": false,
     "title": ""
    }
   },
   "outputs": [
    {
     "data": {
      "text/html": [
       "<style scoped>\n",
       "  .table-result-container {\n",
       "    max-height: 300px;\n",
       "    overflow: auto;\n",
       "  }\n",
       "  table, th, td {\n",
       "    border: 1px solid black;\n",
       "    border-collapse: collapse;\n",
       "  }\n",
       "  th, td {\n",
       "    padding: 5px;\n",
       "  }\n",
       "  th {\n",
       "    text-align: left;\n",
       "  }\n",
       "</style><div class='table-result-container'><table class='table-result'><thead style='background-color: white'><tr><th>question_type</th><th>question</th><th>answer</th><th>file_path</th><th>difficulty_rating</th><th>category</th><th>instruction</th></tr></thead><tbody><tr><td>standard question</td><td>I would like to buy some white roses.</td><td>Vorrei comprare delle rose bianche.</td><td>null</td><td>2</td><td>Buy things in a store</td><td>Remember to use 'comprare' for 'to buy' and 'delle' as the partitive article for 'some'.</td></tr><tr><td>standard question</td><td>Could you wrap the white roses as a gift?</td><td>Potrebbe incartare le rose bianche come un regalo?</td><td>null</td><td>3</td><td>Buy things in a store</td><td>Use 'Potrebbe' for formal 'Could you' and 'incartare' for 'to wrap'.</td></tr><tr><td>standard question</td><td>I want to buy a blue shirt.</td><td>Voglio comprare una camicia blu.</td><td>null</td><td>2</td><td>Buy things in a store</td><td>Remember to use 'voglio' for 'I want' and 'comprare' for 'to buy'. 'Una camicia' is 'a shirt' and 'blu' is 'blue'.</td></tr><tr><td>standard question</td><td>Can I try on this shirt?</td><td>Posso provare questa camicia?</td><td>null</td><td>2</td><td>Buy things in a store</td><td>Use 'posso' for 'can I' and 'provare' for 'try on'. 'Questa camicia' means 'this shirt'.</td></tr><tr><td>standard question</td><td>I want to order a pizza with pepperoni.</td><td>Vorrei ordinare una pizza con il pepperoni.</td><td>null</td><td>2</td><td>Order in a restaurant</td><td>Remember to use 'vorrei' for 'I want' and 'ordinare' for 'to order'. The word for 'with' is 'con'.</td></tr><tr><td>standard question</td><td>Can I have a pizza with mushrooms?</td><td>Posso avere una pizza con funghi?</td><td>null</td><td>2</td><td>Order in a restaurant</td><td>Use 'posso avere' for 'can I have' and remember that 'mushrooms' is 'funghi' in Italian.</td></tr><tr><td>standard question</td><td>I would like to order a pizza to go.</td><td>Vorrei ordinare una pizza da asporto.</td><td>null</td><td>3</td><td>Order in a restaurant</td><td>Use 'vorrei ordinare' for 'I would like to order' and 'da asporto' for 'to go'.</td></tr><tr><td>standard question</td><td>I want to order a pizza with mushrooms.</td><td>Vorrei ordinare una pizza con funghi.</td><td>null</td><td>2</td><td>Order in a restaurant</td><td>Use 'vorrei ordinare' for 'I want to order' and 'con funghi' for 'with mushrooms'.</td></tr><tr><td>standard question</td><td>Can I have a pizza with extra cheese?</td><td>Posso avere una pizza con extra formaggio?</td><td>null</td><td>3</td><td>Order in a restaurant</td><td>Use 'posso avere' for 'Can I have' and 'con extra formaggio' for 'with extra cheese'.</td></tr><tr><td>standard question</td><td>I would like to customize my pizza toppings.</td><td>Vorrei personalizzare gli ingredienti della mia pizza.</td><td>null</td><td>4</td><td>Order in a restaurant</td><td>Use 'vorrei personalizzare' for 'I would like to customize' and 'ingredienti della mia pizza' for 'my pizza toppings'.</td></tr><tr><td>standard question</td><td>I want to buy a shirt with stripes.</td><td>Voglio comprare una camicia a righe.</td><td>null</td><td>2</td><td>Buy things in a store</td><td>Remember to use 'voglio' for 'I want', 'comprare' for 'to buy', and 'a righe' for 'with stripes'.</td></tr><tr><td>standard question</td><td>Can I try on this shirt?</td><td>Posso provare questa camicia?</td><td>null</td><td>2</td><td>Buy things in a store</td><td>Use 'posso' for 'can I' and 'provare' for 'try on'. 'Questa camicia' means 'this shirt'.</td></tr><tr><td>standard question</td><td>Do you have this shirt in a larger size?</td><td>Avete questa camicia in una taglia più grande?</td><td>null</td><td>3</td><td>Buy things in a store</td><td>Use 'avete' for 'do you have', 'questa camicia' for 'this shirt', and 'in una taglia più grande' for 'in a larger size'.</td></tr><tr><td>standard question</td><td>I want to buy a red coat.</td><td>Voglio comprare un cappotto rosso.</td><td>null</td><td>2</td><td>Shopping</td><td>Remember to use 'voglio' for 'I want', 'comprare' for 'to buy', 'un cappotto' for 'a coat', and 'rosso' for 'red'.</td></tr><tr><td>standard question</td><td>Can I try on this red coat?</td><td>Posso provare questo cappotto rosso?</td><td>null</td><td>2</td><td>Shopping</td><td>Use 'posso' for 'can I', 'provare' for 'try on', 'questo' for 'this', and remember the gender agreement for 'cappotto' (masculine).</td></tr><tr><td>standard question</td><td>How much does the red coat cost?</td><td>Quanto costa il cappotto rosso?</td><td>null</td><td>2</td><td>Shopping</td><td>Use 'quanto costa' for 'how much does it cost' and remember the gender agreement for 'il cappotto' (masculine).</td></tr><tr><td>standard question</td><td>A glass of red wine, please</td><td>Un bicchiere di vino rosso, per favore</td><td>null</td><td>2</td><td>Order in a restaurant</td><td>Remember to use 'un bicchiere' for 'a glass' and 'vino rosso' for 'red wine'.</td></tr><tr><td>standard question</td><td>Can I have a beer?</td><td>Posso avere una birra?</td><td>null</td><td>2</td><td>Order in a restaurant</td><td>Use 'Posso avere' for 'Can I have' and 'una birra' for 'a beer'.</td></tr><tr><td>standard question</td><td>Do you have any cocktails?</td><td>Avete cocktail?</td><td>null</td><td>2</td><td>Order in a restaurant</td><td>Use 'Avete' for 'Do you have' and 'cocktail' remains the same in Italian.</td></tr><tr><td>standard question</td><td>I want to conquer the world</td><td>Voglio conquistare il mondo</td><td>null</td><td>2</td><td>Introduce Yourself</td><td>Remember to use the first person singular present tense of 'volere' for 'I want' and the infinitive form of 'conquistare' for 'to conquer'.</td></tr><tr><td>standard question</td><td>How do you say 'world' in Italian?</td><td>mondo</td><td>null</td><td>1</td><td>Talk about family and friends</td><td>Translate the word 'world' into Italian, remembering that it is a masculine noun.</td></tr><tr><td>standard question</td><td>What is the Italian verb for 'to conquer'?</td><td>conquistare</td><td>null</td><td>1</td><td>Buy things in a store</td><td>Provide the infinitive form of the verb that means 'to conquer' in Italian.</td></tr><tr><td>standard question</td><td>I want to buy red roses.</td><td>Voglio comprare delle rose rosse.</td><td>null</td><td>2</td><td>Buy things in a store</td><td>Use 'Voglio' for 'I want', 'comprare' for 'to buy', and 'delle rose rosse' for 'some red roses'.</td></tr><tr><td>standard question</td><td>Can I have a bouquet of red roses, please?</td><td>Posso avere un mazzo di rose rosse, per favore?</td><td>null</td><td>2</td><td>Buy things in a store</td><td>Use 'Posso avere' for 'Can I have', 'un mazzo di' for 'a bouquet of', and 'per favore' for 'please'.</td></tr><tr><td>standard question</td><td>How much do the red roses cost?</td><td>Quanto costano le rose rosse?</td><td>null</td><td>1</td><td>Buy things in a store</td><td>Use 'Quanto costano' for 'How much do', and 'le rose rosse' for 'the red roses'.</td></tr><tr><td>standard question</td><td>I want to buy some paint for my house.</td><td>Voglio comprare della vernice per la mia casa.</td><td>null</td><td>2</td><td>Buy things in a store</td><td>Use 'Voglio' for 'I want', 'comprare' for 'to buy', and 'della vernice' for 'some paint'.</td></tr><tr><td>standard question</td><td>Do you sell paintbrushes here?</td><td>Vendete pennelli qui?</td><td>null</td><td>2</td><td>Buy things in a store</td><td>Use 'Vendete' for 'Do you sell', and 'pennelli' for 'paintbrushes'.</td></tr><tr><td>standard question</td><td>Can I have a color chart, please?</td><td>Posso avere una mazzetta colori, per favore?</td><td>null</td><td>2</td><td>Buy things in a store</td><td>Use 'Posso avere' for 'Can I have', and 'una mazzetta colori' for 'a color chart'.</td></tr><tr><td>standard question</td><td>Where is the nearest pharmacy?</td><td>Dov'è la farmacia più vicina?</td><td>null</td><td>1</td><td>Navigate a City</td><td>Remember that 'dov'è' is a contraction of 'dove è', which means 'where is'.</td></tr><tr><td>standard question</td><td>Is this the right way to the museum?</td><td>È questa la strada giusta per il museo?</td><td>null</td><td>1</td><td>Navigate a City</td><td>Note that 'È questa' means 'Is this' and 'la strada giusta' means 'the right way'.</td></tr><tr><td>standard question</td><td>Can I walk to the city square from here?</td><td>Posso andare a piedi in piazza da qui?</td><td>null</td><td>1</td><td>Navigate a City</td><td>Remember that 'andare a piedi' means 'to walk' and 'in piazza' refers to 'to the city square'.</td></tr><tr><td>standard question</td><td>Where is the nearest pharmacy?</td><td>Dove si trova la farmacia più vicina?</td><td>null</td><td>1</td><td>Navigate a City</td><td>Remember to use 'Dove si trova' for 'Where is' and 'la farmacia più vicina' for 'the nearest pharmacy'.</td></tr><tr><td>standard question</td><td>Is this the right bus for the Colosseum?</td><td>È questo l'autobus giusto per il Colosseo?</td><td>null</td><td>1</td><td>Navigate a City</td><td>Use 'È questo' for 'Is this' and 'l'autobus giusto per' for 'the right bus for'. 'Colosseum' remains 'Colosseo' in Italian.</td></tr><tr><td>standard question</td><td>How much is a subway ticket?</td><td>Quanto costa un biglietto della metropolitana?</td><td>null</td><td>1</td><td>Navigate a City</td><td>Use 'Quanto costa' for 'How much is' and 'un biglietto della metropolitana' for 'a subway ticket'.</td></tr><tr><td>standard question</td><td>I am from [___].</td><td>Sono di [___]</td><td>null</td><td>1</td><td>Introduce Yourself</td><td>To tell someone where you are from, use 'Sono di' followed by the name of the place.</td></tr><tr><td>standard question</td><td>I live in [___].</td><td>Vivo a [___]</td><td>null</td><td>1</td><td>Introduce Yourself</td><td>To say where you live, use 'Vivo a' followed by the name of the city or place.</td></tr><tr><td>standard question</td><td>I am [___] years old.</td><td>Ho [___] anni</td><td>null</td><td>1</td><td>Introduce Yourself</td><td>To state your age in Italian, use 'Ho' followed by your age and then 'anni'.</td></tr><tr><td>standard question</td><td>Where are you from?</td><td>Di dove sei?</td><td>null</td><td>1</td><td>Introduce Yourself</td><td>Use 'Di dove sei?' to ask someone where they are from. It literally means 'From where are you?'</td></tr><tr><td>standard question</td><td>I am from [___].</td><td>Sono di [___].</td><td>null</td><td>1</td><td>Introduce Yourself</td><td>To tell someone where you are from, say 'Sono di' followed by the name of the place. It means 'I am from'.</td></tr><tr><td>standard question</td><td>What do you do for a living?</td><td>Che lavoro fai?</td><td>null</td><td>1</td><td>Introduce Yourself</td><td>Ask someone about their profession by saying 'Che lavoro fai?'. It means 'What work do you do?'</td></tr><tr><td>standard question</td><td>My sister's name is Maria</td><td>Mia sorella si chiama Maria</td><td>null</td><td>1</td><td>Talk about family and friends</td><td>Remember to use 'si chiama' for 'is named/called'.</td></tr><tr><td>standard question</td><td>Do you have any siblings?</td><td>Hai fratelli o sorelle?</td><td>null</td><td>1</td><td>Talk about family and friends</td><td>Use 'fratelli' for brothers and 'sorelle' for sisters, and remember the word order in a question.</td></tr><tr><td>standard question</td><td>My best friend is very funny</td><td>Il mio migliore amico è molto divertente</td><td>null</td><td>1</td><td>Talk about family and friends</td><td>Remember to use 'migliore amico' for 'best friend' and 'molto' for 'very'.</td></tr><tr><td>standard question</td><td>How many children does your sister have?</td><td>Quanti figli ha tua sorella?</td><td>null</td><td>1</td><td>Talk about family and friends</td><td>Remember to use 'quanti' for 'how many' and 'tua sorella' for 'your sister'.</td></tr><tr><td>standard question</td><td>My best friend is very funny.</td><td>Il mio migliore amico è molto divertente.</td><td>null</td><td>1</td><td>Talk about family and friends</td><td>Use 'migliore amico' for 'best friend' and 'molto divertente' for 'very funny'.</td></tr><tr><td>standard question</td><td>We have a family reunion every year.</td><td>Abbiamo una riunione di famiglia ogni anno.</td><td>null</td><td>1</td><td>Talk about family and friends</td><td>Use 'riunione di famiglia' for 'family reunion' and 'ogni anno' for 'every year'.</td></tr><tr><td>standard question</td><td>Can we have some water, please?</td><td>Possiamo avere dell'acqua, per favore?</td><td>null</td><td>1</td><td>Order in a restaurant</td><td>Use 'possiamo avere' for 'can we have' and 'dell'acqua' for 'some water'.</td></tr><tr><td>standard question</td><td>Is there a vegetarian option?</td><td>C'è un'opzione vegetariana?</td><td>null</td><td>1</td><td>Order in a restaurant</td><td>Use 'C'è' for 'Is there' and 'un'opzione vegetariana' for 'a vegetarian option'.</td></tr><tr><td>standard question</td><td>Could I see the dessert menu, please?</td><td>Potrei vedere il menù dei dolci, per favore?</td><td>null</td><td>1</td><td>Order in a restaurant</td><td>Use 'Potrei vedere' for 'Could I see' and 'il menù dei dolci' for 'the dessert menu'.</td></tr><tr><td>standard question</td><td>Can I have the bill, please?</td><td>Il conto, per favore</td><td>null</td><td>1</td><td>Order in a restaurant</td><td>Use 'Il conto' for 'the bill' and 'per favore' for 'please'.</td></tr><tr><td>standard question</td><td>Is there a table available for two?</td><td>C'è un tavolo disponibile per due?</td><td>null</td><td>1</td><td>Order in a restaurant</td><td>Use 'C'è un tavolo' for 'Is there a table' and 'disponibile per due' for 'available for two'.</td></tr><tr><td>standard question</td><td>Do you have vegetarian options?</td><td>Avete opzioni vegetariane?</td><td>null</td><td>1</td><td>Order in a restaurant</td><td>Use 'Avete' for 'Do you have' and 'opzioni vegetariane' for 'vegetarian options'.</td></tr><tr><td>standard question</td><td>How much does this cost?</td><td>Quanto costa questo?</td><td>null</td><td>1</td><td>Buy things in a store</td><td>Use 'Quanto costa' for 'How much does' and 'questo' for 'this'.</td></tr><tr><td>standard question</td><td>Can I pay with a credit card?</td><td>Posso pagare con carta di credito?</td><td>null</td><td>1</td><td>Buy things in a store</td><td>Use 'Posso pagare' for 'Can I pay' and 'con carta di credito' for 'with a credit card'.</td></tr><tr><td>standard question</td><td>Do you have this in a larger size?</td><td>Avete questo in una taglia più grande?</td><td>null</td><td>1</td><td>Buy things in a store</td><td>Use 'Avete' for 'Do you have', 'questo' for 'this', and 'in una taglia più grande' for 'in a larger size'.</td></tr><tr><td>standard question</td><td>How much does this cost?</td><td>Quanto costa questo?</td><td>null</td><td>1</td><td>Buy things in a store</td><td>Use 'Quanto costa' for 'How much does' and 'questo' for 'this'.</td></tr><tr><td>standard question</td><td>Can I pay with a credit card?</td><td>Posso pagare con carta di credito?</td><td>null</td><td>1</td><td>Buy things in a store</td><td>Use 'Posso pagare' for 'Can I pay' and 'con carta di credito' for 'with a credit card'.</td></tr><tr><td>standard question</td><td>Do you have this in a smaller size?</td><td>Avete questo in una taglia più piccola?</td><td>null</td><td>1</td><td>Buy things in a store</td><td>Use 'Avete' for 'Do you have', 'questo' for 'this', and 'in una taglia più piccola' for 'in a smaller size'.</td></tr><tr><td>standard question</td><td>Could you show me where the organic products section is?</td><td>Potrebbe mostrarmi dove si trova la sezione dei prodotti biologici?</td><td>null</td><td>5</td><td>Buy things in a store</td><td>Use 'Potrebbe mostrarmi' for 'Could you show me', and 'dove si trova' for 'where is'. Remember that 'prodotti biologici' means 'organic products'.</td></tr><tr><td>standard question</td><td>I'm looking for a limited edition watch, do you carry any?</td><td>Sto cercando un orologio in edizione limitata, ne avete?</td><td>null</td><td>5</td><td>Buy things in a store</td><td>Use 'Sto cercando' for 'I'm looking for', and 'ne avete' for 'do you carry any'. 'Orologio in edizione limitata' is 'limited edition watch'.</td></tr><tr><td>standard question</td><td>Is it possible to place a special order for a product that is not currently in stock?</td><td>È possibile fare un ordine speciale per un prodotto che non è attualmente disponibile?</td><td>null</td><td>5</td><td>Buy things in a store</td><td>Use 'È possibile fare' for 'Is it possible to place', and 'un ordine speciale' for 'a special order'. 'Prodotto che non è attualmente disponibile' means 'product that is not currently in stock'.</td></tr><tr><td>standard question</td><td>Could you show me where the organic products section is?</td><td>Potrebbe mostrarmi dove si trova la sezione dei prodotti biologici?</td><td>null</td><td>5</td><td>Buy things in a store</td><td>Use 'Potrebbe mostrarmi' for 'Could you show me', and 'dove si trova' for 'where is'. Remember that 'prodotti biologici' means 'organic products'.</td></tr><tr><td>standard question</td><td>I'm looking for a limited edition perfume, do you carry it?</td><td>Sto cercando un profumo in edizione limitata, lo tenete?</td><td>null</td><td>5</td><td>Buy things in a store</td><td>Use 'Sto cercando' for 'I'm looking for', and 'in edizione limitata' for 'limited edition'. 'Lo tenete?' means 'do you carry it?'.</td></tr><tr><td>standard question</td><td>Is there a possibility to custom order a piece of jewelry?</td><td>C'è la possibilità di ordinare su misura un pezzo di gioielleria?</td><td>null</td><td>5</td><td>Buy things in a store</td><td>Use 'C'è la possibilità' for 'Is there a possibility', and 'ordinare su misura' for 'custom order'. 'Un pezzo di gioielleria' means 'a piece of jewelry'.</td></tr><tr><td>standard question</td><td>I have been learning Italian for several years and I'm fluent in it.</td><td>Studio l'italiano da diversi anni e lo parlo correntemente.</td><td>null</td><td>5</td><td>Introduce Yourself</td><td>Remember to use the present tense 'studio' for ongoing actions and 'da' for 'for' when indicating a period of time. 'Correntemente' is used for 'fluently'.</td></tr><tr><td>standard question</td><td>Apart from my native language, I can also speak two other foreign languages.</td><td>Oltre alla mia lingua madre, parlo anche altre due lingue straniere.</td><td>null</td><td>5</td><td>Introduce Yourself</td><td>Use 'oltre a' to express 'apart from' and 'anche' for 'also'. Remember to use the plural form 'lingue straniere' for 'foreign languages'.</td></tr><tr><td>standard question</td><td>I have a passion for Italian culture and literature, which inspired me to study the language.</td><td>Ho una passione per la cultura e la letteratura italiana, che mi ha ispirato a studiare la lingua.</td><td>null</td><td>5</td><td>Introduce Yourself</td><td>Use 'Ho una passione per' to express 'I have a passion for'. 'Che' is a relative pronoun that connects the clause to 'cultura e letteratura italiana'.</td></tr><tr><td>standard question</td><td>Could you recommend a less touristy neighborhood to explore?</td><td>Potrebbe consigliarmi un quartiere meno turistico da esplorare?</td><td>null</td><td>5</td><td>Navigate a City</td><td>Use 'Potrebbe consigliarmi' for formal 'Could you recommend' and 'meno turistico' for 'less touristy'.</td></tr><tr><td>standard question</td><td>Is it safe to wander around this area at night?</td><td>È sicuro girovagare in questa zona di notte?</td><td>null</td><td>5</td><td>Navigate a City</td><td>Remember to use 'È sicuro' for 'Is it safe' and 'girovagare' for 'to wander around'.</td></tr><tr><td>standard question</td><td>What's the historical significance of this monument?</td><td>Qual è il significato storico di questo monumento?</td><td>null</td><td>5</td><td>Navigate a City</td><td>Use 'Qual è' for 'What's' and 'significato storico' for 'historical significance'.</td></tr><tr><td>standard question</td><td>My cousin and I share the same passion for classical music.</td><td>Mio cugino e io condividiamo la stessa passione per la musica classica.</td><td>null</td><td>5</td><td>Talk about family and friends</td><td>Remember to use 'condividiamo' for 'share' and 'la stessa passione' for 'the same passion'.</td></tr><tr><td>standard question</td><td>My best friend's sense of humor always brightens up our gatherings.</td><td>Il senso dell'umorismo del mio migliore amico illumina sempre i nostri incontri.</td><td>null</td><td>5</td><td>Talk about family and friends</td><td>Use 'senso dell'umorismo' for 'sense of humor' and 'illumina sempre' for 'always brightens up'.</td></tr><tr><td>standard question</td><td>During our family dinners, we often reminisce about our childhood adventures.</td><td>Durante le nostre cene in famiglia, spesso ricordiamo le avventure della nostra infanzia.</td><td>null</td><td>5</td><td>Talk about family and friends</td><td>Use 'ricordiamo' for 'reminisce' and 'le avventure della nostra infanzia' for 'our childhood adventures'.</td></tr><tr><td>standard question</td><td>Could you recommend a local specialty?</td><td>Potrebbe consigliarmi una specialità locale?</td><td>null</td><td>5</td><td>Order in a restaurant</td><td>Use 'Potrebbe consigliarmi' for 'Could you recommend' and 'una specialità locale' for 'a local specialty'.</td></tr><tr><td>standard question</td><td>I have certain dietary restrictions, can you accommodate them?</td><td>Ho alcune restrizioni alimentari, potete tenerne conto?</td><td>null</td><td>5</td><td>Order in a restaurant</td><td>Use 'Ho alcune restrizioni alimentari' for 'I have certain dietary restrictions' and 'potete tenerne conto?' for 'can you accommodate them?'.</td></tr><tr><td>standard question</td><td>Is this dish served with any side dishes?</td><td>Questo piatto è servito con contorni?</td><td>null</td><td>5</td><td>Order in a restaurant</td><td>Use 'Questo piatto' for 'this dish', 'è servito' for 'is served', and 'con contorni?' for 'with any side dishes?'.</td></tr><tr><td>standard question</td><td>Could you show me where the organic products section is?</td><td>Potrebbe mostrarmi dove si trova la sezione dei prodotti biologici?</td><td>null</td><td>5</td><td>Buy things in a store</td><td>Use 'Potrebbe mostrarmi' for 'Could you show me', and 'dove si trova' for 'where is'. Remember that 'prodotti biologici' means 'organic products'.</td></tr><tr><td>standard question</td><td>I'm looking for a limited edition fragrance, do you carry it?</td><td>Sto cercando un profumo in edizione limitata, lo tenete?</td><td>null</td><td>5</td><td>Buy things in a store</td><td>Use 'Sto cercando' for 'I'm looking for', and 'in edizione limitata' for 'limited edition'. 'Lo tenete?' is asking 'do you carry it?'.</td></tr><tr><td>standard question</td><td>Is there a discount if I purchase multiple items?</td><td>C'è uno sconto se acquisto più articoli?</td><td>null</td><td>5</td><td>Buy things in a store</td><td>Use 'C'è uno sconto' for 'Is there a discount' and 'se acquisto' for 'if I purchase'. 'Più articoli' means 'multiple items'.</td></tr><tr><td>standard question</td><td>In my free time, I enjoy writing poetry and exploring the nuances of the Italian language.</td><td>Nel mio tempo libero, mi piace scrivere poesie ed esplorare le sfumature della lingua italiana.</td><td>null</td><td>5</td><td>Introduce Yourself</td><td>Use 'Nel mio tempo libero' for 'In my free time', 'mi piace' for 'I enjoy', and 'ed esplorare' for 'and exploring'. Remember to maintain the subjunctive where appropriate.</td></tr><tr><td>standard question</td><td>I have been practicing the violin for over a decade, which has become a significant part of my identity.</td><td>Suono il violino da oltre un decennio, il che è diventato una parte significativa della mia identità.</td><td>null</td><td>5</td><td>Introduce Yourself</td><td>Use 'Suono il violino' for 'I have been practicing the violin', 'da oltre un decennio' for 'for over a decade', and 'il che è diventato' for 'which has become'.</td></tr><tr><td>standard question</td><td>I am passionate about underwater photography and the preservation of marine ecosystems.</td><td>Sono appassionato di fotografia subacquea e della conservazione degli ecosistemi marini.</td><td>null</td><td>5</td><td>Introduce Yourself</td><td>Use 'Sono appassionato di' for 'I am passionate about', and remember to include 'della conservazione' for 'the preservation of'.</td></tr><tr><td>standard question</td><td>Could you give me directions to the nearest pharmacy?</td><td>Potrebbe darmi indicazioni per la farmacia più vicina?</td><td>null</td><td>5</td><td>Navigate a City</td><td>Use 'Potrebbe darmi indicazioni' for 'Could you give me directions' and 'la farmacia più vicina' for 'the nearest pharmacy'.</td></tr><tr><td>standard question</td><td>I seem to be lost, can you help me find this address?</td><td>Mi sono perso, può aiutarmi a trovare questo indirizzo?</td><td>null</td><td>5</td><td>Navigate a City</td><td>Remember to use 'Mi sono perso' for 'I seem to be lost' and 'può aiutarmi a trovare' for 'can you help me find'.</td></tr><tr><td>standard question</td><td>Is there a landmark nearby that I can use to orient myself?</td><td>C'è un punto di riferimento nelle vicinanze che posso usare per orientarmi?</td><td>null</td><td>5</td><td>Navigate a City</td><td>Use 'C'è un punto di riferimento nelle vicinanze' for 'Is there a landmark nearby' and 'posso usare per orientarmi' for 'I can use to orient myself'.</td></tr><tr><td>standard question</td><td>In our extended family, we have over twenty cousins, aunts, and uncles combined.</td><td>Nella nostra famiglia allargata, abbiamo più di venti tra cugini, zii e zie.</td><td>null</td><td>5</td><td>Talk about family and friends</td><td>Use 'nella nostra famiglia allargata' for 'in our extended family', 'abbiamo' for 'we have', 'più di venti' for 'over twenty', and 'tra cugini, zii e zie' for 'cousins, aunts, and uncles combined'.</td></tr><tr><td>standard question</td><td>My great-grandparents immigrated to Italy, which is why we have such a diverse heritage.</td><td>I miei bisnonni sono emigrati in Italia, il che spiega perché abbiamo un'eredità così diversificata.</td><td>null</td><td>5</td><td>Talk about family and friends</td><td>Use 'i miei bisnonni' for 'my great-grandparents', 'sono emigrati in Italia' for 'immigrated to Italy', and 'il che spiega perché abbiamo un'eredità così diversificata' for 'which is why we have such a diverse heritage'.</td></tr><tr><td>standard question</td><td>Among my siblings, I am the only one who pursued a career in the arts.</td><td>Tra i miei fratelli, sono l'unico che ha intrapreso una carriera artistica.</td><td>null</td><td>5</td><td>Talk about family and friends</td><td>Use 'tra i miei fratelli' for 'among my siblings', 'sono l'unico' for 'I am the only one', and 'ha intrapreso una carriera artistica' for 'pursued a career in the arts'.</td></tr><tr><td>standard question</td><td>Could you recommend a local specialty?</td><td>Potrebbe consigliarmi una specialità locale?</td><td>null</td><td>5</td><td>Order in a restaurant</td><td>Use 'Potrebbe consigliarmi' for 'Could you recommend' and 'una specialità locale' for 'a local specialty'. Remember to maintain formal address ('Potrebbe' instead of 'Potresti') as it is a restaurant setting.</td></tr><tr><td>standard question</td><td>I have dietary restrictions, can you point out suitable dishes?</td><td>Ho delle restrizioni alimentari, può indicarmi dei piatti adatti?</td><td>null</td><td>5</td><td>Order in a restaurant</td><td>Use 'Ho delle restrizioni alimentari' for 'I have dietary restrictions' and 'può indicarmi dei piatti adatti?' for 'can you point out suitable dishes?'. Maintain formal address with 'può' instead of 'puoi'.</td></tr><tr><td>standard question</td><td>I'm having trouble deciding, what do you suggest between these two dishes?</td><td>Sto avendo difficoltà a decidere, cosa suggerisce tra questi due piatti?</td><td>null</td><td>5</td><td>Order in a restaurant</td><td>Use 'Sto avendo difficoltà a decidere' for 'I'm having trouble deciding' and 'cosa suggerisce tra questi due piatti?' for 'what do you suggest between these two dishes?'. Keep the formal 'suggerisce' for 'suggest'.</td></tr><tr><td>standard question</td><td>I'm looking for a unique gift for my friend who appreciates Italian fashion. Could you recommend something?</td><td>Sto cercando un regalo unico per un mio amico che apprezza la moda italiana. Potreste consigliarmi qualcosa?</td><td>null</td><td>5</td><td>Buy things in a store</td><td>Use 'sto cercando' for 'I'm looking for', 'un regalo unico' for 'a unique gift', and 'potreste consigliarmi' for 'could you recommend'. Remember to adjust the possessive 'mio' to match the gender of 'amico' if needed.</td></tr><tr><td>standard question</td><td>I would like to find a bookstore that sells rare editions for my literature enthusiast friend.</td><td>Vorrei trovare una libreria che venda edizioni rare per il mio amico appassionato di letteratura.</td><td>null</td><td>5</td><td>Buy things in a store</td><td>Use 'vorrei trovare' for 'I would like to find', 'una libreria' for 'a bookstore', and 'che venda edizioni rare' for 'that sells rare editions'. Include 'per il mio amico appassionato di letteratura' to specify the gift is for a friend who loves literature.</td></tr><tr><td>standard question</td><td>Could you suggest a local artisan who can craft a personalized gift for my friend's birthday?</td><td>Potreste suggerirmi un artigiano locale che possa creare un regalo personalizzato per il compleanno del mio amico?</td><td>null</td><td>5</td><td>Buy things in a store</td><td>Use 'potreste suggerirmi' for 'could you suggest', 'un artigiano locale' for 'a local artisan', and 'che possa creare un regalo personalizzato' for 'who can craft a personalized gift'. Remember to use 'per il compleanno del mio amico' to indicate the occasion.</td></tr><tr><td>standard question</td><td>Can you show me where the jackets are?</td><td>Mi può mostrare dove sono i giubbotti?</td><td>null</td><td>2</td><td>Buy things in a store</td><td>Use 'Mi può mostrare' for 'Can you show me', 'dove' for 'where', and 'i giubbotti' for 'the jackets'.</td></tr><tr><td>standard question</td><td>How much does this jacket cost?</td><td>Quanto costa questo giubbotto?</td><td>null</td><td>2</td><td>Buy things in a store</td><td>Use 'Quanto costa' for 'How much does', and 'questo giubbotto' for 'this jacket'.</td></tr><tr><td>standard question</td><td>Do you have this jacket in a larger size?</td><td>Ha questo giubbotto in una taglia più grande?</td><td>null</td><td>2</td><td>Buy things in a store</td><td>Use 'Ha' for 'Do you have', 'questo giubbotto' for 'this jacket', and 'in una taglia più grande' for 'in a larger size'.</td></tr><tr><td>standard question</td><td>Could you explain the different types of train tickets available?</td><td>Potrebbe spiegare i diversi tipi di biglietti del treno disponibili?</td><td>null</td><td>5</td><td>Buy things in a store</td><td>Use 'Potrebbe' for 'Could you' in a formal request, 'spiegare' for 'explain', and 'diversi tipi di biglietti del treno' for 'different types of train tickets'.</td></tr><tr><td>standard question</td><td>I would like to reserve a seat by the window on the next high-speed train to Milan.</td><td>Vorrei prenotare un posto finestrino sul prossimo treno ad alta velocità per Milano.</td><td>null</td><td>5</td><td>Buy things in a store</td><td>Use 'Vorrei' for 'I would like', 'prenotare' for 'to reserve', 'un posto finestrino' for 'a seat by the window', and 'treno ad alta velocità' for 'high-speed train'.</td></tr><tr><td>standard question</td><td>Is there a discount for purchasing round-trip tickets in advance?</td><td>C'è uno sconto per l'acquisto di biglietti andata e ritorno in anticipo?</td><td>null</td><td>5</td><td>Buy things in a store</td><td>Use 'C'è' for 'Is there', 'uno sconto' for 'a discount', 'per l'acquisto di' for 'for purchasing', and 'biglietti andata e ritorno' for 'round-trip tickets'.</td></tr><tr><td>standard question</td><td>Could you explain the different types of train tickets available?</td><td>Potrebbe spiegare i diversi tipi di biglietti del treno disponibili?</td><td>null</td><td>5</td><td>Buy things in a store</td><td>Use 'Potrebbe' for 'Could you' as a formal request, 'spiegare' for 'explain', and 'diversi tipi di biglietti del treno' for 'different types of train tickets'.</td></tr><tr><td>standard question</td><td>I would like to reserve a seat by the window in a non-smoking compartment, please.</td><td>Vorrei prenotare un posto vicino al finestrino in uno scompartimento non fumatori, per favore.</td><td>null</td><td>5</td><td>Buy things in a store</td><td>Use 'Vorrei' for 'I would like', 'prenotare' for 'to reserve', 'posto vicino al finestrino' for 'seat by the window', and 'scompartimento non fumatori' for 'non-smoking compartment'.</td></tr><tr><td>standard question</td><td>Is there a discount for purchasing round-trip tickets?</td><td>C'è uno sconto per l'acquisto di biglietti andata e ritorno?</td><td>null</td><td>5</td><td>Buy things in a store</td><td>Use 'C'è' for 'Is there', 'uno sconto' for 'a discount', and 'biglietti andata e ritorno' for 'round-trip tickets'.</td></tr><tr><td>standard question</td><td>I need to purchase two tickets to Madrid for next Monday; could you recommend the best train connection?</td><td>Devo acquistare due biglietti per Madrid per lunedì prossimo; potrebbe consigliarmi il miglior collegamento ferroviario?</td><td>null</td><td>5</td><td>Buy things in a store</td><td>Use 'Devo' for 'I need to', 'acquistare' for 'purchase', and 'biglietti per' for 'tickets to'. Remember to use the conditional 'potrebbe consigliarmi' for 'could you recommend' and 'il miglior collegamento ferroviario' for 'the best train connection'.</td></tr><tr><td>standard question</td><td>Could you apply a discount if I buy two round-trip tickets to Madrid?</td><td>Potrebbe applicare uno sconto se acquisto due biglietti andata e ritorno per Madrid?</td><td>null</td><td>5</td><td>Buy things in a store</td><td>Use 'Potrebbe' for 'Could you', 'applicare' for 'apply', 'uno sconto' for 'a discount', and 'se acquisto' for 'if I buy'. 'Due biglietti andata e ritorno' means 'two round-trip tickets'.</td></tr><tr><td>standard question</td><td>I'm looking for a travel agency that can help me with purchasing two tickets to Madrid; do you know where I can find one?</td><td>Sto cercando un'agenzia di viaggi che possa aiutarmi ad acquistare due biglietti per Madrid; sa dove posso trovarne una?</td><td>null</td><td>5</td><td>Buy things in a store</td><td>Use 'Sto cercando' for 'I'm looking for', 'un'agenzia di viaggi' for 'a travel agency', 'che possa aiutarmi' for 'that can help me', and 'ad acquistare' for 'with purchasing'. 'Sa dove posso trovarne una?' means 'do you know where I can find one?'.</td></tr><tr><td>standard question</td><td>I would like to book a table for two at 8 PM tonight, is it possible?</td><td>Vorrei prenotare un tavolo per due alle 20 di stasera, è possibile?</td><td>null</td><td>5</td><td>Order in a restaurant</td><td>Use 'Vorrei prenotare' for 'I would like to book', 'un tavolo per due' for 'a table for two', 'alle 20' for 'at 8 PM', and 'di stasera' for 'tonight'.</td></tr><tr><td>standard question</td><td>Could you please accommodate a party of six at 7:30 PM, preferably by the window?</td><td>Potreste ospitare un gruppo di sei persone alle 19:30, preferibilmente vicino alla finestra?</td><td>null</td><td>5</td><td>Order in a restaurant</td><td>Use 'Potreste ospitare' for 'Could you please accommodate', 'un gruppo di sei persone' for 'a party of six', 'alle 19:30' for 'at 7:30 PM', and 'preferibilmente vicino alla finestra' for 'preferably by the window'.</td></tr><tr><td>standard question</td><td>I have a reservation under the name Rossi for 9 PM, could we have a quiet table away from the entrance?</td><td>Ho una prenotazione a nome Rossi per le 21, potremmo avere un tavolo tranquillo lontano dall'ingresso?</td><td>null</td><td>5</td><td>Order in a restaurant</td><td>Use 'Ho una prenotazione' for 'I have a reservation', 'a nome Rossi' for 'under the name Rossi', 'per le 21' for 'for 9 PM', and 'potremmo avere un tavolo tranquillo lontano dall'ingresso' for 'could we have a quiet table away from the entrance'.</td></tr><tr><td>standard question</td><td>I want to discuss the security systems in homes.</td><td>Voglio discutere dei sistemi di sicurezza nelle abitazioni.</td><td>null</td><td>5</td><td>Introduce Yourself</td><td>Use 'Voglio' for 'I want', 'discutere' for 'to discuss', and 'dei sistemi di sicurezza' for 'the security systems'.</td></tr><tr><td>standard question</td><td>I'm interested in the architecture of residential buildings.</td><td>Mi interessa l'architettura degli edifici residenziali.</td><td>null</td><td>5</td><td>Navigate a City</td><td>Use 'Mi interessa' for 'I'm interested in', and 'l'architettura degli edifici residenziali' for 'the architecture of residential buildings'.</td></tr><tr><td>standard question</td><td>Could you recommend a locksmith?</td><td>Potresti consigliarmi un fabbro?</td><td>null</td><td>5</td><td>Buy things in a store</td><td>Use 'Potresti' for 'Could you', 'consigliarmi' for 'recommend', and 'un fabbro' for 'a locksmith'.</td></tr><tr><td>standard question</td><td>I'm considering adopting a pet, could you tell me about the adoption process?</td><td>Sto considerando di adottare un animale domestico, potrebbe spiegarmi il processo di adozione?</td><td>null</td><td>5</td><td>Buy things in a store</td><td>Use 'Sto considerando' for 'I'm considering', 'di adottare' for 'to adopt', and 'potrebbe spiegarmi' for 'could you tell me'. Remember to maintain the formal tone by using 'potrebbe' instead of 'puoi'.</td></tr><tr><td>standard question</td><td>I would like to inquire about the necessary vaccinations for a new puppy.</td><td>Vorrei informarmi sulle vaccinazioni necessarie per un cucciolo appena adottato.</td><td>null</td><td>5</td><td>Buy things in a store</td><td>Use 'Vorrei informarmi' for 'I would like to inquire', 'sulle vaccinazioni necessarie' for 'about the necessary vaccinations', and 'per un cucciolo appena adottato' for 'for a new puppy'.</td></tr><tr><td>standard question</td><td>Do you offer any guidance or training for first-time pet owners?</td><td>Offrite qualche guida o addestramento per i proprietari di animali alla prima esperienza?</td><td>null</td><td>5</td><td>Buy things in a store</td><td>Use 'Offrite' for 'Do you offer', 'qualche guida o addestramento' for 'any guidance or training', and 'per i proprietari di animali alla prima esperienza' for 'for first-time pet owners'.</td></tr><tr><td>standard question</td><td>My girlfriend is afraid of cats, so we have to be careful when we visit friends with pets.</td><td>La mia ragazza ha paura dei gatti, quindi dobbiamo stare attenti quando visitiamo amici con animali domestici.</td><td>null</td><td>5</td><td>Talk about family and friends</td><td>Remember to use the correct form of 'to be afraid' (avere paura) and the plural form of 'cats' (gatti). Also, translate 'we have to be careful' accurately, considering the necessity and the reflexive construction in Italian.</td></tr><tr><td>standard question</td><td>Whenever we see a cat, she clings to me out of fear.</td><td>Ogni volta che vediamo un gatto, si aggrappa a me per la paura.</td><td>null</td><td>5</td><td>Talk about family and friends</td><td>Pay attention to the reflexive verb 'to cling' (aggrapparsi) and the preposition 'out of' which translates to 'per' in this context.</td></tr><tr><td>standard question</td><td>I'm trying to help her overcome her fear of cats by gradually getting her used to being around them.</td><td>Sto cercando di aiutarla a superare la sua paura dei gatti abituandola gradualmente a stare in loro presenza.</td><td>null</td><td>5</td><td>Talk about family and friends</td><td>Use the gerund form of 'trying' (cercando) and the infinitive 'to help' (aiutare). Also, include the phrase 'to get used to' (abituarsi) and 'gradually' (gradualmente).</td></tr><tr><td>standard question</td><td>I aspire to embody the grace and independence of a cat in my daily life.</td><td>Aspiro ad incarnare la grazia e l'indipendenza di un gatto nella mia vita quotidiana.</td><td>null</td><td>5</td><td>Introduce Yourself</td><td>Use 'aspiro' for 'I aspire', 'ad incarnare' for 'to embody', and remember to use the definite article 'un' before 'gatto'.</td></tr><tr><td>standard question</td><td>Discussing the philosophical implications of desiring to transform into a cat could be quite intriguing.</td><td>Discutere le implicazioni filosofiche del desiderio di trasformarsi in un gatto potrebbe essere molto intrigante.</td><td>null</td><td>5</td><td>Introduce Yourself</td><td>Use 'discutere' for 'discussing', 'le implicazioni filosofiche' for 'the philosophical implications', and 'del desiderio di trasformarsi' for 'of desiring to transform'.</td></tr><tr><td>standard question</td><td>If I were to become a cat, I would spend my days basking in the sun and exploring rooftops.</td><td>Se diventassi un gatto, passerei le mie giornate a crogiolarmi al sole ed esplorare i tetti.</td><td>null</td><td>5</td><td>Introduce Yourself</td><td>Use the imperfect subjunctive 'diventassi' for 'were to become', 'passerei' for 'I would spend', and 'a crogiolarmi' for 'basking'.</td></tr><tr><td>standard question</td><td>I am lost and do not know how to get back home. Could you assist me?</td><td>Mi sono perso e non so come tornare a casa. Potrebbe aiutarmi?</td><td>null</td><td>5</td><td>Navigate a City</td><td>Use 'Mi sono perso' for 'I am lost', 'non so come' for 'do not know how to', and 'tornare a casa' for 'get back home'.</td></tr><tr><td>standard question</td><td>I've lost my bearings and need directions to my residence, can you guide me?</td><td>Ho perso l'orientamento e ho bisogno di indicazioni per la mia residenza, può guidarmi?</td><td>null</td><td>5</td><td>Navigate a City</td><td>Remember to use 'Ho perso l'orientamento' for 'I've lost my bearings', 'ho bisogno di indicazioni' for 'need directions', and 'per la mia residenza' for 'to my residence'.</td></tr><tr><td>standard question</td><td>I'm disoriented and can't find my way back, could you point me in the right direction?</td><td>Sono disorientato e non riesco a trovare la strada di ritorno, potrebbe indicarmi la direzione giusta?</td><td>null</td><td>5</td><td>Navigate a City</td><td>Use 'Sono disorientato' for 'I'm disoriented', 'non riesco a trovare' for 'can't find', and 'la strada di ritorno' for 'my way back'.</td></tr><tr><td>standard question</td><td>Could you recommend a pasta dish that includes broccoli?</td><td>Potrebbe consigliarmi un piatto di pasta che includa il broccolo?</td><td>null</td><td>5</td><td>Order in a restaurant</td><td>Use 'Potrebbe consigliarmi' for 'Could you recommend' and 'un piatto di pasta che includa il broccolo' for 'a pasta dish that includes broccoli'.</td></tr><tr><td>standard question</td><td>I'm looking for a specialty store that sells high-quality Italian pasta and fresh broccoli.</td><td>Sto cercando un negozio specializzato che venda pasta italiana di alta qualità e broccolo fresco.</td><td>null</td><td>5</td><td>Buy things in a store</td><td>Use 'Sto cercando' for 'I'm looking for', 'un negozio specializzato che venda' for 'a specialty store that sells', and 'pasta italiana di alta qualità e broccolo fresco' for 'high-quality Italian pasta and fresh broccoli'.</td></tr><tr><td>standard question</td><td>What's the best way to retain the bright green color of broccoli when making pasta?</td><td>Qual è il modo migliore per mantenere il colore verde brillante del broccolo durante la preparazione della pasta?</td><td>null</td><td>5</td><td>Order in a restaurant</td><td>Use 'Qual è il modo migliore' for 'What's the best way', 'per mantenere' for 'to retain', 'il colore verde brillante del broccolo' for 'the bright green color of broccoli', and 'durante la preparazione della pasta' for 'when making pasta'.</td></tr><tr><td>standard question</td><td>I would like to order a non-alcoholic cocktail, please.</td><td>Vorrei ordinare un cocktail analcolico, per favore.</td><td>null</td><td>5</td><td>Order in a restaurant</td><td>Use 'Vorrei ordinare' for 'I would like to order' and 'un cocktail analcolico' for 'a non-alcoholic cocktail'. Remember to maintain the polite form by adding 'per favore' at the end.</td></tr><tr><td>standard question</td><td>Could you suggest a refreshing mocktail for this evening?</td><td>Potrebbe suggerirmi un mocktail rinfrescante per questa sera?</td><td>null</td><td>5</td><td>Order in a restaurant</td><td>Use 'Potrebbe suggerirmi' for 'Could you suggest' and 'un mocktail rinfrescante' for 'a refreshing mocktail'. 'Per questa sera' translates to 'for this evening'.</td></tr><tr><td>standard question</td><td>I'm interested in trying a local mocktail, what do you recommend?</td><td>Sono interessato a provare un mocktail locale, cosa mi raccomanda?</td><td>null</td><td>5</td><td>Order in a restaurant</td><td>Use 'Sono interessato a provare' for 'I'm interested in trying' and 'un mocktail locale' for 'a local mocktail'. 'Cosa mi raccomanda?' is 'what do you recommend?'.</td></tr><tr><td>standard question</td><td>I want to order a pizza with broccoli and no cheese.</td><td>Vorrei ordinare una pizza con broccoli e senza formaggio.</td><td>null</td><td>5</td><td>Order in a restaurant</td><td>Use 'vorrei ordinare' for 'I want to order', 'con broccoli' for 'with broccoli', and 'senza formaggio' for 'no cheese'.</td></tr><tr><td>standard question</td><td>Could you substitute the tomato sauce with pesto on my broccoli pizza?</td><td>Potreste sostituire la salsa di pomodoro con il pesto sulla mia pizza con broccoli?</td><td>null</td><td>5</td><td>Order in a restaurant</td><td>Use 'potreste sostituire' for 'could you substitute', 'la salsa di pomodoro' for 'the tomato sauce', 'con il pesto' for 'with pesto', and 'sulla mia pizza con broccoli' for 'on my broccoli pizza'.</td></tr><tr><td>standard question</td><td>I have a preference for thin crust on my broccoli pizza, is that possible?</td><td>Ho una preferenza per la base sottile sulla mia pizza con broccoli, è possibile?</td><td>null</td><td>5</td><td>Order in a restaurant</td><td>Use 'Ho una preferenza per' for 'I have a preference for', 'la base sottile' for 'thin crust', 'sulla mia pizza con broccoli' for 'on my broccoli pizza', and 'è possibile?' for 'is that possible?'.</td></tr><tr><td>standard question</td><td>I would like a pizza with broccoli, but could you please use buffalo mozzarella?</td><td>Vorrei una pizza con broccoli, ma potreste utilizzare mozzarella di bufala, per favore?</td><td>null</td><td>5</td><td>Order in a restaurant</td><td>Use 'Vorrei' for 'I would like', 'con broccoli' for 'with broccoli', and 'potreste utilizzare mozzarella di bufala' for 'could you please use buffalo mozzarella'. Remember to maintain politeness by adding 'per favore' at the end.</td></tr><tr><td>standard question</td><td>I'm allergic to gluten, can I have a broccoli pizza on a gluten-free base?</td><td>Sono allergico al glutine, posso avere una pizza con broccoli su una base senza glutine?</td><td>null</td><td>5</td><td>Order in a restaurant</td><td>Use 'Sono allergico al glutine' for 'I'm allergic to gluten', 'posso avere' for 'can I have', 'una pizza con broccoli' for 'a broccoli pizza', and 'su una base senza glutine' for 'on a gluten-free base'.</td></tr><tr><td>standard question</td><td>Instead of broccoli, can you add artichokes to my pizza?</td><td>Invece di broccoli, potete aggiungere carciofi alla mia pizza?</td><td>null</td><td>5</td><td>Order in a restaurant</td><td>Use 'Invece di' for 'Instead of', 'potete aggiungere' for 'can you add', and 'carciofi' for 'artichokes'.</td></tr><tr><td>standard question</td><td>I want to buy a high-quality leather bag.</td><td>Voglio comprare una borsa in pelle di alta qualità.</td><td>null</td><td>5</td><td>Buy things in a store</td><td>Use 'voglio comprare' for 'I want to buy', 'una borsa' for 'a bag', and 'in pelle di alta qualità' for 'high-quality leather'.</td></tr><tr><td>standard question</td><td>Could you show me some Italian leather bags?</td><td>Potrebbe mostrarmi alcune borse in pelle italiane?</td><td>null</td><td>5</td><td>Buy things in a store</td><td>Use 'Potrebbe mostrarmi' for 'Could you show me', and 'alcune borse in pelle italiane' for 'some Italian leather bags'.</td></tr><tr><td>standard question</td><td>I'm interested in the craftsmanship of this leather bag.</td><td>Sono interessato alla fattura artigianale di questa borsa in pelle.</td><td>null</td><td>5</td><td>Buy things in a store</td><td>Use 'Sono interessato' for 'I'm interested in', and 'alla fattura artigianale di questa borsa in pelle' for 'the craftsmanship of this leather bag'.</td></tr><tr><td>standard question</td><td>Could you make a vegan pizza with pineapple, but without tomato sauce?</td><td>Potreste fare una pizza vegana con ananas, ma senza salsa di pomodoro?</td><td>null</td><td>5</td><td>Order in a restaurant</td><td>Use 'Potreste fare' for 'Could you make', 'una pizza vegana' for 'a vegan pizza', 'con ananas' for 'with pineapple', and 'ma senza salsa di pomodoro' for 'but without tomato sauce'.</td></tr><tr><td>standard question</td><td>I would like a vegan pizza with extra pineapple, is that possible?</td><td>Vorrei una pizza vegana con extra ananas, è possibile?</td><td>null</td><td>5</td><td>Order in a restaurant</td><td>Use 'Vorrei' for 'I would like', 'una pizza vegana' for 'a vegan pizza', 'con extra ananas' for 'with extra pineapple', and 'è possibile?' to ask if it's possible.</td></tr><tr><td>standard question</td><td>Please ensure that the pizza is completely free of animal products, including cheese and meat, and add pineapple on top.</td><td>Per favore, assicuratevi che la pizza sia completamente priva di prodotti animali, inclusi formaggio e carne, e aggiungete ananas sopra.</td><td>null</td><td>5</td><td>Order in a restaurant</td><td>Use 'Per favore, assicuratevi' for 'Please ensure', 'che la pizza sia completamente priva di prodotti animali' for 'that the pizza is completely free of animal products', 'inclusi formaggio e carne' for 'including cheese and meat', and 'e aggiungete ananas sopra' for 'and add pineapple on top'.</td></tr><tr><td>standard question</td><td>Could you recommend a florist where I can find a variety of hibiscus flowers?</td><td>Potrebbe consigliarmi un fiorista dove posso trovare una varietà di fiori di ibisco?</td><td>null</td><td>5</td><td>Buy things in a store</td><td>Use 'Potrebbe consigliarmi' for a formal 'Could you recommend me', 'un fiorista' for 'a florist', and 'dove posso trovare' for 'where I can find'.</td></tr><tr><td>standard question</td><td>I'm interested in the medicinal properties of hibiscus flowers. Can you provide more information?</td><td>Sono interessato alle proprietà medicinali dei fiori di ibisco. Può fornirmi ulteriori informazioni?</td><td>null</td><td>5</td><td>Buy things in a store</td><td>Use 'Sono interessato' for 'I'm interested', 'alle proprietà medicinali' for 'in the medicinal properties', 'dei fiori di ibisco' for 'of hibiscus flowers', and 'Può fornirmi ulteriori informazioni?' for 'Can you provide more information?'.</td></tr><tr><td>standard question</td><td>Do you have any rare or exotic hibiscus species available for purchase?</td><td>Avete qualche specie rara o esotica di ibisco disponibile per l'acquisto?</td><td>null</td><td>5</td><td>Buy things in a store</td><td>Use 'Avete' for 'Do you have', 'qualche specie rara o esotica' for 'any rare or exotic species', 'di ibisco' for 'of hibiscus', and 'disponibile per l'acquisto' for 'available for purchase'.</td></tr><tr><td>standard question</td><td>I'm eager to watch the football match tonight, do you know a good place where we could go?</td><td>Sono impaziente di guardare la partita di calcio stasera, sai un buon posto dove potremmo andare?</td><td>null</td><td>5</td><td>Navigate a City</td><td>Use 'Sono impaziente di' for 'I'm eager to', 'guardare' for 'watch', and 'la partita di calcio stasera' for 'the football match tonight'.</td></tr><tr><td>standard question</td><td>Could you recommend a sports bar where I can watch the football game with Italian commentary?</td><td>Potresti consigliare un bar sportivo dove posso guardare la partita di calcio con il commento in italiano?</td><td>null</td><td>5</td><td>Navigate a City</td><td>Use 'Potresti consigliare' for 'Could you recommend', 'un bar sportivo' for 'a sports bar', and 'con il commento in italiano' for 'with Italian commentary'.</td></tr><tr><td>standard question</td><td>I'm looking for a place where I can watch the football game and also enjoy some traditional Italian dishes.</td><td>Sto cercando un posto dove posso guardare la partita di calcio e anche gustare alcuni piatti tradizionali italiani.</td><td>null</td><td>5</td><td>Order in a restaurant</td><td>Use 'Sto cercando' for 'I'm looking for', 'un posto dove' for 'a place where', and 'gustare alcuni piatti tradizionali italiani' for 'enjoy some traditional Italian dishes'.</td></tr><tr><td>standard question</td><td>I like to play cricket with my friends on weekends</td><td>Mi piace giocare a cricket con i miei amici nei fine settimana</td><td>null</td><td>2</td><td>Talk about family and friends</td><td>Use 'Mi piace' for 'I like', 'giocare a' for 'to play', and 'con i miei amici' for 'with my friends'. 'Nei fine settimana' translates to 'on weekends'.</td></tr><tr><td>standard question</td><td>My sister and I often play cricket in the park</td><td>Io e mia sorella giochiamo spesso a cricket nel parco</td><td>null</td><td>2</td><td>Talk about family and friends</td><td>Remember to use 'Io e mia sorella' for 'My sister and I', 'giochiamo spesso' for 'often play', and 'nel parco' for 'in the park'.</td></tr><tr><td>standard question</td><td>Do you also enjoy playing cricket?</td><td>Ti piace anche giocare a cricket?</td><td>null</td><td>1</td><td>Talk about family and friends</td><td>Use 'Ti piace' for 'Do you like' and 'anche' for 'also'. The word order in Italian questions can be similar to English.</td></tr><tr><td>standard question</td><td>I need flour and eggs for my cake recipe.</td><td>Ho bisogno di farina e uova per la mia ricetta della torta.</td><td>null</td><td>2</td><td>Buy things in a store</td><td>Use 'Ho bisogno di' for 'I need', 'farina e uova' for 'flour and eggs', and 'per la mia ricetta della torta' for 'for my cake recipe'.</td></tr><tr><td>standard question</td><td>Can you recommend a good place to buy fresh vegetables?</td><td>Puoi consigliarmi un buon posto per comprare verdure fresche?</td><td>null</td><td>2</td><td>Buy things in a store</td><td>Use 'Puoi consigliarmi' for 'Can you recommend', 'un buon posto per' for 'a good place to', and 'comprare verdure fresche' for 'buy fresh vegetables'.</td></tr><tr><td>standard question</td><td>Where can I find the best ingredients for an Italian dinner?</td><td>Dove posso trovare i migliori ingredienti per una cena italiana?</td><td>null</td><td>2</td><td>Buy things in a store</td><td>Use 'Dove posso trovare' for 'Where can I find', 'i migliori ingredienti' for 'the best ingredients', and 'per una cena italiana' for 'for an Italian dinner'.</td></tr><tr><td>standard question</td><td>I want to play chess with my grandfather.</td><td>Voglio giocare a scacchi con mio nonno.</td><td>null</td><td>2</td><td>Talk about family and friends</td><td>Use 'Voglio' for 'I want', 'giocare a' for 'to play', and 'con mio nonno' for 'with my grandfather'.</td></tr><tr><td>standard question</td><td>Can you teach me how to play chess?</td><td>Puoi insegnarmi a giocare a scacchi?</td><td>null</td><td>2</td><td>Introduce Yourself</td><td>Use 'Puoi' for 'Can you', 'insegnarmi' for 'teach me', and 'a giocare a' for 'how to play'.</td></tr><tr><td>standard question</td><td>Do you have a chess set we can use?</td><td>Hai un set di scacchi che possiamo usare?</td><td>null</td><td>2</td><td>Buy things in a store</td><td>Use 'Hai' for 'Do you have', 'un set di scacchi' for 'a chess set', and 'che possiamo usare' for 'we can use'.</td></tr><tr><td>standard question</td><td>I want to play chess with my cousins.</td><td>Voglio giocare a scacchi con i miei cugini.</td><td>null</td><td>2</td><td>Talk about family and friends</td><td>Use 'Voglio' for 'I want', 'giocare a' for 'to play', and 'con i miei cugini' for 'with my cousins'.</td></tr><tr><td>standard question</td><td>My friends and I want to learn how to play chess.</td><td>Io e i miei amici vogliamo imparare a giocare a scacchi.</td><td>null</td><td>2</td><td>Talk about family and friends</td><td>Use 'Io e i miei amici' for 'My friends and I', 'vogliamo' for 'want', and 'imparare a giocare a' for 'learn how to play'.</td></tr><tr><td>standard question</td><td>Do you want to play chess this evening?</td><td>Vuoi giocare a scacchi questa sera?</td><td>null</td><td>2</td><td>Talk about family and friends</td><td>Use 'Vuoi' for 'Do you want', 'giocare a' for 'to play', and 'questa sera' for 'this evening'.</td></tr><tr><td>standard question</td><td>I would like almond milk in my coffee, please.</td><td>Vorrei del latte di mandorla nel mio caffè, per favore.</td><td>null</td><td>2</td><td>Order in a restaurant</td><td>Remember to use 'del' before 'latte di mandorla' to mean 'some almond milk' and 'nel mio caffè' to indicate 'in my coffee'.</td></tr><tr><td>standard question</td><td>Can I substitute regular milk with almond milk?</td><td>Posso sostituire il latte normale con latte di mandorla?</td><td>null</td><td>2</td><td>Order in a restaurant</td><td>Use 'Posso sostituire' for 'Can I substitute' and 'con latte di mandorla' for 'with almond milk'.</td></tr><tr><td>standard question</td><td>Do you have almond milk?</td><td>Avete latte di mandorla?</td><td>null</td><td>1</td><td>Buy things in a store</td><td>Use 'Avete' for 'Do you have' when addressing someone formally or asking a staff member in a store or restaurant.</td></tr><tr><td>standard question</td><td>What is your name?</td><td>Come ti chiami?</td><td>null</td><td>1</td><td>Introduce Yourself</td><td>Use 'Come ti chiami?' to ask someone's name informally.</td></tr><tr><td>standard question</td><td>Where is the nearest pharmacy?</td><td>Dove è la farmacia più vicina?</td><td>null</td><td>2</td><td>Navigate a City</td><td>Use 'Dove è' for 'Where is' and remember that 'la farmacia più vicina' means 'the nearest pharmacy'.</td></tr><tr><td>standard question</td><td>Do you have a table for two?</td><td>Avete un tavolo per due?</td><td>null</td><td>2</td><td>Order in a restaurant</td><td>Use 'Avete' for 'Do you have' and 'un tavolo per due' for 'a table for two'.</td></tr><tr><td>standard question</td><td>How do I get to the bus stop?</td><td>Come faccio ad arrivare alla fermata dell'autobus?</td><td>null</td><td>1</td><td>Navigate a City</td><td>Remember to use 'Come faccio' for 'How do I' and 'ad arrivare' for 'get to'. 'Fermata dell'autobus' is the Italian for 'bus stop'.</td></tr><tr><td>standard question</td><td>Is this the bus stop for the number 5 bus?</td><td>È questa la fermata per l'autobus numero 5?</td><td>null</td><td>1</td><td>Navigate a City</td><td>Use 'È questa' for 'Is this', 'la fermata per' for 'the bus stop for', and 'l'autobus numero' followed by the bus number.</td></tr><tr><td>standard question</td><td>What time does the bus leave from this stop?</td><td>A che ora parte l'autobus da questa fermata?</td><td>null</td><td>1</td><td>Navigate a City</td><td>Use 'A che ora' for 'What time', 'parte' for 'leaves', and 'da questa fermata' for 'from this stop'.</td></tr><tr><td>standard question</td><td>Where can I rent a bicycle?</td><td>Dove posso noleggiare una bicicletta?</td><td>null</td><td>1</td><td>Navigate a City</td><td>Remember to use 'Dove posso' for 'Where can I' and 'noleggiare una bicicletta' for 'rent a bicycle'.</td></tr><tr><td>standard question</td><td>Is there a bike rental shop nearby?</td><td>C'è un negozio di noleggio biciclette qui vicino?</td><td>null</td><td>1</td><td>Navigate a City</td><td>Use 'C'è un negozio di noleggio biciclette' for 'Is there a bike rental shop' and 'qui vicino' for 'nearby'.</td></tr><tr><td>standard question</td><td>How much does it cost to rent a bike for a day?</td><td>Quanto costa noleggiare una bicicletta per un giorno?</td><td>null</td><td>2</td><td>Buy things in a store</td><td>Use 'Quanto costa' for 'How much does it cost' and 'noleggiare una bicicletta per un giorno' for 'to rent a bike for a day'.</td></tr><tr><td>standard question</td><td>How much is the bike rental for two hours?</td><td>Quanto costa il noleggio della bicicletta per due ore?</td><td>null</td><td>2</td><td>Buy things in a store</td><td>Use 'Quanto costa' for 'How much is' and 'il noleggio della bicicletta per due ore' for 'the bike rental for two hours'.</td></tr><tr><td>standard question</td><td>Do you offer discounts on bike rentals for groups?</td><td>Offrite sconti sul noleggio di biciclette per i gruppi?</td><td>null</td><td>2</td><td>Buy things in a store</td><td>Use 'Offrite sconti' for 'Do you offer discounts' and 'sul noleggio di biciclette per i gruppi' for 'on bike rentals for groups'.</td></tr><tr><td>standard question</td><td>Is it possible to rent a bike for the whole week?</td><td>È possibile noleggiare una bicicletta per tutta la settimana?</td><td>null</td><td>2</td><td>Buy things in a store</td><td>Use 'È possibile' for 'Is it possible' and 'noleggiare una bicicletta per tutta la settimana' for 'to rent a bike for the whole week'.</td></tr><tr><td>standard question</td><td>Where can I get my bike fixed?</td><td>Dove posso fare riparare la mia bicicletta?</td><td>null</td><td>2</td><td>Navigate a City</td><td>Use 'Dove posso' for 'Where can I' and 'fare riparare la mia bicicletta' for 'get my bike fixed'.</td></tr><tr><td>standard question</td><td>Is there a bicycle repair shop nearby?</td><td>C'è un negozio di riparazione biciclette qui vicino?</td><td>null</td><td>1</td><td>Navigate a City</td><td>Use 'C'è un negozio di riparazione biciclette' for 'Is there a bicycle repair shop' and 'qui vicino' for 'nearby'.</td></tr><tr><td>standard question</td><td>How much does it cost to repair a bike?</td><td>Quanto costa riparare una bicicletta?</td><td>null</td><td>1</td><td>Buy things in a store</td><td>Use 'Quanto costa' for 'How much does it cost' and 'riparare una bicicletta' for 'to repair a bike'.</td></tr><tr><td>standard question</td><td>How do I ask for a helmet when renting a bike?</td><td>Come posso chiedere un casco quando noleggio una bicicletta?</td><td>null</td><td>2</td><td>Buy things in a store</td><td>Use 'Come posso chiedere' for 'How do I ask for' and 'un casco quando noleggio una bicicletta' for 'a helmet when renting a bike'.</td></tr><tr><td>standard question</td><td>What types of bikes do you have for rent?</td><td>Quali tipi di biciclette avete da noleggiare?</td><td>null</td><td>1</td><td>Buy things in a store</td><td>Use 'Quali tipi di biciclette' for 'What types of bikes' and 'avete da noleggiare' for 'do you have for rent'.</td></tr><tr><td>standard question</td><td>Can I test ride the bike before renting?</td><td>Posso fare un giro di prova con la bicicletta prima di noleggiarla?</td><td>null</td><td>2</td><td>Buy things in a store</td><td>Use 'Posso fare un giro di prova' for 'Can I test ride' and 'con la bicicletta prima di noleggiarla' for 'the bike before renting'.</td></tr><tr><td>standard question</td><td>What is the Italian word for 'wheel'?</td><td>ruota</td><td>null</td><td>1</td><td>Buy things in a store</td><td>Remember that 'wheel' in Italian is 'ruota'.</td></tr><tr><td>standard question</td><td>How do you say 'brakes' in Italian?</td><td>freni</td><td>null</td><td>1</td><td>Buy things in a store</td><td>The word for 'brakes' in Italian is 'freni'.</td></tr><tr><td>standard question</td><td>Translate 'I need to replace the chain on my bike' into Italian.</td><td>Devo sostituire la catena della mia bicicletta</td><td>null</td><td>2</td><td>Buy things in a store</td><td>Use 'Devo sostituire' for 'I need to replace' and 'la catena della mia bicicletta' for 'the chain on my bike'.</td></tr><tr><td>standard question</td><td>What ingredients do I need to bake a simple cake?</td><td>Per fare una torta semplice ho bisogno di farina, zucchero, uova e burro.</td><td>null</td><td>2</td><td>Buy things in a store</td><td>Remember to list basic ingredients like 'farina' (flour), 'zucchero' (sugar), 'uova' (eggs), and 'burro' (butter).</td></tr><tr><td>standard question</td><td>How long does it take to bake a cake?</td><td>Per cuocere una torta ci vogliono circa trenta minuti.</td><td>null</td><td>2</td><td>Buy things in a store</td><td>Use 'Per cuocere una torta' for 'To bake a cake' and 'ci vogliono circa trenta minuti' for 'it takes about thirty minutes'.</td></tr><tr><td>standard question</td><td>Can you recommend a good recipe for a chocolate cake?</td><td>Puoi consigliarmi una buona ricetta per una torta al cioccolato?</td><td>null</td><td>2</td><td>Buy things in a store</td><td>Use 'Puoi consigliarmi' for 'Can you recommend' and 'una buona ricetta per una torta al cioccolato' for 'a good recipe for a chocolate cake'.</td></tr><tr><td>standard question</td><td>Where can I rent a scooter?</td><td>Dove posso noleggiare uno scooter?</td><td>null</td><td>2</td><td>Navigate a City</td><td>Use 'Dove posso' for 'Where can I' and 'noleggiare uno scooter' for 'rent a scooter'.</td></tr><tr><td>standard question</td><td>What do I need to rent a scooter?</td><td>Cosa mi serve per noleggiare uno scooter?</td><td>null</td><td>2</td><td>Buy things in a store</td><td>Use 'Cosa mi serve' for 'What do I need' and 'per noleggiare uno scooter' for 'to rent a scooter'.</td></tr><tr><td>standard question</td><td>Do I need a license to rent a scooter?</td><td>Ho bisogno di una patente per noleggiare uno scooter?</td><td>null</td><td>2</td><td>Buy things in a store</td><td>Use 'Ho bisogno di una patente' for 'Do I need a license' and 'per noleggiare uno scooter' for 'to rent a scooter'.</td></tr><tr><td>standard question</td><td>I want to withdraw money from the bank.</td><td>Voglio prelevare dei soldi dalla banca.</td><td>null</td><td>2</td><td>Buy things in a store</td><td>Use 'Voglio' for 'I want', 'prelevare' for 'to withdraw', and 'dei soldi' for 'money'.</td></tr><tr><td>standard question</td><td>Where can I find an ATM?</td><td>Dove posso trovare un bancomat?</td><td>null</td><td>2</td><td>Navigate a City</td><td>Use 'Dove posso trovare' for 'Where can I find' and 'un bancomat' for 'an ATM'.</td></tr><tr><td>standard question</td><td>Can I use my debit card here?</td><td>Posso usare la mia carta di debito qui?</td><td>null</td><td>2</td><td>Buy things in a store</td><td>Use 'Posso usare' for 'Can I use', 'la mia carta di debito' for 'my debit card', and 'qui' for 'here'.</td></tr><tr><td>standard question</td><td>Who is the Prime Minister of Italy?</td><td>Chi è il Primo Ministro dell'Italia?</td><td>null</td><td>2</td><td>Introduce Yourself</td><td>Remember to use 'Chi' for 'Who' when asking about a person's identity.</td></tr><tr><td>standard question</td><td>The Prime Minister is the head of the government.</td><td>Il Primo Ministro è il capo del governo.</td><td>null</td><td>2</td><td>Introduce Yourself</td><td>Translate 'head of the government' as 'il capo del governo'.</td></tr><tr><td>standard question</td><td>Can you tell me more about the Prime Minister?</td><td>Puoi dirmi di più sul Primo Ministro?</td><td>null</td><td>2</td><td>Introduce Yourself</td><td>Use 'Puoi' for 'Can you' and 'dirmi di più' for 'tell me more'.</td></tr><tr><td>standard question</td><td>I want to go to the zoo.</td><td>Voglio andare allo zoo.</td><td>null</td><td>2</td><td>Navigate a City</td><td>Use 'Voglio' for 'I want' and 'andare allo' for 'to go to the'. Remember that 'zoo' remains the same in Italian.</td></tr><tr><td>standard question</td><td>How do I get to the zoo?</td><td>Come faccio ad arrivare allo zoo?</td><td>null</td><td>2</td><td>Navigate a City</td><td>Use 'Come faccio ad' for 'How do I' and 'arrivare allo' for 'get to the'. Remember that 'zoo' remains the same in Italian.</td></tr><tr><td>standard question</td><td>What time does the zoo open?</td><td>A che ora apre lo zoo?</td><td>null</td><td>2</td><td>Navigate a City</td><td>Use 'A che ora' for 'What time' and 'apre' for 'does open'. Remember that 'zoo' remains the same in Italian.</td></tr><tr><td>standard question</td><td>Where is the closest park where I can walk my dog?</td><td>Dov'è il parco più vicino dove posso portare a passeggio il mio cane?</td><td>null</td><td>2</td><td>Navigate a City</td><td>Use 'Dov'è' for 'Where is', 'il parco più vicino' for 'the closest park', and 'dove posso portare a passeggio il mio cane' for 'where I can walk my dog'.</td></tr><tr><td>standard question</td><td>Is there a dog-friendly beach nearby?</td><td>C'è una spiaggia che ammette cani qui vicino?</td><td>null</td><td>2</td><td>Navigate a City</td><td>Use 'C'è' for 'Is there', 'una spiaggia che ammette cani' for 'a dog-friendly beach', and 'qui vicino' for 'nearby'.</td></tr><tr><td>standard question</td><td>Can you recommend a route for walking with a dog?</td><td>Può consigliarmi un percorso per passeggiare con un cane?</td><td>null</td><td>2</td><td>Navigate a City</td><td>Use 'Può consigliarmi' for 'Can you recommend', 'un percorso' for 'a route', and 'per passeggiare con un cane' for 'for walking with a dog'.</td></tr><tr><td>standard question</td><td>Can I have a vegetarian pizza without onions?</td><td>Posso avere una pizza vegetariana senza cipolle?</td><td>null</td><td>2</td><td>Order in a restaurant</td><td>Use 'Posso avere' for 'Can I have', 'una pizza vegetariana' for 'a vegetarian pizza', and 'senza cipolle' for 'without onions'.</td></tr><tr><td>standard question</td><td>What vegetarian toppings do you have for pizza?</td><td>Quali ingredienti vegetariani avete per la pizza?</td><td>null</td><td>2</td><td>Order in a restaurant</td><td>Use 'Quali ingredienti vegetariani' for 'What vegetarian toppings' and 'avete per la pizza' for 'do you have for pizza'.</td></tr><tr><td>standard question</td><td>I am allergic to cheese, can you make a cheese-free vegetarian pizza?</td><td>Sono allergico al formaggio, potete fare una pizza vegetariana senza formaggio?</td><td>null</td><td>2</td><td>Order in a restaurant</td><td>Use 'Sono allergico al formaggio' for 'I am allergic to cheese', and 'potete fare una pizza vegetariana senza formaggio?' for 'can you make a cheese-free vegetarian pizza?'.</td></tr><tr><td>standard question</td><td>What time do the local bars close?</td><td>A che ora chiudono i bar locali?</td><td>null</td><td>2</td><td>Navigate a City</td><td>Use 'A che ora' for 'What time' and 'chiudono' for 'do close'.</td></tr><tr><td>standard question</td><td>Are there any night markets in this area?</td><td>Ci sono mercati notturni in questa zona?</td><td>null</td><td>2</td><td>Navigate a City</td><td>Remember to use 'Ci sono' for 'Are there any' and 'mercati notturni' for 'night markets'.</td></tr><tr><td>standard question</td><td>Can you suggest a good place for live music around here?</td><td>Puoi suggerirmi un buon posto per la musica dal vivo qui intorno?</td><td>null</td><td>2</td><td>Navigate a City</td><td>Use 'Puoi suggerirmi' for 'Can you suggest' and 'musica dal vivo' for 'live music'.</td></tr><tr><td>standard question</td><td>How much does it cost to rent a bike for a day?</td><td>Quanto costa noleggiare una bicicletta per un giorno?</td><td>null</td><td>2</td><td>Buy things in a store</td><td>Use 'Quanto costa' for 'How much does it cost' and 'noleggiare una bicicletta per un giorno' for 'to rent a bike for a day'.</td></tr><tr><td>standard question</td><td>Do you have any electric bikes for rent?</td><td>Avete biciclette elettriche da noleggiare?</td><td>null</td><td>2</td><td>Buy things in a store</td><td>Use 'Avete' for 'Do you have' and 'biciclette elettriche da noleggiare' for 'any electric bikes for rent'.</td></tr><tr><td>standard question</td><td>Could you recommend a good cycling route?</td><td>Potreste consigliare un buon percorso ciclabile?</td><td>null</td><td>2</td><td>Navigate a City</td><td>Use 'Potreste consigliare' for 'Could you recommend' and 'un buon percorso ciclabile' for 'a good cycling route'.</td></tr><tr><td>standard question</td><td>How much does it cost to rent a bike for a day?</td><td>Quanto costa noleggiare una bicicletta per un giorno?</td><td>null</td><td>2</td><td>Buy things in a store</td><td>Use 'Quanto costa' for 'How much does it cost' and 'noleggiare una bicicletta per un giorno' for 'to rent a bike for a day'.</td></tr><tr><td>standard question</td><td>Do you sell bike helmets here?</td><td>Vendete caschi per bicicletta qui?</td><td>null</td><td>1</td><td>Buy things in a store</td><td>Use 'Vendete' for 'Do you sell' and 'caschi per bicicletta' for 'bike helmets'.</td></tr><tr><td>standard question</td><td>I would like to buy a bike lock.</td><td>Vorrei comprare un lucchetto per bicicletta.</td><td>null</td><td>2</td><td>Buy things in a store</td><td>Use 'Vorrei comprare' for 'I would like to buy' and 'un lucchetto per bicicletta' for 'a bike lock'.</td></tr><tr><td>standard question</td><td>How do I ask for the price of tulips in Italian?</td><td>Quanto costano i tulipani?</td><td>null</td><td>2</td><td>Buy things in a store</td><td>Use 'Quanto costano' for 'How much do' and 'i tulipani' for 'the tulips'.</td></tr><tr><td>standard question</td><td>What is the Italian phrase for 'a dozen roses', which I might use when buying flowers?</td><td>una dozzina di rose</td><td>null</td><td>2</td><td>Buy things in a store</td><td>Use 'una dozzina di' for 'a dozen of' and 'rose' for 'roses'.</td></tr><tr><td>standard question</td><td>How can I say 'Do you have peonies?' in Italian when looking for specific flowers?</td><td>Avete peonie?</td><td>null</td><td>2</td><td>Buy things in a store</td><td>Use 'Avete' for 'Do you have' and 'peonie' for 'peonies'.</td></tr><tr><td>standard question</td><td>Can you wrap these flowers as a gift?</td><td>Può incartare questi fiori come un regalo?</td><td>null</td><td>2</td><td>Buy things in a store</td><td>Use 'Può' for a formal 'Can you', 'incartare' for 'wrap', and 'questi fiori' for 'these flowers'.</td></tr><tr><td>standard question</td><td>I'm looking for flowers for a wedding. What do you recommend?</td><td>Cerco fiori per un matrimonio. Cosa mi consiglia?</td><td>null</td><td>2</td><td>Buy things in a store</td><td>Use 'Cerco' for 'I'm looking for', 'fiori per un matrimonio' for 'flowers for a wedding', and 'Cosa mi consiglia?' for 'What do you recommend?'.</td></tr><tr><td>standard question</td><td>Do you sell flower pots as well?</td><td>Vendete anche vasi per fiori?</td><td>null</td><td>1</td><td>Buy things in a store</td><td>Use 'Vendete' for 'Do you sell' and 'anche vasi per fiori' for 'flower pots as well'.</td></tr><tr><td>standard question</td><td>Can I have a bouquet with mixed flowers?</td><td>Posso avere un mazzo con fiori misti?</td><td>null</td><td>2</td><td>Buy things in a store</td><td>Use 'Posso avere' for 'Can I have' and 'un mazzo con fiori misti' for 'a bouquet with mixed flowers'.</td></tr><tr><td>standard question</td><td>I'm looking for flowers that can last a week. Any suggestions?</td><td>Cerco fiori che possano durare una settimana. Qualche suggerimento?</td><td>null</td><td>2</td><td>Buy things in a store</td><td>Use 'Cerco' for 'I'm looking for', 'fiori che possano durare' for 'flowers that can last', and 'una settimana' for 'a week'.</td></tr><tr><td>standard question</td><td>Are these flowers fresh?</td><td>Questi fiori sono freschi?</td><td>null</td><td>1</td><td>Buy things in a store</td><td>Use 'Questi fiori' for 'these flowers' and 'sono freschi?' for 'are fresh?'.</td></tr><tr><td>standard question</td><td>I want to learn how to buy flowers in Italian.</td><td>Voglio imparare come comprare fiori in italiano.</td><td>null</td><td>2</td><td>Buy things in a store</td><td>Use 'Voglio imparare' for 'I want to learn', 'come' for 'how to', 'comprare' for 'buy', and 'fiori' for 'flowers'.</td></tr><tr><td>standard question</td><td>What is the Italian word for 'flower shop'?</td><td>Fioreria</td><td>null</td><td>1</td><td>Buy things in a store</td><td>Remember that 'flower shop' translates to 'fioreria' in Italian.</td></tr><tr><td>standard question</td><td>I need help choosing flowers for a friend's birthday.</td><td>Ho bisogno di aiuto per scegliere dei fiori per il compleanno di un amico.</td><td>null</td><td>2</td><td>Buy things in a store</td><td>Use 'Ho bisogno di aiuto' for 'I need help', 'per scegliere' for 'choosing', 'dei fiori' for 'flowers', and 'per il compleanno di un amico' for 'for a friend's birthday'.</td></tr><tr><td>standard question</td><td>I would like a pizza with vegan cheese.</td><td>Vorrei una pizza con formaggio vegano.</td><td>null</td><td>2</td><td>Order in a restaurant</td><td>Use 'Vorrei' for 'I would like' and 'con formaggio vegano' for 'with vegan cheese'.</td></tr><tr><td>standard question</td><td>Can you replace the cheese with vegan cheese on my pizza?</td><td>Potete sostituire il formaggio con formaggio vegano sulla mia pizza?</td><td>null</td><td>2</td><td>Order in a restaurant</td><td>Use 'Potete sostituire' for 'Can you replace', 'il formaggio con formaggio vegano' for 'the cheese with vegan cheese', and 'sulla mia pizza' for 'on my pizza'.</td></tr><tr><td>standard question</td><td>Do you have any pizzas with vegan cheese?</td><td>Avete pizze con formaggio vegano?</td><td>null</td><td>1</td><td>Order in a restaurant</td><td>Use 'Avete' for 'Do you have', 'pizze' for 'pizzas', and 'con formaggio vegano' for 'with vegan cheese'.</td></tr><tr><td>standard question</td><td>I would like a pasta dish, but I'm allergic to mushrooms. Can you make it without mushrooms?</td><td>Vorrei un piatto di pasta, ma sono allergico ai funghi. Potete farlo senza funghi?</td><td>null</td><td>2</td><td>Order in a restaurant</td><td>Use 'Vorrei' for 'I would like', 'un piatto di pasta' for 'a pasta dish', 'ma sono allergico ai funghi' for 'but I'm allergic to mushrooms', and 'Potete farlo senza funghi?' for 'Can you make it without mushrooms?'.</td></tr><tr><td>standard question</td><td>Can I have the salad without mushrooms, please?</td><td>Posso avere l'insalata senza funghi, per favore?</td><td>null</td><td>1</td><td>Order in a restaurant</td><td>Use 'Posso avere' for 'Can I have', 'l'insalata' for 'the salad', and 'senza funghi' for 'without mushrooms'.</td></tr><tr><td>standard question</td><td>Do you have any dishes that don't contain mushrooms?</td><td>Avete piatti che non contengono funghi?</td><td>null</td><td>2</td><td>Order in a restaurant</td><td>Use 'Avete' for 'Do you have', 'piatti' for 'dishes', and 'che non contengono funghi' for 'that don't contain mushrooms'.</td></tr><tr><td>standard question</td><td>Can I have a pizza with extra vegetables?</td><td>Posso avere una pizza con extra verdure?</td><td>null</td><td>2</td><td>Order in a restaurant</td><td>Use 'Posso avere' for 'Can I have' and 'con extra verdure' for 'with extra vegetables'.</td></tr><tr><td>standard question</td><td>I would like a pizza with mushrooms and vegan cheese, please.</td><td>Vorrei una pizza con funghi e formaggio vegano, per favore.</td><td>null</td><td>2</td><td>Order in a restaurant</td><td>Use 'Vorrei' for 'I would like', 'con funghi' for 'with mushrooms', 'e formaggio vegano' for 'and vegan cheese', and 'per favore' for 'please'.</td></tr><tr><td>standard question</td><td>Could you add extra spinach to my pizza instead of cheese?</td><td>Potreste aggiungere extra spinaci alla mia pizza al posto del formaggio?</td><td>null</td><td>2</td><td>Order in a restaurant</td><td>Use 'Potreste aggiungere' for 'Could you add', 'extra spinaci' for 'extra spinach', 'alla mia pizza' for 'to my pizza', and 'al posto del formaggio' for 'instead of cheese'.</td></tr><tr><td>standard question</td><td>Is this orchid locally grown?</td><td>Questa orchidea è coltivata localmente?</td><td>null</td><td>2</td><td>Buy things in a store</td><td>Use 'Questa orchidea' for 'this orchid' and 'è coltivata localmente?' to ask if it is locally grown.</td></tr><tr><td>standard question</td><td>How can I ask if the flowers are imported?</td><td>I fiori sono importati?</td><td>null</td><td>2</td><td>Buy things in a store</td><td>Use 'I fiori' for 'the flowers' and 'sono importati?' to ask if they are imported.</td></tr><tr><td>standard question</td><td>Can you tell me where these orchids come from?</td><td>Mi può dire da dove provengono queste orchidee?</td><td>null</td><td>2</td><td>Buy things in a store</td><td>Use 'Mi può dire' for 'Can you tell me', 'da dove' for 'where', and 'provengono queste orchidee' for 'these orchids come from'.</td></tr><tr><td>standard question</td><td>Is this orchid grown without pesticides?</td><td>Questa orchidea è coltivata senza pesticidi?</td><td>null</td><td>2</td><td>Buy things in a store</td><td>Use 'Questa orchidea' for 'this orchid' and 'è coltivata senza pesticidi?' to ask if it is grown without pesticides.</td></tr><tr><td>standard question</td><td>Do these orchids need a lot of sunlight?</td><td>Queste orchidee hanno bisogno di molta luce solare?</td><td>null</td><td>2</td><td>Buy things in a store</td><td>Use 'Queste orchidee' for 'these orchids' and 'hanno bisogno di molta luce solare?' to ask if they need a lot of sunlight.</td></tr><tr><td>standard question</td><td>What type of soil is best for orchids?</td><td>Quale tipo di terreno è migliore per le orchidee?</td><td>null</td><td>2</td><td>Buy things in a store</td><td>Use 'Quale tipo di terreno' for 'What type of soil' and 'è migliore per le orchidee?' to ask about the best soil for orchids.</td></tr><tr><td>standard question</td><td>How do you say 'I would like to buy a hibiscus plant' in Italian?</td><td>Vorrei comprare una pianta di ibisco</td><td>null</td><td>2</td><td>Buy things in a store</td><td>Use 'Vorrei comprare' for 'I would like to buy' and 'una pianta di ibisco' for 'a hibiscus plant'.</td></tr><tr><td>standard question</td><td>What is the Italian word for 'hibiscus'?</td><td>Ibisco</td><td>null</td><td>1</td><td>Buy things in a store</td><td>Remember that the word for 'hibiscus' in Italian is 'ibisco'.</td></tr><tr><td>standard question</td><td>How do I ask 'Do you have hibiscus flowers for sale?' in Italian?</td><td>Avete ibisco in vendita?</td><td>null</td><td>2</td><td>Buy things in a store</td><td>Use 'Avete' for 'Do you have' and 'ibisco in vendita' for 'hibiscus for sale'.</td></tr><tr><td>standard question</td><td>How do I say 'I would like to buy a hibiscus plant' in Italian?</td><td>Vorrei comprare una pianta di ibisco.</td><td>null</td><td>2</td><td>Buy things in a store</td><td>Use 'Vorrei comprare' for 'I would like to buy' and 'una pianta di ibisco' for 'a hibiscus plant'.</td></tr><tr><td>standard question</td><td>What is the Italian word for 'hibiscus'?</td><td>Ibisco</td><td>null</td><td>1</td><td>Buy things in a store</td><td>Remember that the word for 'hibiscus' in Italian is 'ibisco'.</td></tr><tr><td>standard question</td><td>How do I ask 'Where can I find hibiscus tea?' in Italian?</td><td>Dove posso trovare il tè di ibisco?</td><td>null</td><td>2</td><td>Buy things in a store</td><td>Use 'Dove posso trovare' for 'Where can I find' and 'il tè di ibisco' for 'hibiscus tea'.</td></tr><tr><td>standard question</td><td>How do I say 'I would like to buy a hibiscus plant' in Italian?</td><td>Vorrei comprare una pianta di ibisco.</td><td>null</td><td>2</td><td>Buy things in a store</td><td>Use 'Vorrei comprare' for 'I would like to buy' and 'una pianta di ibisco' for 'a hibiscus plant'.</td></tr><tr><td>standard question</td><td>How do I ask 'Do you have hibiscus flowers?' in Italian?</td><td>Avete fiori di ibisco?</td><td>null</td><td>1</td><td>Buy things in a store</td><td>Use 'Avete' for 'Do you have' and 'fiori di ibisco' for 'hibiscus flowers'.</td></tr><tr><td>standard question</td><td>What is the Italian word for 'hibiscus'?</td><td>Ibisco</td><td>null</td><td>1</td><td>Buy things in a store</td><td>Remember that the word 'hibiscus' translates to 'ibisco' in Italian.</td></tr><tr><td>standard question</td><td>I want to buy a new television.</td><td>Voglio comprare una nuova televisione.</td><td>null</td><td>2</td><td>Buy things in a store</td><td>Use 'Voglio' for 'I want' and 'comprare' for 'to buy'. 'Una nuova televisione' translates to 'a new television'.</td></tr><tr><td>standard question</td><td>What is the price of this TV?</td><td>Qual è il prezzo di questa TV?</td><td>null</td><td>2</td><td>Buy things in a store</td><td>Use 'Qual è' for 'What is', 'il prezzo' for 'the price', and 'di questa TV' for 'of this TV'.</td></tr><tr><td>standard question</td><td>Does this television come with a warranty?</td><td>Questa televisione viene con una garanzia?</td><td>null</td><td>2</td><td>Buy things in a store</td><td>Use 'Questa televisione' for 'this television', 'viene con' for 'come with', and 'una garanzia' for 'a warranty'.</td></tr><tr><td>standard question</td><td>I'm looking for a jacket without buttons.</td><td>Sto cercando un giubbotto senza bottoni.</td><td>null</td><td>2</td><td>Buy things in a store</td><td>Use 'Sto cercando' for 'I'm looking for', and 'senza bottoni' for 'without buttons'.</td></tr><tr><td>standard question</td><td>Does this jacket come without buttons?</td><td>Questo giubbotto è senza bottoni?</td><td>null</td><td>2</td><td>Buy things in a store</td><td>Use 'Questo giubbotto' for 'this jacket', and 'è senza bottoni?' for 'come without buttons?'.</td></tr><tr><td>standard question</td><td>Can you recommend a buttonless jacket?</td><td>Può consigliarmi un giubbotto senza bottoni?</td><td>null</td><td>2</td><td>Buy things in a store</td><td>Use 'Può consigliarmi' for 'Can you recommend', and 'un giubbotto senza bottoni' for 'a buttonless jacket'.</td></tr><tr><td>standard question</td><td>I would like a pizza with vegan cheese, but no mushrooms, please.</td><td>Vorrei una pizza con formaggio vegano, ma senza funghi, per favore.</td><td>null</td><td>2</td><td>Order in a restaurant</td><td>Remember to use 'Vorrei' for 'I would like', 'con formaggio vegano' for 'with vegan cheese', 'ma senza funghi' for 'but no mushrooms', and 'per favore' for 'please'.</td></tr><tr><td>standard question</td><td>Can I have a pizza without mushrooms and with extra vegan cheese?</td><td>Posso avere una pizza senza funghi e con extra formaggio vegano?</td><td>null</td><td>2</td><td>Order in a restaurant</td><td>Use 'Posso avere' for 'Can I have', 'senza funghi' for 'without mushrooms', and 'con extra formaggio vegano' for 'with extra vegan cheese'.</td></tr><tr><td>standard question</td><td>Do you offer a vegan pizza option without mushrooms?</td><td>Offrite un'opzione di pizza vegana senza funghi?</td><td>null</td><td>2</td><td>Order in a restaurant</td><td>Use 'Offrite' for 'Do you offer', 'un'opzione di pizza vegana' for 'a vegan pizza option', and 'senza funghi' for 'without mushrooms'.</td></tr><tr><td>standard question</td><td>Can you show me where the orchids are?</td><td>Mi può mostrare dove sono le orchidee?</td><td>null</td><td>2</td><td>Buy things in a store</td><td>Use 'Mi può mostrare' for 'Can you show me' and 'dove sono le orchidee' for 'where the orchids are'.</td></tr><tr><td>standard question</td><td>I'm looking for a specific type of orchid. Do you have Cattleya orchids?</td><td>Sto cercando un tipo specifico di orchidea. Avete orchidee Cattleya?</td><td>null</td><td>2</td><td>Buy things in a store</td><td>Use 'Sto cercando' for 'I'm looking for', 'un tipo specifico di orchidea' for 'a specific type of orchid', and 'Avete orchidee Cattleya?' for 'Do you have Cattleya orchids?'.</td></tr><tr><td>standard question</td><td>How should I care for an orchid after purchasing it?</td><td>Come dovrei prendere cura di un'orchidea dopo averla acquistata?</td><td>null</td><td>2</td><td>Buy things in a store</td><td>Use 'Come dovrei prendere cura' for 'How should I care for' and 'di un'orchidea dopo averla acquistata' for 'an orchid after purchasing it'.</td></tr><tr><td>standard question</td><td>How do I ask for a basket of daisies in Italian?</td><td>Potrei avere un cestino di margherite?</td><td>null</td><td>2</td><td>Buy things in a store</td><td>Use 'Potrei avere' for 'Could I have' and 'un cestino di margherite' for 'a basket of daisies'.</td></tr><tr><td>standard question</td><td>What's the Italian word for 'daisies'?</td><td>Margherite</td><td>null</td><td>1</td><td>Buy things in a store</td><td>Remember that 'daisies' translates to 'margherite' in Italian.</td></tr><tr><td>standard question</td><td>Can you give me a discount on the daisies?</td><td>Mi può fare uno sconto sulle margherite?</td><td>null</td><td>2</td><td>Buy things in a store</td><td>Use 'Mi può fare' for 'Can you give me' and 'uno sconto sulle margherite' for 'a discount on the daisies'.</td></tr><tr><td>standard question</td><td>How much is a basket of daisies?</td><td>Quanto costa un cesto di margherite?</td><td>null</td><td>2</td><td>Buy things in a store</td><td>Use 'Quanto costa' for 'How much is' and 'un cesto di margherite' for 'a basket of daisies'.</td></tr><tr><td>standard question</td><td>Can I have a basket of daisies, please?</td><td>Posso avere un cesto di margherite, per favore?</td><td>null</td><td>2</td><td>Buy things in a store</td><td>Use 'Posso avere' for 'Can I have', 'un cesto di' for 'a basket of', and 'per favore' for 'please'.</td></tr><tr><td>standard question</td><td>Do you have any discounts on daisies today?</td><td>Avete sconti sulle margherite oggi?</td><td>null</td><td>2</td><td>Buy things in a store</td><td>Use 'Avete' for 'Do you have', 'sconti' for 'discounts', and 'sulle margherite' for 'on daisies'.</td></tr><tr><td>standard question</td><td>What color are the daisies in the basket?</td><td>Di che colore sono le margherite nel cesto?</td><td>null</td><td>2</td><td>Buy things in a store</td><td>Use 'Di che colore sono' for 'What color are', and 'le margherite nel cesto' for 'the daisies in the basket'.</td></tr><tr><td>standard question</td><td>I'm looking for a basket of daisies for my mother's birthday.</td><td>Sto cercando un cesto di margherite per il compleanno di mia madre.</td><td>null</td><td>2</td><td>Buy things in a store</td><td>Use 'Sto cercando' for 'I'm looking for', 'un cesto di margherite' for 'a basket of daisies', and 'per il compleanno di mia madre' for 'for my mother's birthday'.</td></tr><tr><td>standard question</td><td>Can you wrap the basket of daisies as a gift?</td><td>Puoi incartare il cesto di margherite come un regalo?</td><td>null</td><td>2</td><td>Buy things in a store</td><td>Use 'Puoi incartare' for 'Can you wrap', 'il cesto di margherite' for 'the basket of daisies', and 'come un regalo' for 'as a gift'.</td></tr><tr><td>standard question</td><td>How do you say 'daisies' in Italian?</td><td>Margherite</td><td>null</td><td>1</td><td>Buy things in a store</td><td>Remember that 'daisies' translates to 'margherite' in Italian.</td></tr><tr><td>standard question</td><td>I'm looking for a basket of daisies for my friend's birthday.</td><td>Sto cercando un cestino di margherite per il compleanno del mio amico.</td><td>null</td><td>2</td><td>Buy things in a store</td><td>Use 'Sto cercando' for 'I'm looking for', 'un cestino di' for 'a basket of', and 'per il compleanno del mio amico' for 'for my friend's birthday'.</td></tr><tr><td>standard question</td><td>Can you add a card to the basket of daisies?</td><td>Puoi aggiungere un biglietto al cestino di margherite?</td><td>null</td><td>2</td><td>Buy things in a store</td><td>Use 'Puoi aggiungere' for 'Can you add' and 'un biglietto al cestino di' for 'a card to the basket of'.</td></tr><tr><td>standard question</td><td>How much is a basket of red daisies?</td><td>Quanto costa un cesto di margherite rosse?</td><td>null</td><td>2</td><td>Buy things in a store</td><td>Use 'Quanto costa' for 'How much is', 'un cesto di' for 'a basket of', and 'margherite rosse' for 'red daisies'.</td></tr><tr><td>standard question</td><td>I would like a basket of red daisies, please.</td><td>Vorrei un cesto di margherite rosse, per favore.</td><td>null</td><td>2</td><td>Buy things in a store</td><td>Use 'Vorrei' for 'I would like', 'un cesto di' for 'a basket of', 'margherite rosse' for 'red daisies', and 'per favore' for 'please'.</td></tr><tr><td>standard question</td><td>Do you have red daisies available?</td><td>Avete margherite rosse disponibili?</td><td>null</td><td>2</td><td>Buy things in a store</td><td>Use 'Avete' for 'Do you have', 'margherite rosse' for 'red daisies', and 'disponibili' for 'available'.</td></tr><tr><td>standard question</td><td>How much is a dozen red roses?</td><td>Quanto costa una dozzina di rose rosse?</td><td>null</td><td>2</td><td>Buy things in a store</td><td>Use 'Quanto costa' for 'How much is', and 'una dozzina di rose rosse' for 'a dozen red roses'.</td></tr><tr><td>standard question</td><td>I would like to buy some red roses for a special occasion.</td><td>Vorrei comprare delle rose rosse per un'occasione speciale.</td><td>null</td><td>2</td><td>Buy things in a store</td><td>Use 'Vorrei comprare' for 'I would like to buy', and 'per un'occasione speciale' for 'for a special occasion'.</td></tr><tr><td>standard question</td><td>Can you wrap these roses as a gift?</td><td>Può confezionare queste rose come un regalo?</td><td>null</td><td>2</td><td>Buy things in a store</td><td>Use 'Può confezionare' for 'Can you wrap', and 'queste rose come un regalo' for 'these roses as a gift'.</td></tr><tr><td>standard question</td><td>How much do white roses cost?</td><td>Quanto costano le rose bianche?</td><td>null</td><td>2</td><td>Buy things in a store</td><td>Use 'Quanto costano' for 'How much do', and 'le rose bianche' for 'white roses'.</td></tr><tr><td>standard question</td><td>I need a bouquet of white roses, please.</td><td>Ho bisogno di un mazzo di rose bianche, per favore.</td><td>null</td><td>2</td><td>Buy things in a store</td><td>Use 'Ho bisogno di' for 'I need', 'un mazzo di' for 'a bouquet of', and 'per favore' for 'please'.</td></tr><tr><td>standard question</td><td>Do you have white roses for a wedding?</td><td>Avete rose bianche per un matrimonio?</td><td>null</td><td>2</td><td>Buy things in a store</td><td>Use 'Avete' for 'Do you have', 'rose bianche' for 'white roses', and 'per un matrimonio' for 'for a wedding'.</td></tr><tr><td>standard question</td><td>How much are the lilies per stem?</td><td>Quanto costano i gigli per stelo?</td><td>null</td><td>2</td><td>Buy things in a store</td><td>Use 'Quanto costano' for 'How much are', and 'i gigli per stelo' for 'the lilies per stem'.</td></tr><tr><td>standard question</td><td>Do you have any lilies for a birthday gift?</td><td>Avete gigli per un regalo di compleanno?</td><td>null</td><td>2</td><td>Buy things in a store</td><td>Use 'Avete' for 'Do you have', 'gigli' for 'lilies', and 'per un regalo di compleanno' for 'for a birthday gift'.</td></tr><tr><td>standard question</td><td>Can I get these lilies delivered tomorrow?</td><td>Posso far consegnare questi gigli domani?</td><td>null</td><td>2</td><td>Buy things in a store</td><td>Use 'Posso' for 'Can I', 'far consegnare' for 'get delivered', and 'questi gigli domani' for 'these lilies tomorrow'.</td></tr><tr><td>standard question</td><td>Can I buy a basket of yellow daisies?</td><td>Posso comprare un cestino di margherite gialle?</td><td>null</td><td>2</td><td>Buy things in a store</td><td>Use 'Posso comprare' for 'Can I buy', and 'un cestino di margherite gialle' for 'a basket of yellow daisies'.</td></tr><tr><td>standard question</td><td>How much does a basket of yellow daisies cost?</td><td>Quanto costa un cestino di margherite gialle?</td><td>null</td><td>2</td><td>Buy things in a store</td><td>Use 'Quanto costa' for 'How much does', and 'un cestino di margherite gialle' for 'a basket of yellow daisies'.</td></tr><tr><td>standard question</td><td>Do you have a discount for buying multiple baskets of yellow daisies?</td><td>Avete uno sconto per l'acquisto di più cestini di margherite gialle?</td><td>null</td><td>2</td><td>Buy things in a store</td><td>Use 'Avete' for 'Do you have', 'uno sconto' for 'a discount', and 'per l'acquisto di più cestini di margherite gialle' for 'for buying multiple baskets of yellow daisies'.</td></tr><tr><td>standard question</td><td>Can I buy a basket of yellow daisies?</td><td>Posso comprare un cestino di margherite gialle?</td><td>null</td><td>2</td><td>Buy things in a store</td><td>Use 'Posso comprare' for 'Can I buy', and 'un cestino di margherite gialle' for 'a basket of yellow daisies'.</td></tr><tr><td>standard question</td><td>How much does a basket of yellow daisies cost?</td><td>Quanto costa un cestino di margherite gialle?</td><td>null</td><td>2</td><td>Buy things in a store</td><td>Use 'Quanto costa' for 'How much does', and 'un cestino di margherite gialle' for 'a basket of yellow daisies'.</td></tr><tr><td>standard question</td><td>Do you have any discounts on yellow daisies?</td><td>Avete sconti sulle margherite gialle?</td><td>null</td><td>2</td><td>Buy things in a store</td><td>Use 'Avete' for 'Do you have', 'sconti' for 'any discounts', and 'sulle margherite gialle' for 'on yellow daisies'.</td></tr><tr><td>standard question</td><td>Can I buy a basket of yellow daisies?</td><td>Posso comprare un cestino di margherite gialle?</td><td>null</td><td>2</td><td>Buy things in a store</td><td>Use 'Posso comprare' for 'Can I buy', and 'un cestino di margherite gialle' for 'a basket of yellow daisies'.</td></tr><tr><td>standard question</td><td>How much does a basket of yellow daisies cost?</td><td>Quanto costa un cestino di margherite gialle?</td><td>null</td><td>2</td><td>Buy things in a store</td><td>Use 'Quanto costa' for 'How much does', and 'un cestino di margherite gialle' for 'a basket of yellow daisies'.</td></tr><tr><td>standard question</td><td>I would like a basket of yellow daisies for my friend's birthday.</td><td>Vorrei un cestino di margherite gialle per il compleanno del mio amico.</td><td>null</td><td>2</td><td>Buy things in a store</td><td>Use 'Vorrei' for 'I would like', 'un cestino di margherite gialle' for 'a basket of yellow daisies', and 'per il compleanno del mio amico' for 'for my friend's birthday'.</td></tr><tr><td>standard question</td><td>Do you sell yellow daisies here?</td><td>Vendete margherite gialle qui?</td><td>null</td><td>2</td><td>Buy things in a store</td><td>Use 'Vendete' for 'Do you sell', and 'margherite gialle qui' for 'yellow daisies here'.</td></tr><tr><td>standard question</td><td>Could you add a card to the basket of daisies?</td><td>Potreste aggiungere un biglietto al cestino di margherite?</td><td>null</td><td>2</td><td>Buy things in a store</td><td>Use 'Potreste aggiungere' for 'Could you add', 'un biglietto' for 'a card', and 'al cestino di margherite' for 'to the basket of daisies'.</td></tr><tr><td>standard question</td><td>Is it possible to reserve a basket of yellow daisies?</td><td>È possibile prenotare un cestino di margherite gialle?</td><td>null</td><td>2</td><td>Buy things in a store</td><td>Use 'È possibile' for 'Is it possible', and 'prenotare un cestino di margherite gialle' for 'reserve a basket of yellow daisies'.</td></tr><tr><td>standard question</td><td>Can I buy a basket of yellow daisies?</td><td>Posso comprare un cestino di margherite gialle?</td><td>null</td><td>2</td><td>Buy things in a store</td><td>Use 'Posso comprare' for 'Can I buy', and 'un cestino di margherite gialle' for 'a basket of yellow daisies'.</td></tr><tr><td>standard question</td><td>How much does a basket of yellow daisies cost?</td><td>Quanto costa un cestino di margherite gialle?</td><td>null</td><td>2</td><td>Buy things in a store</td><td>Use 'Quanto costa' for 'How much does', and 'un cestino di margherite gialle' for 'a basket of yellow daisies'.</td></tr><tr><td>standard question</td><td>Do you have any special offers on yellow daisies?</td><td>Avete offerte speciali su margherite gialle?</td><td>null</td><td>2</td><td>Buy things in a store</td><td>Use 'Avete' for 'Do you have', 'offerte speciali' for 'special offers', and 'su margherite gialle' for 'on yellow daisies'.</td></tr><tr><td>standard question</td><td>How much is a box of hibiscus?</td><td>Quanto costa una scatola di ibisco?</td><td>null</td><td>2</td><td>Buy things in a store</td><td>Use 'Quanto costa' for 'How much is', and 'una scatola di ibisco' for 'a box of hibiscus'.</td></tr><tr><td>standard question</td><td>Do you sell hibiscus here?</td><td>Vendete ibisco qui?</td><td>null</td><td>1</td><td>Buy things in a store</td><td>Use 'Vendete' for 'Do you sell', and 'ibisco qui' for 'hibiscus here'.</td></tr><tr><td>standard question</td><td>Can I pay for the hibiscus with a credit card?</td><td>Posso pagare l'ibisco con una carta di credito?</td><td>null</td><td>2</td><td>Buy things in a store</td><td>Use 'Posso pagare' for 'Can I pay', 'l'ibisco' for 'the hibiscus', and 'con una carta di credito' for 'with a credit card'.</td></tr><tr><td>standard question</td><td>I want to buy a blue jacket.</td><td>Voglio comprare una giacca blu.</td><td>null</td><td>2</td><td>Buy things in a store</td><td>Use 'Voglio comprare' for 'I want to buy', and 'una giacca blu' for 'a blue jacket'.</td></tr><tr><td>standard question</td><td>Can I have this jacket with extra buttons?</td><td>Posso avere questa giacca con bottoni extra?</td><td>null</td><td>2</td><td>Buy things in a store</td><td>Use 'Posso avere' for 'Can I have', 'questa giacca' for 'this jacket', and 'con bottoni extra' for 'with extra buttons'.</td></tr><tr><td>standard question</td><td>Do you have jackets with floral designs?</td><td>Avete giacche con disegni floreali?</td><td>null</td><td>2</td><td>Buy things in a store</td><td>Use 'Avete' for 'Do you have', and 'giacche con disegni floreali' for 'jackets with floral designs'.</td></tr><tr><td>standard question</td><td>I want to buy red roses.</td><td>Voglio comprare delle rose rosse.</td><td>null</td><td>1</td><td>Buy things in a store</td><td>Use 'Voglio comprare' for 'I want to buy', and 'delle rose rosse' for 'red roses'.</td></tr><tr><td>standard question</td><td>Could you recommend a type of red flower?</td><td>Potrebbe consigliarmi un tipo di fiore rosso?</td><td>null</td><td>2</td><td>Buy things in a store</td><td>Use 'Potrebbe consigliarmi' for 'Could you recommend', and 'un tipo di fiore rosso' for 'a type of red flower'.</td></tr><tr><td>standard question</td><td>I'm looking for roses for Valentine's Day.</td><td>Sto cercando delle rose per San Valentino.</td><td>null</td><td>2</td><td>Buy things in a store</td><td>Use 'Sto cercando' for 'I'm looking for', and 'per San Valentino' for 'for Valentine's Day'.</td></tr><tr><td>standard question</td><td>How much does a single hibiscus flower cost?</td><td>Quanto costa un singolo fiore di ibisco?</td><td>null</td><td>2</td><td>Buy things in a store</td><td>Use 'Quanto costa' for 'How much does', 'un singolo' for 'a single', and 'fiore di ibisco' for 'hibiscus flower'.</td></tr><tr><td>standard question</td><td>Do you have hibiscus flowers in different colors?</td><td>Avete fiori di ibisco di diversi colori?</td><td>null</td><td>2</td><td>Buy things in a store</td><td>Use 'Avete' for 'Do you have', 'fiori di ibisco' for 'hibiscus flowers', and 'di diversi colori' for 'in different colors'.</td></tr><tr><td>standard question</td><td>Is this hibiscus flower fresh?</td><td>Questo fiore di ibisco è fresco?</td><td>null</td><td>2</td><td>Buy things in a store</td><td>Use 'Questo' for 'Is this', 'fiore di ibisco' for 'hibiscus flower', and 'è fresco' for 'fresh?'.</td></tr><tr><td>standard question</td><td>How do you say 'I would like a vegan pizza, please' in Italian?</td><td>Vorrei una pizza vegana, per favore</td><td>null</td><td>2</td><td>Order in a restaurant</td><td>Use 'Vorrei' for 'I would like', 'una pizza vegana' for 'a vegan pizza', and 'per favore' for 'please'.</td></tr><tr><td>standard question</td><td>How can you request 'A vegan pizza with no cheese, please' in Italian?</td><td>Una pizza vegana senza formaggio, per favore</td><td>null</td><td>2</td><td>Order in a restaurant</td><td>Use 'Una pizza vegana' for 'A vegan pizza', 'senza formaggio' for 'with no cheese', and 'per favore' for 'please'.</td></tr><tr><td>standard question</td><td>Translate 'Could I get a vegan pizza with extra tomatoes instead of mushrooms?' to Italian.</td><td>Potrei avere una pizza vegana con pomodori extra al posto dei funghi?</td><td>null</td><td>2</td><td>Order in a restaurant</td><td>Use 'Potrei avere' for 'Could I get', 'una pizza vegana' for 'a vegan pizza', 'con pomodori extra' for 'with extra tomatoes', and 'al posto dei funghi' for 'instead of mushrooms'.</td></tr><tr><td>standard question</td><td>What is the Italian word for 'vegan'?</td><td>vegano</td><td>null</td><td>1</td><td>Order in a restaurant</td><td>Remember that 'vegan' translates to 'vegano' in Italian.</td></tr><tr><td>standard question</td><td>How do you ask for no animal products on your pizza in Italian?</td><td>Senza prodotti animali, per favore</td><td>null</td><td>2</td><td>Order in a restaurant</td><td>Use 'Senza' for 'without', 'prodotti animali' for 'animal products', and 'per favore' for 'please'.</td></tr><tr><td>standard question</td><td>How do you say 'Is the dough made without animal products?' in Italian?</td><td>L'impasto è fatto senza prodotti animali?</td><td>null</td><td>2</td><td>Order in a restaurant</td><td>Use 'L'impasto' for 'The dough', 'è fatto' for 'is made', and 'senza prodotti animali' for 'without animal products'.</td></tr><tr><td>standard question</td><td>How much is a bouquet of blue lilies?</td><td>Quanto costa un mazzo di gigli blu?</td><td>null</td><td>2</td><td>Buy things in a store</td><td>Use 'Quanto costa' for 'How much is', and 'un mazzo di gigli blu' for 'a bouquet of blue lilies'.</td></tr><tr><td>standard question</td><td>I would like a bouquet of blue lilies, please.</td><td>Vorrei un mazzo di gigli blu, per favore.</td><td>null</td><td>2</td><td>Buy things in a store</td><td>Use 'Vorrei' for 'I would like', 'un mazzo di' for 'a bouquet of', 'gigli blu' for 'blue lilies', and 'per favore' for 'please'.</td></tr><tr><td>standard question</td><td>Do you have blue lilies available today?</td><td>Avete gigli blu disponibili oggi?</td><td>null</td><td>2</td><td>Buy things in a store</td><td>Use 'Avete' for 'Do you have', 'gigli blu' for 'blue lilies', and 'disponibili oggi' for 'available today'.</td></tr></tbody></table></div>"
      ]
     },
     "metadata": {
      "application/vnd.databricks.v1+output": {
       "addedWidgets": {},
       "aggData": [],
       "aggError": "",
       "aggOverflow": false,
       "aggSchema": [],
       "aggSeriesLimitReached": false,
       "aggType": "",
       "arguments": {},
       "columnCustomDisplayInfos": {},
       "data": [
        [
         "standard question",
         "I would like to buy some white roses.",
         "Vorrei comprare delle rose bianche.",
         null,
         2,
         "Buy things in a store",
         "Remember to use 'comprare' for 'to buy' and 'delle' as the partitive article for 'some'."
        ],
        [
         "standard question",
         "Could you wrap the white roses as a gift?",
         "Potrebbe incartare le rose bianche come un regalo?",
         null,
         3,
         "Buy things in a store",
         "Use 'Potrebbe' for formal 'Could you' and 'incartare' for 'to wrap'."
        ],
        [
         "standard question",
         "I want to buy a blue shirt.",
         "Voglio comprare una camicia blu.",
         null,
         2,
         "Buy things in a store",
         "Remember to use 'voglio' for 'I want' and 'comprare' for 'to buy'. 'Una camicia' is 'a shirt' and 'blu' is 'blue'."
        ],
        [
         "standard question",
         "Can I try on this shirt?",
         "Posso provare questa camicia?",
         null,
         2,
         "Buy things in a store",
         "Use 'posso' for 'can I' and 'provare' for 'try on'. 'Questa camicia' means 'this shirt'."
        ],
        [
         "standard question",
         "I want to order a pizza with pepperoni.",
         "Vorrei ordinare una pizza con il pepperoni.",
         null,
         2,
         "Order in a restaurant",
         "Remember to use 'vorrei' for 'I want' and 'ordinare' for 'to order'. The word for 'with' is 'con'."
        ],
        [
         "standard question",
         "Can I have a pizza with mushrooms?",
         "Posso avere una pizza con funghi?",
         null,
         2,
         "Order in a restaurant",
         "Use 'posso avere' for 'can I have' and remember that 'mushrooms' is 'funghi' in Italian."
        ],
        [
         "standard question",
         "I would like to order a pizza to go.",
         "Vorrei ordinare una pizza da asporto.",
         null,
         3,
         "Order in a restaurant",
         "Use 'vorrei ordinare' for 'I would like to order' and 'da asporto' for 'to go'."
        ],
        [
         "standard question",
         "I want to order a pizza with mushrooms.",
         "Vorrei ordinare una pizza con funghi.",
         null,
         2,
         "Order in a restaurant",
         "Use 'vorrei ordinare' for 'I want to order' and 'con funghi' for 'with mushrooms'."
        ],
        [
         "standard question",
         "Can I have a pizza with extra cheese?",
         "Posso avere una pizza con extra formaggio?",
         null,
         3,
         "Order in a restaurant",
         "Use 'posso avere' for 'Can I have' and 'con extra formaggio' for 'with extra cheese'."
        ],
        [
         "standard question",
         "I would like to customize my pizza toppings.",
         "Vorrei personalizzare gli ingredienti della mia pizza.",
         null,
         4,
         "Order in a restaurant",
         "Use 'vorrei personalizzare' for 'I would like to customize' and 'ingredienti della mia pizza' for 'my pizza toppings'."
        ],
        [
         "standard question",
         "I want to buy a shirt with stripes.",
         "Voglio comprare una camicia a righe.",
         null,
         2,
         "Buy things in a store",
         "Remember to use 'voglio' for 'I want', 'comprare' for 'to buy', and 'a righe' for 'with stripes'."
        ],
        [
         "standard question",
         "Can I try on this shirt?",
         "Posso provare questa camicia?",
         null,
         2,
         "Buy things in a store",
         "Use 'posso' for 'can I' and 'provare' for 'try on'. 'Questa camicia' means 'this shirt'."
        ],
        [
         "standard question",
         "Do you have this shirt in a larger size?",
         "Avete questa camicia in una taglia più grande?",
         null,
         3,
         "Buy things in a store",
         "Use 'avete' for 'do you have', 'questa camicia' for 'this shirt', and 'in una taglia più grande' for 'in a larger size'."
        ],
        [
         "standard question",
         "I want to buy a red coat.",
         "Voglio comprare un cappotto rosso.",
         null,
         2,
         "Shopping",
         "Remember to use 'voglio' for 'I want', 'comprare' for 'to buy', 'un cappotto' for 'a coat', and 'rosso' for 'red'."
        ],
        [
         "standard question",
         "Can I try on this red coat?",
         "Posso provare questo cappotto rosso?",
         null,
         2,
         "Shopping",
         "Use 'posso' for 'can I', 'provare' for 'try on', 'questo' for 'this', and remember the gender agreement for 'cappotto' (masculine)."
        ],
        [
         "standard question",
         "How much does the red coat cost?",
         "Quanto costa il cappotto rosso?",
         null,
         2,
         "Shopping",
         "Use 'quanto costa' for 'how much does it cost' and remember the gender agreement for 'il cappotto' (masculine)."
        ],
        [
         "standard question",
         "A glass of red wine, please",
         "Un bicchiere di vino rosso, per favore",
         null,
         2,
         "Order in a restaurant",
         "Remember to use 'un bicchiere' for 'a glass' and 'vino rosso' for 'red wine'."
        ],
        [
         "standard question",
         "Can I have a beer?",
         "Posso avere una birra?",
         null,
         2,
         "Order in a restaurant",
         "Use 'Posso avere' for 'Can I have' and 'una birra' for 'a beer'."
        ],
        [
         "standard question",
         "Do you have any cocktails?",
         "Avete cocktail?",
         null,
         2,
         "Order in a restaurant",
         "Use 'Avete' for 'Do you have' and 'cocktail' remains the same in Italian."
        ],
        [
         "standard question",
         "I want to conquer the world",
         "Voglio conquistare il mondo",
         null,
         2,
         "Introduce Yourself",
         "Remember to use the first person singular present tense of 'volere' for 'I want' and the infinitive form of 'conquistare' for 'to conquer'."
        ],
        [
         "standard question",
         "How do you say 'world' in Italian?",
         "mondo",
         null,
         1,
         "Talk about family and friends",
         "Translate the word 'world' into Italian, remembering that it is a masculine noun."
        ],
        [
         "standard question",
         "What is the Italian verb for 'to conquer'?",
         "conquistare",
         null,
         1,
         "Buy things in a store",
         "Provide the infinitive form of the verb that means 'to conquer' in Italian."
        ],
        [
         "standard question",
         "I want to buy red roses.",
         "Voglio comprare delle rose rosse.",
         null,
         2,
         "Buy things in a store",
         "Use 'Voglio' for 'I want', 'comprare' for 'to buy', and 'delle rose rosse' for 'some red roses'."
        ],
        [
         "standard question",
         "Can I have a bouquet of red roses, please?",
         "Posso avere un mazzo di rose rosse, per favore?",
         null,
         2,
         "Buy things in a store",
         "Use 'Posso avere' for 'Can I have', 'un mazzo di' for 'a bouquet of', and 'per favore' for 'please'."
        ],
        [
         "standard question",
         "How much do the red roses cost?",
         "Quanto costano le rose rosse?",
         null,
         1,
         "Buy things in a store",
         "Use 'Quanto costano' for 'How much do', and 'le rose rosse' for 'the red roses'."
        ],
        [
         "standard question",
         "I want to buy some paint for my house.",
         "Voglio comprare della vernice per la mia casa.",
         null,
         2,
         "Buy things in a store",
         "Use 'Voglio' for 'I want', 'comprare' for 'to buy', and 'della vernice' for 'some paint'."
        ],
        [
         "standard question",
         "Do you sell paintbrushes here?",
         "Vendete pennelli qui?",
         null,
         2,
         "Buy things in a store",
         "Use 'Vendete' for 'Do you sell', and 'pennelli' for 'paintbrushes'."
        ],
        [
         "standard question",
         "Can I have a color chart, please?",
         "Posso avere una mazzetta colori, per favore?",
         null,
         2,
         "Buy things in a store",
         "Use 'Posso avere' for 'Can I have', and 'una mazzetta colori' for 'a color chart'."
        ],
        [
         "standard question",
         "Where is the nearest pharmacy?",
         "Dov'è la farmacia più vicina?",
         null,
         1,
         "Navigate a City",
         "Remember that 'dov'è' is a contraction of 'dove è', which means 'where is'."
        ],
        [
         "standard question",
         "Is this the right way to the museum?",
         "È questa la strada giusta per il museo?",
         null,
         1,
         "Navigate a City",
         "Note that 'È questa' means 'Is this' and 'la strada giusta' means 'the right way'."
        ],
        [
         "standard question",
         "Can I walk to the city square from here?",
         "Posso andare a piedi in piazza da qui?",
         null,
         1,
         "Navigate a City",
         "Remember that 'andare a piedi' means 'to walk' and 'in piazza' refers to 'to the city square'."
        ],
        [
         "standard question",
         "Where is the nearest pharmacy?",
         "Dove si trova la farmacia più vicina?",
         null,
         1,
         "Navigate a City",
         "Remember to use 'Dove si trova' for 'Where is' and 'la farmacia più vicina' for 'the nearest pharmacy'."
        ],
        [
         "standard question",
         "Is this the right bus for the Colosseum?",
         "È questo l'autobus giusto per il Colosseo?",
         null,
         1,
         "Navigate a City",
         "Use 'È questo' for 'Is this' and 'l'autobus giusto per' for 'the right bus for'. 'Colosseum' remains 'Colosseo' in Italian."
        ],
        [
         "standard question",
         "How much is a subway ticket?",
         "Quanto costa un biglietto della metropolitana?",
         null,
         1,
         "Navigate a City",
         "Use 'Quanto costa' for 'How much is' and 'un biglietto della metropolitana' for 'a subway ticket'."
        ],
        [
         "standard question",
         "I am from [___].",
         "Sono di [___]",
         null,
         1,
         "Introduce Yourself",
         "To tell someone where you are from, use 'Sono di' followed by the name of the place."
        ],
        [
         "standard question",
         "I live in [___].",
         "Vivo a [___]",
         null,
         1,
         "Introduce Yourself",
         "To say where you live, use 'Vivo a' followed by the name of the city or place."
        ],
        [
         "standard question",
         "I am [___] years old.",
         "Ho [___] anni",
         null,
         1,
         "Introduce Yourself",
         "To state your age in Italian, use 'Ho' followed by your age and then 'anni'."
        ],
        [
         "standard question",
         "Where are you from?",
         "Di dove sei?",
         null,
         1,
         "Introduce Yourself",
         "Use 'Di dove sei?' to ask someone where they are from. It literally means 'From where are you?'"
        ],
        [
         "standard question",
         "I am from [___].",
         "Sono di [___].",
         null,
         1,
         "Introduce Yourself",
         "To tell someone where you are from, say 'Sono di' followed by the name of the place. It means 'I am from'."
        ],
        [
         "standard question",
         "What do you do for a living?",
         "Che lavoro fai?",
         null,
         1,
         "Introduce Yourself",
         "Ask someone about their profession by saying 'Che lavoro fai?'. It means 'What work do you do?'"
        ],
        [
         "standard question",
         "My sister's name is Maria",
         "Mia sorella si chiama Maria",
         null,
         1,
         "Talk about family and friends",
         "Remember to use 'si chiama' for 'is named/called'."
        ],
        [
         "standard question",
         "Do you have any siblings?",
         "Hai fratelli o sorelle?",
         null,
         1,
         "Talk about family and friends",
         "Use 'fratelli' for brothers and 'sorelle' for sisters, and remember the word order in a question."
        ],
        [
         "standard question",
         "My best friend is very funny",
         "Il mio migliore amico è molto divertente",
         null,
         1,
         "Talk about family and friends",
         "Remember to use 'migliore amico' for 'best friend' and 'molto' for 'very'."
        ],
        [
         "standard question",
         "How many children does your sister have?",
         "Quanti figli ha tua sorella?",
         null,
         1,
         "Talk about family and friends",
         "Remember to use 'quanti' for 'how many' and 'tua sorella' for 'your sister'."
        ],
        [
         "standard question",
         "My best friend is very funny.",
         "Il mio migliore amico è molto divertente.",
         null,
         1,
         "Talk about family and friends",
         "Use 'migliore amico' for 'best friend' and 'molto divertente' for 'very funny'."
        ],
        [
         "standard question",
         "We have a family reunion every year.",
         "Abbiamo una riunione di famiglia ogni anno.",
         null,
         1,
         "Talk about family and friends",
         "Use 'riunione di famiglia' for 'family reunion' and 'ogni anno' for 'every year'."
        ],
        [
         "standard question",
         "Can we have some water, please?",
         "Possiamo avere dell'acqua, per favore?",
         null,
         1,
         "Order in a restaurant",
         "Use 'possiamo avere' for 'can we have' and 'dell'acqua' for 'some water'."
        ],
        [
         "standard question",
         "Is there a vegetarian option?",
         "C'è un'opzione vegetariana?",
         null,
         1,
         "Order in a restaurant",
         "Use 'C'è' for 'Is there' and 'un'opzione vegetariana' for 'a vegetarian option'."
        ],
        [
         "standard question",
         "Could I see the dessert menu, please?",
         "Potrei vedere il menù dei dolci, per favore?",
         null,
         1,
         "Order in a restaurant",
         "Use 'Potrei vedere' for 'Could I see' and 'il menù dei dolci' for 'the dessert menu'."
        ],
        [
         "standard question",
         "Can I have the bill, please?",
         "Il conto, per favore",
         null,
         1,
         "Order in a restaurant",
         "Use 'Il conto' for 'the bill' and 'per favore' for 'please'."
        ],
        [
         "standard question",
         "Is there a table available for two?",
         "C'è un tavolo disponibile per due?",
         null,
         1,
         "Order in a restaurant",
         "Use 'C'è un tavolo' for 'Is there a table' and 'disponibile per due' for 'available for two'."
        ],
        [
         "standard question",
         "Do you have vegetarian options?",
         "Avete opzioni vegetariane?",
         null,
         1,
         "Order in a restaurant",
         "Use 'Avete' for 'Do you have' and 'opzioni vegetariane' for 'vegetarian options'."
        ],
        [
         "standard question",
         "How much does this cost?",
         "Quanto costa questo?",
         null,
         1,
         "Buy things in a store",
         "Use 'Quanto costa' for 'How much does' and 'questo' for 'this'."
        ],
        [
         "standard question",
         "Can I pay with a credit card?",
         "Posso pagare con carta di credito?",
         null,
         1,
         "Buy things in a store",
         "Use 'Posso pagare' for 'Can I pay' and 'con carta di credito' for 'with a credit card'."
        ],
        [
         "standard question",
         "Do you have this in a larger size?",
         "Avete questo in una taglia più grande?",
         null,
         1,
         "Buy things in a store",
         "Use 'Avete' for 'Do you have', 'questo' for 'this', and 'in una taglia più grande' for 'in a larger size'."
        ],
        [
         "standard question",
         "How much does this cost?",
         "Quanto costa questo?",
         null,
         1,
         "Buy things in a store",
         "Use 'Quanto costa' for 'How much does' and 'questo' for 'this'."
        ],
        [
         "standard question",
         "Can I pay with a credit card?",
         "Posso pagare con carta di credito?",
         null,
         1,
         "Buy things in a store",
         "Use 'Posso pagare' for 'Can I pay' and 'con carta di credito' for 'with a credit card'."
        ],
        [
         "standard question",
         "Do you have this in a smaller size?",
         "Avete questo in una taglia più piccola?",
         null,
         1,
         "Buy things in a store",
         "Use 'Avete' for 'Do you have', 'questo' for 'this', and 'in una taglia più piccola' for 'in a smaller size'."
        ],
        [
         "standard question",
         "Could you show me where the organic products section is?",
         "Potrebbe mostrarmi dove si trova la sezione dei prodotti biologici?",
         null,
         5,
         "Buy things in a store",
         "Use 'Potrebbe mostrarmi' for 'Could you show me', and 'dove si trova' for 'where is'. Remember that 'prodotti biologici' means 'organic products'."
        ],
        [
         "standard question",
         "I'm looking for a limited edition watch, do you carry any?",
         "Sto cercando un orologio in edizione limitata, ne avete?",
         null,
         5,
         "Buy things in a store",
         "Use 'Sto cercando' for 'I'm looking for', and 'ne avete' for 'do you carry any'. 'Orologio in edizione limitata' is 'limited edition watch'."
        ],
        [
         "standard question",
         "Is it possible to place a special order for a product that is not currently in stock?",
         "È possibile fare un ordine speciale per un prodotto che non è attualmente disponibile?",
         null,
         5,
         "Buy things in a store",
         "Use 'È possibile fare' for 'Is it possible to place', and 'un ordine speciale' for 'a special order'. 'Prodotto che non è attualmente disponibile' means 'product that is not currently in stock'."
        ],
        [
         "standard question",
         "Could you show me where the organic products section is?",
         "Potrebbe mostrarmi dove si trova la sezione dei prodotti biologici?",
         null,
         5,
         "Buy things in a store",
         "Use 'Potrebbe mostrarmi' for 'Could you show me', and 'dove si trova' for 'where is'. Remember that 'prodotti biologici' means 'organic products'."
        ],
        [
         "standard question",
         "I'm looking for a limited edition perfume, do you carry it?",
         "Sto cercando un profumo in edizione limitata, lo tenete?",
         null,
         5,
         "Buy things in a store",
         "Use 'Sto cercando' for 'I'm looking for', and 'in edizione limitata' for 'limited edition'. 'Lo tenete?' means 'do you carry it?'."
        ],
        [
         "standard question",
         "Is there a possibility to custom order a piece of jewelry?",
         "C'è la possibilità di ordinare su misura un pezzo di gioielleria?",
         null,
         5,
         "Buy things in a store",
         "Use 'C'è la possibilità' for 'Is there a possibility', and 'ordinare su misura' for 'custom order'. 'Un pezzo di gioielleria' means 'a piece of jewelry'."
        ],
        [
         "standard question",
         "I have been learning Italian for several years and I'm fluent in it.",
         "Studio l'italiano da diversi anni e lo parlo correntemente.",
         null,
         5,
         "Introduce Yourself",
         "Remember to use the present tense 'studio' for ongoing actions and 'da' for 'for' when indicating a period of time. 'Correntemente' is used for 'fluently'."
        ],
        [
         "standard question",
         "Apart from my native language, I can also speak two other foreign languages.",
         "Oltre alla mia lingua madre, parlo anche altre due lingue straniere.",
         null,
         5,
         "Introduce Yourself",
         "Use 'oltre a' to express 'apart from' and 'anche' for 'also'. Remember to use the plural form 'lingue straniere' for 'foreign languages'."
        ],
        [
         "standard question",
         "I have a passion for Italian culture and literature, which inspired me to study the language.",
         "Ho una passione per la cultura e la letteratura italiana, che mi ha ispirato a studiare la lingua.",
         null,
         5,
         "Introduce Yourself",
         "Use 'Ho una passione per' to express 'I have a passion for'. 'Che' is a relative pronoun that connects the clause to 'cultura e letteratura italiana'."
        ],
        [
         "standard question",
         "Could you recommend a less touristy neighborhood to explore?",
         "Potrebbe consigliarmi un quartiere meno turistico da esplorare?",
         null,
         5,
         "Navigate a City",
         "Use 'Potrebbe consigliarmi' for formal 'Could you recommend' and 'meno turistico' for 'less touristy'."
        ],
        [
         "standard question",
         "Is it safe to wander around this area at night?",
         "È sicuro girovagare in questa zona di notte?",
         null,
         5,
         "Navigate a City",
         "Remember to use 'È sicuro' for 'Is it safe' and 'girovagare' for 'to wander around'."
        ],
        [
         "standard question",
         "What's the historical significance of this monument?",
         "Qual è il significato storico di questo monumento?",
         null,
         5,
         "Navigate a City",
         "Use 'Qual è' for 'What's' and 'significato storico' for 'historical significance'."
        ],
        [
         "standard question",
         "My cousin and I share the same passion for classical music.",
         "Mio cugino e io condividiamo la stessa passione per la musica classica.",
         null,
         5,
         "Talk about family and friends",
         "Remember to use 'condividiamo' for 'share' and 'la stessa passione' for 'the same passion'."
        ],
        [
         "standard question",
         "My best friend's sense of humor always brightens up our gatherings.",
         "Il senso dell'umorismo del mio migliore amico illumina sempre i nostri incontri.",
         null,
         5,
         "Talk about family and friends",
         "Use 'senso dell'umorismo' for 'sense of humor' and 'illumina sempre' for 'always brightens up'."
        ],
        [
         "standard question",
         "During our family dinners, we often reminisce about our childhood adventures.",
         "Durante le nostre cene in famiglia, spesso ricordiamo le avventure della nostra infanzia.",
         null,
         5,
         "Talk about family and friends",
         "Use 'ricordiamo' for 'reminisce' and 'le avventure della nostra infanzia' for 'our childhood adventures'."
        ],
        [
         "standard question",
         "Could you recommend a local specialty?",
         "Potrebbe consigliarmi una specialità locale?",
         null,
         5,
         "Order in a restaurant",
         "Use 'Potrebbe consigliarmi' for 'Could you recommend' and 'una specialità locale' for 'a local specialty'."
        ],
        [
         "standard question",
         "I have certain dietary restrictions, can you accommodate them?",
         "Ho alcune restrizioni alimentari, potete tenerne conto?",
         null,
         5,
         "Order in a restaurant",
         "Use 'Ho alcune restrizioni alimentari' for 'I have certain dietary restrictions' and 'potete tenerne conto?' for 'can you accommodate them?'."
        ],
        [
         "standard question",
         "Is this dish served with any side dishes?",
         "Questo piatto è servito con contorni?",
         null,
         5,
         "Order in a restaurant",
         "Use 'Questo piatto' for 'this dish', 'è servito' for 'is served', and 'con contorni?' for 'with any side dishes?'."
        ],
        [
         "standard question",
         "Could you show me where the organic products section is?",
         "Potrebbe mostrarmi dove si trova la sezione dei prodotti biologici?",
         null,
         5,
         "Buy things in a store",
         "Use 'Potrebbe mostrarmi' for 'Could you show me', and 'dove si trova' for 'where is'. Remember that 'prodotti biologici' means 'organic products'."
        ],
        [
         "standard question",
         "I'm looking for a limited edition fragrance, do you carry it?",
         "Sto cercando un profumo in edizione limitata, lo tenete?",
         null,
         5,
         "Buy things in a store",
         "Use 'Sto cercando' for 'I'm looking for', and 'in edizione limitata' for 'limited edition'. 'Lo tenete?' is asking 'do you carry it?'."
        ],
        [
         "standard question",
         "Is there a discount if I purchase multiple items?",
         "C'è uno sconto se acquisto più articoli?",
         null,
         5,
         "Buy things in a store",
         "Use 'C'è uno sconto' for 'Is there a discount' and 'se acquisto' for 'if I purchase'. 'Più articoli' means 'multiple items'."
        ],
        [
         "standard question",
         "In my free time, I enjoy writing poetry and exploring the nuances of the Italian language.",
         "Nel mio tempo libero, mi piace scrivere poesie ed esplorare le sfumature della lingua italiana.",
         null,
         5,
         "Introduce Yourself",
         "Use 'Nel mio tempo libero' for 'In my free time', 'mi piace' for 'I enjoy', and 'ed esplorare' for 'and exploring'. Remember to maintain the subjunctive where appropriate."
        ],
        [
         "standard question",
         "I have been practicing the violin for over a decade, which has become a significant part of my identity.",
         "Suono il violino da oltre un decennio, il che è diventato una parte significativa della mia identità.",
         null,
         5,
         "Introduce Yourself",
         "Use 'Suono il violino' for 'I have been practicing the violin', 'da oltre un decennio' for 'for over a decade', and 'il che è diventato' for 'which has become'."
        ],
        [
         "standard question",
         "I am passionate about underwater photography and the preservation of marine ecosystems.",
         "Sono appassionato di fotografia subacquea e della conservazione degli ecosistemi marini.",
         null,
         5,
         "Introduce Yourself",
         "Use 'Sono appassionato di' for 'I am passionate about', and remember to include 'della conservazione' for 'the preservation of'."
        ],
        [
         "standard question",
         "Could you give me directions to the nearest pharmacy?",
         "Potrebbe darmi indicazioni per la farmacia più vicina?",
         null,
         5,
         "Navigate a City",
         "Use 'Potrebbe darmi indicazioni' for 'Could you give me directions' and 'la farmacia più vicina' for 'the nearest pharmacy'."
        ],
        [
         "standard question",
         "I seem to be lost, can you help me find this address?",
         "Mi sono perso, può aiutarmi a trovare questo indirizzo?",
         null,
         5,
         "Navigate a City",
         "Remember to use 'Mi sono perso' for 'I seem to be lost' and 'può aiutarmi a trovare' for 'can you help me find'."
        ],
        [
         "standard question",
         "Is there a landmark nearby that I can use to orient myself?",
         "C'è un punto di riferimento nelle vicinanze che posso usare per orientarmi?",
         null,
         5,
         "Navigate a City",
         "Use 'C'è un punto di riferimento nelle vicinanze' for 'Is there a landmark nearby' and 'posso usare per orientarmi' for 'I can use to orient myself'."
        ],
        [
         "standard question",
         "In our extended family, we have over twenty cousins, aunts, and uncles combined.",
         "Nella nostra famiglia allargata, abbiamo più di venti tra cugini, zii e zie.",
         null,
         5,
         "Talk about family and friends",
         "Use 'nella nostra famiglia allargata' for 'in our extended family', 'abbiamo' for 'we have', 'più di venti' for 'over twenty', and 'tra cugini, zii e zie' for 'cousins, aunts, and uncles combined'."
        ],
        [
         "standard question",
         "My great-grandparents immigrated to Italy, which is why we have such a diverse heritage.",
         "I miei bisnonni sono emigrati in Italia, il che spiega perché abbiamo un'eredità così diversificata.",
         null,
         5,
         "Talk about family and friends",
         "Use 'i miei bisnonni' for 'my great-grandparents', 'sono emigrati in Italia' for 'immigrated to Italy', and 'il che spiega perché abbiamo un'eredità così diversificata' for 'which is why we have such a diverse heritage'."
        ],
        [
         "standard question",
         "Among my siblings, I am the only one who pursued a career in the arts.",
         "Tra i miei fratelli, sono l'unico che ha intrapreso una carriera artistica.",
         null,
         5,
         "Talk about family and friends",
         "Use 'tra i miei fratelli' for 'among my siblings', 'sono l'unico' for 'I am the only one', and 'ha intrapreso una carriera artistica' for 'pursued a career in the arts'."
        ],
        [
         "standard question",
         "Could you recommend a local specialty?",
         "Potrebbe consigliarmi una specialità locale?",
         null,
         5,
         "Order in a restaurant",
         "Use 'Potrebbe consigliarmi' for 'Could you recommend' and 'una specialità locale' for 'a local specialty'. Remember to maintain formal address ('Potrebbe' instead of 'Potresti') as it is a restaurant setting."
        ],
        [
         "standard question",
         "I have dietary restrictions, can you point out suitable dishes?",
         "Ho delle restrizioni alimentari, può indicarmi dei piatti adatti?",
         null,
         5,
         "Order in a restaurant",
         "Use 'Ho delle restrizioni alimentari' for 'I have dietary restrictions' and 'può indicarmi dei piatti adatti?' for 'can you point out suitable dishes?'. Maintain formal address with 'può' instead of 'puoi'."
        ],
        [
         "standard question",
         "I'm having trouble deciding, what do you suggest between these two dishes?",
         "Sto avendo difficoltà a decidere, cosa suggerisce tra questi due piatti?",
         null,
         5,
         "Order in a restaurant",
         "Use 'Sto avendo difficoltà a decidere' for 'I'm having trouble deciding' and 'cosa suggerisce tra questi due piatti?' for 'what do you suggest between these two dishes?'. Keep the formal 'suggerisce' for 'suggest'."
        ],
        [
         "standard question",
         "I'm looking for a unique gift for my friend who appreciates Italian fashion. Could you recommend something?",
         "Sto cercando un regalo unico per un mio amico che apprezza la moda italiana. Potreste consigliarmi qualcosa?",
         null,
         5,
         "Buy things in a store",
         "Use 'sto cercando' for 'I'm looking for', 'un regalo unico' for 'a unique gift', and 'potreste consigliarmi' for 'could you recommend'. Remember to adjust the possessive 'mio' to match the gender of 'amico' if needed."
        ],
        [
         "standard question",
         "I would like to find a bookstore that sells rare editions for my literature enthusiast friend.",
         "Vorrei trovare una libreria che venda edizioni rare per il mio amico appassionato di letteratura.",
         null,
         5,
         "Buy things in a store",
         "Use 'vorrei trovare' for 'I would like to find', 'una libreria' for 'a bookstore', and 'che venda edizioni rare' for 'that sells rare editions'. Include 'per il mio amico appassionato di letteratura' to specify the gift is for a friend who loves literature."
        ],
        [
         "standard question",
         "Could you suggest a local artisan who can craft a personalized gift for my friend's birthday?",
         "Potreste suggerirmi un artigiano locale che possa creare un regalo personalizzato per il compleanno del mio amico?",
         null,
         5,
         "Buy things in a store",
         "Use 'potreste suggerirmi' for 'could you suggest', 'un artigiano locale' for 'a local artisan', and 'che possa creare un regalo personalizzato' for 'who can craft a personalized gift'. Remember to use 'per il compleanno del mio amico' to indicate the occasion."
        ],
        [
         "standard question",
         "Can you show me where the jackets are?",
         "Mi può mostrare dove sono i giubbotti?",
         null,
         2,
         "Buy things in a store",
         "Use 'Mi può mostrare' for 'Can you show me', 'dove' for 'where', and 'i giubbotti' for 'the jackets'."
        ],
        [
         "standard question",
         "How much does this jacket cost?",
         "Quanto costa questo giubbotto?",
         null,
         2,
         "Buy things in a store",
         "Use 'Quanto costa' for 'How much does', and 'questo giubbotto' for 'this jacket'."
        ],
        [
         "standard question",
         "Do you have this jacket in a larger size?",
         "Ha questo giubbotto in una taglia più grande?",
         null,
         2,
         "Buy things in a store",
         "Use 'Ha' for 'Do you have', 'questo giubbotto' for 'this jacket', and 'in una taglia più grande' for 'in a larger size'."
        ],
        [
         "standard question",
         "Could you explain the different types of train tickets available?",
         "Potrebbe spiegare i diversi tipi di biglietti del treno disponibili?",
         null,
         5,
         "Buy things in a store",
         "Use 'Potrebbe' for 'Could you' in a formal request, 'spiegare' for 'explain', and 'diversi tipi di biglietti del treno' for 'different types of train tickets'."
        ],
        [
         "standard question",
         "I would like to reserve a seat by the window on the next high-speed train to Milan.",
         "Vorrei prenotare un posto finestrino sul prossimo treno ad alta velocità per Milano.",
         null,
         5,
         "Buy things in a store",
         "Use 'Vorrei' for 'I would like', 'prenotare' for 'to reserve', 'un posto finestrino' for 'a seat by the window', and 'treno ad alta velocità' for 'high-speed train'."
        ],
        [
         "standard question",
         "Is there a discount for purchasing round-trip tickets in advance?",
         "C'è uno sconto per l'acquisto di biglietti andata e ritorno in anticipo?",
         null,
         5,
         "Buy things in a store",
         "Use 'C'è' for 'Is there', 'uno sconto' for 'a discount', 'per l'acquisto di' for 'for purchasing', and 'biglietti andata e ritorno' for 'round-trip tickets'."
        ],
        [
         "standard question",
         "Could you explain the different types of train tickets available?",
         "Potrebbe spiegare i diversi tipi di biglietti del treno disponibili?",
         null,
         5,
         "Buy things in a store",
         "Use 'Potrebbe' for 'Could you' as a formal request, 'spiegare' for 'explain', and 'diversi tipi di biglietti del treno' for 'different types of train tickets'."
        ],
        [
         "standard question",
         "I would like to reserve a seat by the window in a non-smoking compartment, please.",
         "Vorrei prenotare un posto vicino al finestrino in uno scompartimento non fumatori, per favore.",
         null,
         5,
         "Buy things in a store",
         "Use 'Vorrei' for 'I would like', 'prenotare' for 'to reserve', 'posto vicino al finestrino' for 'seat by the window', and 'scompartimento non fumatori' for 'non-smoking compartment'."
        ],
        [
         "standard question",
         "Is there a discount for purchasing round-trip tickets?",
         "C'è uno sconto per l'acquisto di biglietti andata e ritorno?",
         null,
         5,
         "Buy things in a store",
         "Use 'C'è' for 'Is there', 'uno sconto' for 'a discount', and 'biglietti andata e ritorno' for 'round-trip tickets'."
        ],
        [
         "standard question",
         "I need to purchase two tickets to Madrid for next Monday; could you recommend the best train connection?",
         "Devo acquistare due biglietti per Madrid per lunedì prossimo; potrebbe consigliarmi il miglior collegamento ferroviario?",
         null,
         5,
         "Buy things in a store",
         "Use 'Devo' for 'I need to', 'acquistare' for 'purchase', and 'biglietti per' for 'tickets to'. Remember to use the conditional 'potrebbe consigliarmi' for 'could you recommend' and 'il miglior collegamento ferroviario' for 'the best train connection'."
        ],
        [
         "standard question",
         "Could you apply a discount if I buy two round-trip tickets to Madrid?",
         "Potrebbe applicare uno sconto se acquisto due biglietti andata e ritorno per Madrid?",
         null,
         5,
         "Buy things in a store",
         "Use 'Potrebbe' for 'Could you', 'applicare' for 'apply', 'uno sconto' for 'a discount', and 'se acquisto' for 'if I buy'. 'Due biglietti andata e ritorno' means 'two round-trip tickets'."
        ],
        [
         "standard question",
         "I'm looking for a travel agency that can help me with purchasing two tickets to Madrid; do you know where I can find one?",
         "Sto cercando un'agenzia di viaggi che possa aiutarmi ad acquistare due biglietti per Madrid; sa dove posso trovarne una?",
         null,
         5,
         "Buy things in a store",
         "Use 'Sto cercando' for 'I'm looking for', 'un'agenzia di viaggi' for 'a travel agency', 'che possa aiutarmi' for 'that can help me', and 'ad acquistare' for 'with purchasing'. 'Sa dove posso trovarne una?' means 'do you know where I can find one?'."
        ],
        [
         "standard question",
         "I would like to book a table for two at 8 PM tonight, is it possible?",
         "Vorrei prenotare un tavolo per due alle 20 di stasera, è possibile?",
         null,
         5,
         "Order in a restaurant",
         "Use 'Vorrei prenotare' for 'I would like to book', 'un tavolo per due' for 'a table for two', 'alle 20' for 'at 8 PM', and 'di stasera' for 'tonight'."
        ],
        [
         "standard question",
         "Could you please accommodate a party of six at 7:30 PM, preferably by the window?",
         "Potreste ospitare un gruppo di sei persone alle 19:30, preferibilmente vicino alla finestra?",
         null,
         5,
         "Order in a restaurant",
         "Use 'Potreste ospitare' for 'Could you please accommodate', 'un gruppo di sei persone' for 'a party of six', 'alle 19:30' for 'at 7:30 PM', and 'preferibilmente vicino alla finestra' for 'preferably by the window'."
        ],
        [
         "standard question",
         "I have a reservation under the name Rossi for 9 PM, could we have a quiet table away from the entrance?",
         "Ho una prenotazione a nome Rossi per le 21, potremmo avere un tavolo tranquillo lontano dall'ingresso?",
         null,
         5,
         "Order in a restaurant",
         "Use 'Ho una prenotazione' for 'I have a reservation', 'a nome Rossi' for 'under the name Rossi', 'per le 21' for 'for 9 PM', and 'potremmo avere un tavolo tranquillo lontano dall'ingresso' for 'could we have a quiet table away from the entrance'."
        ],
        [
         "standard question",
         "I want to discuss the security systems in homes.",
         "Voglio discutere dei sistemi di sicurezza nelle abitazioni.",
         null,
         5,
         "Introduce Yourself",
         "Use 'Voglio' for 'I want', 'discutere' for 'to discuss', and 'dei sistemi di sicurezza' for 'the security systems'."
        ],
        [
         "standard question",
         "I'm interested in the architecture of residential buildings.",
         "Mi interessa l'architettura degli edifici residenziali.",
         null,
         5,
         "Navigate a City",
         "Use 'Mi interessa' for 'I'm interested in', and 'l'architettura degli edifici residenziali' for 'the architecture of residential buildings'."
        ],
        [
         "standard question",
         "Could you recommend a locksmith?",
         "Potresti consigliarmi un fabbro?",
         null,
         5,
         "Buy things in a store",
         "Use 'Potresti' for 'Could you', 'consigliarmi' for 'recommend', and 'un fabbro' for 'a locksmith'."
        ],
        [
         "standard question",
         "I'm considering adopting a pet, could you tell me about the adoption process?",
         "Sto considerando di adottare un animale domestico, potrebbe spiegarmi il processo di adozione?",
         null,
         5,
         "Buy things in a store",
         "Use 'Sto considerando' for 'I'm considering', 'di adottare' for 'to adopt', and 'potrebbe spiegarmi' for 'could you tell me'. Remember to maintain the formal tone by using 'potrebbe' instead of 'puoi'."
        ],
        [
         "standard question",
         "I would like to inquire about the necessary vaccinations for a new puppy.",
         "Vorrei informarmi sulle vaccinazioni necessarie per un cucciolo appena adottato.",
         null,
         5,
         "Buy things in a store",
         "Use 'Vorrei informarmi' for 'I would like to inquire', 'sulle vaccinazioni necessarie' for 'about the necessary vaccinations', and 'per un cucciolo appena adottato' for 'for a new puppy'."
        ],
        [
         "standard question",
         "Do you offer any guidance or training for first-time pet owners?",
         "Offrite qualche guida o addestramento per i proprietari di animali alla prima esperienza?",
         null,
         5,
         "Buy things in a store",
         "Use 'Offrite' for 'Do you offer', 'qualche guida o addestramento' for 'any guidance or training', and 'per i proprietari di animali alla prima esperienza' for 'for first-time pet owners'."
        ],
        [
         "standard question",
         "My girlfriend is afraid of cats, so we have to be careful when we visit friends with pets.",
         "La mia ragazza ha paura dei gatti, quindi dobbiamo stare attenti quando visitiamo amici con animali domestici.",
         null,
         5,
         "Talk about family and friends",
         "Remember to use the correct form of 'to be afraid' (avere paura) and the plural form of 'cats' (gatti). Also, translate 'we have to be careful' accurately, considering the necessity and the reflexive construction in Italian."
        ],
        [
         "standard question",
         "Whenever we see a cat, she clings to me out of fear.",
         "Ogni volta che vediamo un gatto, si aggrappa a me per la paura.",
         null,
         5,
         "Talk about family and friends",
         "Pay attention to the reflexive verb 'to cling' (aggrapparsi) and the preposition 'out of' which translates to 'per' in this context."
        ],
        [
         "standard question",
         "I'm trying to help her overcome her fear of cats by gradually getting her used to being around them.",
         "Sto cercando di aiutarla a superare la sua paura dei gatti abituandola gradualmente a stare in loro presenza.",
         null,
         5,
         "Talk about family and friends",
         "Use the gerund form of 'trying' (cercando) and the infinitive 'to help' (aiutare). Also, include the phrase 'to get used to' (abituarsi) and 'gradually' (gradualmente)."
        ],
        [
         "standard question",
         "I aspire to embody the grace and independence of a cat in my daily life.",
         "Aspiro ad incarnare la grazia e l'indipendenza di un gatto nella mia vita quotidiana.",
         null,
         5,
         "Introduce Yourself",
         "Use 'aspiro' for 'I aspire', 'ad incarnare' for 'to embody', and remember to use the definite article 'un' before 'gatto'."
        ],
        [
         "standard question",
         "Discussing the philosophical implications of desiring to transform into a cat could be quite intriguing.",
         "Discutere le implicazioni filosofiche del desiderio di trasformarsi in un gatto potrebbe essere molto intrigante.",
         null,
         5,
         "Introduce Yourself",
         "Use 'discutere' for 'discussing', 'le implicazioni filosofiche' for 'the philosophical implications', and 'del desiderio di trasformarsi' for 'of desiring to transform'."
        ],
        [
         "standard question",
         "If I were to become a cat, I would spend my days basking in the sun and exploring rooftops.",
         "Se diventassi un gatto, passerei le mie giornate a crogiolarmi al sole ed esplorare i tetti.",
         null,
         5,
         "Introduce Yourself",
         "Use the imperfect subjunctive 'diventassi' for 'were to become', 'passerei' for 'I would spend', and 'a crogiolarmi' for 'basking'."
        ],
        [
         "standard question",
         "I am lost and do not know how to get back home. Could you assist me?",
         "Mi sono perso e non so come tornare a casa. Potrebbe aiutarmi?",
         null,
         5,
         "Navigate a City",
         "Use 'Mi sono perso' for 'I am lost', 'non so come' for 'do not know how to', and 'tornare a casa' for 'get back home'."
        ],
        [
         "standard question",
         "I've lost my bearings and need directions to my residence, can you guide me?",
         "Ho perso l'orientamento e ho bisogno di indicazioni per la mia residenza, può guidarmi?",
         null,
         5,
         "Navigate a City",
         "Remember to use 'Ho perso l'orientamento' for 'I've lost my bearings', 'ho bisogno di indicazioni' for 'need directions', and 'per la mia residenza' for 'to my residence'."
        ],
        [
         "standard question",
         "I'm disoriented and can't find my way back, could you point me in the right direction?",
         "Sono disorientato e non riesco a trovare la strada di ritorno, potrebbe indicarmi la direzione giusta?",
         null,
         5,
         "Navigate a City",
         "Use 'Sono disorientato' for 'I'm disoriented', 'non riesco a trovare' for 'can't find', and 'la strada di ritorno' for 'my way back'."
        ],
        [
         "standard question",
         "Could you recommend a pasta dish that includes broccoli?",
         "Potrebbe consigliarmi un piatto di pasta che includa il broccolo?",
         null,
         5,
         "Order in a restaurant",
         "Use 'Potrebbe consigliarmi' for 'Could you recommend' and 'un piatto di pasta che includa il broccolo' for 'a pasta dish that includes broccoli'."
        ],
        [
         "standard question",
         "I'm looking for a specialty store that sells high-quality Italian pasta and fresh broccoli.",
         "Sto cercando un negozio specializzato che venda pasta italiana di alta qualità e broccolo fresco.",
         null,
         5,
         "Buy things in a store",
         "Use 'Sto cercando' for 'I'm looking for', 'un negozio specializzato che venda' for 'a specialty store that sells', and 'pasta italiana di alta qualità e broccolo fresco' for 'high-quality Italian pasta and fresh broccoli'."
        ],
        [
         "standard question",
         "What's the best way to retain the bright green color of broccoli when making pasta?",
         "Qual è il modo migliore per mantenere il colore verde brillante del broccolo durante la preparazione della pasta?",
         null,
         5,
         "Order in a restaurant",
         "Use 'Qual è il modo migliore' for 'What's the best way', 'per mantenere' for 'to retain', 'il colore verde brillante del broccolo' for 'the bright green color of broccoli', and 'durante la preparazione della pasta' for 'when making pasta'."
        ],
        [
         "standard question",
         "I would like to order a non-alcoholic cocktail, please.",
         "Vorrei ordinare un cocktail analcolico, per favore.",
         null,
         5,
         "Order in a restaurant",
         "Use 'Vorrei ordinare' for 'I would like to order' and 'un cocktail analcolico' for 'a non-alcoholic cocktail'. Remember to maintain the polite form by adding 'per favore' at the end."
        ],
        [
         "standard question",
         "Could you suggest a refreshing mocktail for this evening?",
         "Potrebbe suggerirmi un mocktail rinfrescante per questa sera?",
         null,
         5,
         "Order in a restaurant",
         "Use 'Potrebbe suggerirmi' for 'Could you suggest' and 'un mocktail rinfrescante' for 'a refreshing mocktail'. 'Per questa sera' translates to 'for this evening'."
        ],
        [
         "standard question",
         "I'm interested in trying a local mocktail, what do you recommend?",
         "Sono interessato a provare un mocktail locale, cosa mi raccomanda?",
         null,
         5,
         "Order in a restaurant",
         "Use 'Sono interessato a provare' for 'I'm interested in trying' and 'un mocktail locale' for 'a local mocktail'. 'Cosa mi raccomanda?' is 'what do you recommend?'."
        ],
        [
         "standard question",
         "I want to order a pizza with broccoli and no cheese.",
         "Vorrei ordinare una pizza con broccoli e senza formaggio.",
         null,
         5,
         "Order in a restaurant",
         "Use 'vorrei ordinare' for 'I want to order', 'con broccoli' for 'with broccoli', and 'senza formaggio' for 'no cheese'."
        ],
        [
         "standard question",
         "Could you substitute the tomato sauce with pesto on my broccoli pizza?",
         "Potreste sostituire la salsa di pomodoro con il pesto sulla mia pizza con broccoli?",
         null,
         5,
         "Order in a restaurant",
         "Use 'potreste sostituire' for 'could you substitute', 'la salsa di pomodoro' for 'the tomato sauce', 'con il pesto' for 'with pesto', and 'sulla mia pizza con broccoli' for 'on my broccoli pizza'."
        ],
        [
         "standard question",
         "I have a preference for thin crust on my broccoli pizza, is that possible?",
         "Ho una preferenza per la base sottile sulla mia pizza con broccoli, è possibile?",
         null,
         5,
         "Order in a restaurant",
         "Use 'Ho una preferenza per' for 'I have a preference for', 'la base sottile' for 'thin crust', 'sulla mia pizza con broccoli' for 'on my broccoli pizza', and 'è possibile?' for 'is that possible?'."
        ],
        [
         "standard question",
         "I would like a pizza with broccoli, but could you please use buffalo mozzarella?",
         "Vorrei una pizza con broccoli, ma potreste utilizzare mozzarella di bufala, per favore?",
         null,
         5,
         "Order in a restaurant",
         "Use 'Vorrei' for 'I would like', 'con broccoli' for 'with broccoli', and 'potreste utilizzare mozzarella di bufala' for 'could you please use buffalo mozzarella'. Remember to maintain politeness by adding 'per favore' at the end."
        ],
        [
         "standard question",
         "I'm allergic to gluten, can I have a broccoli pizza on a gluten-free base?",
         "Sono allergico al glutine, posso avere una pizza con broccoli su una base senza glutine?",
         null,
         5,
         "Order in a restaurant",
         "Use 'Sono allergico al glutine' for 'I'm allergic to gluten', 'posso avere' for 'can I have', 'una pizza con broccoli' for 'a broccoli pizza', and 'su una base senza glutine' for 'on a gluten-free base'."
        ],
        [
         "standard question",
         "Instead of broccoli, can you add artichokes to my pizza?",
         "Invece di broccoli, potete aggiungere carciofi alla mia pizza?",
         null,
         5,
         "Order in a restaurant",
         "Use 'Invece di' for 'Instead of', 'potete aggiungere' for 'can you add', and 'carciofi' for 'artichokes'."
        ],
        [
         "standard question",
         "I want to buy a high-quality leather bag.",
         "Voglio comprare una borsa in pelle di alta qualità.",
         null,
         5,
         "Buy things in a store",
         "Use 'voglio comprare' for 'I want to buy', 'una borsa' for 'a bag', and 'in pelle di alta qualità' for 'high-quality leather'."
        ],
        [
         "standard question",
         "Could you show me some Italian leather bags?",
         "Potrebbe mostrarmi alcune borse in pelle italiane?",
         null,
         5,
         "Buy things in a store",
         "Use 'Potrebbe mostrarmi' for 'Could you show me', and 'alcune borse in pelle italiane' for 'some Italian leather bags'."
        ],
        [
         "standard question",
         "I'm interested in the craftsmanship of this leather bag.",
         "Sono interessato alla fattura artigianale di questa borsa in pelle.",
         null,
         5,
         "Buy things in a store",
         "Use 'Sono interessato' for 'I'm interested in', and 'alla fattura artigianale di questa borsa in pelle' for 'the craftsmanship of this leather bag'."
        ],
        [
         "standard question",
         "Could you make a vegan pizza with pineapple, but without tomato sauce?",
         "Potreste fare una pizza vegana con ananas, ma senza salsa di pomodoro?",
         null,
         5,
         "Order in a restaurant",
         "Use 'Potreste fare' for 'Could you make', 'una pizza vegana' for 'a vegan pizza', 'con ananas' for 'with pineapple', and 'ma senza salsa di pomodoro' for 'but without tomato sauce'."
        ],
        [
         "standard question",
         "I would like a vegan pizza with extra pineapple, is that possible?",
         "Vorrei una pizza vegana con extra ananas, è possibile?",
         null,
         5,
         "Order in a restaurant",
         "Use 'Vorrei' for 'I would like', 'una pizza vegana' for 'a vegan pizza', 'con extra ananas' for 'with extra pineapple', and 'è possibile?' to ask if it's possible."
        ],
        [
         "standard question",
         "Please ensure that the pizza is completely free of animal products, including cheese and meat, and add pineapple on top.",
         "Per favore, assicuratevi che la pizza sia completamente priva di prodotti animali, inclusi formaggio e carne, e aggiungete ananas sopra.",
         null,
         5,
         "Order in a restaurant",
         "Use 'Per favore, assicuratevi' for 'Please ensure', 'che la pizza sia completamente priva di prodotti animali' for 'that the pizza is completely free of animal products', 'inclusi formaggio e carne' for 'including cheese and meat', and 'e aggiungete ananas sopra' for 'and add pineapple on top'."
        ],
        [
         "standard question",
         "Could you recommend a florist where I can find a variety of hibiscus flowers?",
         "Potrebbe consigliarmi un fiorista dove posso trovare una varietà di fiori di ibisco?",
         null,
         5,
         "Buy things in a store",
         "Use 'Potrebbe consigliarmi' for a formal 'Could you recommend me', 'un fiorista' for 'a florist', and 'dove posso trovare' for 'where I can find'."
        ],
        [
         "standard question",
         "I'm interested in the medicinal properties of hibiscus flowers. Can you provide more information?",
         "Sono interessato alle proprietà medicinali dei fiori di ibisco. Può fornirmi ulteriori informazioni?",
         null,
         5,
         "Buy things in a store",
         "Use 'Sono interessato' for 'I'm interested', 'alle proprietà medicinali' for 'in the medicinal properties', 'dei fiori di ibisco' for 'of hibiscus flowers', and 'Può fornirmi ulteriori informazioni?' for 'Can you provide more information?'."
        ],
        [
         "standard question",
         "Do you have any rare or exotic hibiscus species available for purchase?",
         "Avete qualche specie rara o esotica di ibisco disponibile per l'acquisto?",
         null,
         5,
         "Buy things in a store",
         "Use 'Avete' for 'Do you have', 'qualche specie rara o esotica' for 'any rare or exotic species', 'di ibisco' for 'of hibiscus', and 'disponibile per l'acquisto' for 'available for purchase'."
        ],
        [
         "standard question",
         "I'm eager to watch the football match tonight, do you know a good place where we could go?",
         "Sono impaziente di guardare la partita di calcio stasera, sai un buon posto dove potremmo andare?",
         null,
         5,
         "Navigate a City",
         "Use 'Sono impaziente di' for 'I'm eager to', 'guardare' for 'watch', and 'la partita di calcio stasera' for 'the football match tonight'."
        ],
        [
         "standard question",
         "Could you recommend a sports bar where I can watch the football game with Italian commentary?",
         "Potresti consigliare un bar sportivo dove posso guardare la partita di calcio con il commento in italiano?",
         null,
         5,
         "Navigate a City",
         "Use 'Potresti consigliare' for 'Could you recommend', 'un bar sportivo' for 'a sports bar', and 'con il commento in italiano' for 'with Italian commentary'."
        ],
        [
         "standard question",
         "I'm looking for a place where I can watch the football game and also enjoy some traditional Italian dishes.",
         "Sto cercando un posto dove posso guardare la partita di calcio e anche gustare alcuni piatti tradizionali italiani.",
         null,
         5,
         "Order in a restaurant",
         "Use 'Sto cercando' for 'I'm looking for', 'un posto dove' for 'a place where', and 'gustare alcuni piatti tradizionali italiani' for 'enjoy some traditional Italian dishes'."
        ],
        [
         "standard question",
         "I like to play cricket with my friends on weekends",
         "Mi piace giocare a cricket con i miei amici nei fine settimana",
         null,
         2,
         "Talk about family and friends",
         "Use 'Mi piace' for 'I like', 'giocare a' for 'to play', and 'con i miei amici' for 'with my friends'. 'Nei fine settimana' translates to 'on weekends'."
        ],
        [
         "standard question",
         "My sister and I often play cricket in the park",
         "Io e mia sorella giochiamo spesso a cricket nel parco",
         null,
         2,
         "Talk about family and friends",
         "Remember to use 'Io e mia sorella' for 'My sister and I', 'giochiamo spesso' for 'often play', and 'nel parco' for 'in the park'."
        ],
        [
         "standard question",
         "Do you also enjoy playing cricket?",
         "Ti piace anche giocare a cricket?",
         null,
         1,
         "Talk about family and friends",
         "Use 'Ti piace' for 'Do you like' and 'anche' for 'also'. The word order in Italian questions can be similar to English."
        ],
        [
         "standard question",
         "I need flour and eggs for my cake recipe.",
         "Ho bisogno di farina e uova per la mia ricetta della torta.",
         null,
         2,
         "Buy things in a store",
         "Use 'Ho bisogno di' for 'I need', 'farina e uova' for 'flour and eggs', and 'per la mia ricetta della torta' for 'for my cake recipe'."
        ],
        [
         "standard question",
         "Can you recommend a good place to buy fresh vegetables?",
         "Puoi consigliarmi un buon posto per comprare verdure fresche?",
         null,
         2,
         "Buy things in a store",
         "Use 'Puoi consigliarmi' for 'Can you recommend', 'un buon posto per' for 'a good place to', and 'comprare verdure fresche' for 'buy fresh vegetables'."
        ],
        [
         "standard question",
         "Where can I find the best ingredients for an Italian dinner?",
         "Dove posso trovare i migliori ingredienti per una cena italiana?",
         null,
         2,
         "Buy things in a store",
         "Use 'Dove posso trovare' for 'Where can I find', 'i migliori ingredienti' for 'the best ingredients', and 'per una cena italiana' for 'for an Italian dinner'."
        ],
        [
         "standard question",
         "I want to play chess with my grandfather.",
         "Voglio giocare a scacchi con mio nonno.",
         null,
         2,
         "Talk about family and friends",
         "Use 'Voglio' for 'I want', 'giocare a' for 'to play', and 'con mio nonno' for 'with my grandfather'."
        ],
        [
         "standard question",
         "Can you teach me how to play chess?",
         "Puoi insegnarmi a giocare a scacchi?",
         null,
         2,
         "Introduce Yourself",
         "Use 'Puoi' for 'Can you', 'insegnarmi' for 'teach me', and 'a giocare a' for 'how to play'."
        ],
        [
         "standard question",
         "Do you have a chess set we can use?",
         "Hai un set di scacchi che possiamo usare?",
         null,
         2,
         "Buy things in a store",
         "Use 'Hai' for 'Do you have', 'un set di scacchi' for 'a chess set', and 'che possiamo usare' for 'we can use'."
        ],
        [
         "standard question",
         "I want to play chess with my cousins.",
         "Voglio giocare a scacchi con i miei cugini.",
         null,
         2,
         "Talk about family and friends",
         "Use 'Voglio' for 'I want', 'giocare a' for 'to play', and 'con i miei cugini' for 'with my cousins'."
        ],
        [
         "standard question",
         "My friends and I want to learn how to play chess.",
         "Io e i miei amici vogliamo imparare a giocare a scacchi.",
         null,
         2,
         "Talk about family and friends",
         "Use 'Io e i miei amici' for 'My friends and I', 'vogliamo' for 'want', and 'imparare a giocare a' for 'learn how to play'."
        ],
        [
         "standard question",
         "Do you want to play chess this evening?",
         "Vuoi giocare a scacchi questa sera?",
         null,
         2,
         "Talk about family and friends",
         "Use 'Vuoi' for 'Do you want', 'giocare a' for 'to play', and 'questa sera' for 'this evening'."
        ],
        [
         "standard question",
         "I would like almond milk in my coffee, please.",
         "Vorrei del latte di mandorla nel mio caffè, per favore.",
         null,
         2,
         "Order in a restaurant",
         "Remember to use 'del' before 'latte di mandorla' to mean 'some almond milk' and 'nel mio caffè' to indicate 'in my coffee'."
        ],
        [
         "standard question",
         "Can I substitute regular milk with almond milk?",
         "Posso sostituire il latte normale con latte di mandorla?",
         null,
         2,
         "Order in a restaurant",
         "Use 'Posso sostituire' for 'Can I substitute' and 'con latte di mandorla' for 'with almond milk'."
        ],
        [
         "standard question",
         "Do you have almond milk?",
         "Avete latte di mandorla?",
         null,
         1,
         "Buy things in a store",
         "Use 'Avete' for 'Do you have' when addressing someone formally or asking a staff member in a store or restaurant."
        ],
        [
         "standard question",
         "What is your name?",
         "Come ti chiami?",
         null,
         1,
         "Introduce Yourself",
         "Use 'Come ti chiami?' to ask someone's name informally."
        ],
        [
         "standard question",
         "Where is the nearest pharmacy?",
         "Dove è la farmacia più vicina?",
         null,
         2,
         "Navigate a City",
         "Use 'Dove è' for 'Where is' and remember that 'la farmacia più vicina' means 'the nearest pharmacy'."
        ],
        [
         "standard question",
         "Do you have a table for two?",
         "Avete un tavolo per due?",
         null,
         2,
         "Order in a restaurant",
         "Use 'Avete' for 'Do you have' and 'un tavolo per due' for 'a table for two'."
        ],
        [
         "standard question",
         "How do I get to the bus stop?",
         "Come faccio ad arrivare alla fermata dell'autobus?",
         null,
         1,
         "Navigate a City",
         "Remember to use 'Come faccio' for 'How do I' and 'ad arrivare' for 'get to'. 'Fermata dell'autobus' is the Italian for 'bus stop'."
        ],
        [
         "standard question",
         "Is this the bus stop for the number 5 bus?",
         "È questa la fermata per l'autobus numero 5?",
         null,
         1,
         "Navigate a City",
         "Use 'È questa' for 'Is this', 'la fermata per' for 'the bus stop for', and 'l'autobus numero' followed by the bus number."
        ],
        [
         "standard question",
         "What time does the bus leave from this stop?",
         "A che ora parte l'autobus da questa fermata?",
         null,
         1,
         "Navigate a City",
         "Use 'A che ora' for 'What time', 'parte' for 'leaves', and 'da questa fermata' for 'from this stop'."
        ],
        [
         "standard question",
         "Where can I rent a bicycle?",
         "Dove posso noleggiare una bicicletta?",
         null,
         1,
         "Navigate a City",
         "Remember to use 'Dove posso' for 'Where can I' and 'noleggiare una bicicletta' for 'rent a bicycle'."
        ],
        [
         "standard question",
         "Is there a bike rental shop nearby?",
         "C'è un negozio di noleggio biciclette qui vicino?",
         null,
         1,
         "Navigate a City",
         "Use 'C'è un negozio di noleggio biciclette' for 'Is there a bike rental shop' and 'qui vicino' for 'nearby'."
        ],
        [
         "standard question",
         "How much does it cost to rent a bike for a day?",
         "Quanto costa noleggiare una bicicletta per un giorno?",
         null,
         2,
         "Buy things in a store",
         "Use 'Quanto costa' for 'How much does it cost' and 'noleggiare una bicicletta per un giorno' for 'to rent a bike for a day'."
        ],
        [
         "standard question",
         "How much is the bike rental for two hours?",
         "Quanto costa il noleggio della bicicletta per due ore?",
         null,
         2,
         "Buy things in a store",
         "Use 'Quanto costa' for 'How much is' and 'il noleggio della bicicletta per due ore' for 'the bike rental for two hours'."
        ],
        [
         "standard question",
         "Do you offer discounts on bike rentals for groups?",
         "Offrite sconti sul noleggio di biciclette per i gruppi?",
         null,
         2,
         "Buy things in a store",
         "Use 'Offrite sconti' for 'Do you offer discounts' and 'sul noleggio di biciclette per i gruppi' for 'on bike rentals for groups'."
        ],
        [
         "standard question",
         "Is it possible to rent a bike for the whole week?",
         "È possibile noleggiare una bicicletta per tutta la settimana?",
         null,
         2,
         "Buy things in a store",
         "Use 'È possibile' for 'Is it possible' and 'noleggiare una bicicletta per tutta la settimana' for 'to rent a bike for the whole week'."
        ],
        [
         "standard question",
         "Where can I get my bike fixed?",
         "Dove posso fare riparare la mia bicicletta?",
         null,
         2,
         "Navigate a City",
         "Use 'Dove posso' for 'Where can I' and 'fare riparare la mia bicicletta' for 'get my bike fixed'."
        ],
        [
         "standard question",
         "Is there a bicycle repair shop nearby?",
         "C'è un negozio di riparazione biciclette qui vicino?",
         null,
         1,
         "Navigate a City",
         "Use 'C'è un negozio di riparazione biciclette' for 'Is there a bicycle repair shop' and 'qui vicino' for 'nearby'."
        ],
        [
         "standard question",
         "How much does it cost to repair a bike?",
         "Quanto costa riparare una bicicletta?",
         null,
         1,
         "Buy things in a store",
         "Use 'Quanto costa' for 'How much does it cost' and 'riparare una bicicletta' for 'to repair a bike'."
        ],
        [
         "standard question",
         "How do I ask for a helmet when renting a bike?",
         "Come posso chiedere un casco quando noleggio una bicicletta?",
         null,
         2,
         "Buy things in a store",
         "Use 'Come posso chiedere' for 'How do I ask for' and 'un casco quando noleggio una bicicletta' for 'a helmet when renting a bike'."
        ],
        [
         "standard question",
         "What types of bikes do you have for rent?",
         "Quali tipi di biciclette avete da noleggiare?",
         null,
         1,
         "Buy things in a store",
         "Use 'Quali tipi di biciclette' for 'What types of bikes' and 'avete da noleggiare' for 'do you have for rent'."
        ],
        [
         "standard question",
         "Can I test ride the bike before renting?",
         "Posso fare un giro di prova con la bicicletta prima di noleggiarla?",
         null,
         2,
         "Buy things in a store",
         "Use 'Posso fare un giro di prova' for 'Can I test ride' and 'con la bicicletta prima di noleggiarla' for 'the bike before renting'."
        ],
        [
         "standard question",
         "What is the Italian word for 'wheel'?",
         "ruota",
         null,
         1,
         "Buy things in a store",
         "Remember that 'wheel' in Italian is 'ruota'."
        ],
        [
         "standard question",
         "How do you say 'brakes' in Italian?",
         "freni",
         null,
         1,
         "Buy things in a store",
         "The word for 'brakes' in Italian is 'freni'."
        ],
        [
         "standard question",
         "Translate 'I need to replace the chain on my bike' into Italian.",
         "Devo sostituire la catena della mia bicicletta",
         null,
         2,
         "Buy things in a store",
         "Use 'Devo sostituire' for 'I need to replace' and 'la catena della mia bicicletta' for 'the chain on my bike'."
        ],
        [
         "standard question",
         "What ingredients do I need to bake a simple cake?",
         "Per fare una torta semplice ho bisogno di farina, zucchero, uova e burro.",
         null,
         2,
         "Buy things in a store",
         "Remember to list basic ingredients like 'farina' (flour), 'zucchero' (sugar), 'uova' (eggs), and 'burro' (butter)."
        ],
        [
         "standard question",
         "How long does it take to bake a cake?",
         "Per cuocere una torta ci vogliono circa trenta minuti.",
         null,
         2,
         "Buy things in a store",
         "Use 'Per cuocere una torta' for 'To bake a cake' and 'ci vogliono circa trenta minuti' for 'it takes about thirty minutes'."
        ],
        [
         "standard question",
         "Can you recommend a good recipe for a chocolate cake?",
         "Puoi consigliarmi una buona ricetta per una torta al cioccolato?",
         null,
         2,
         "Buy things in a store",
         "Use 'Puoi consigliarmi' for 'Can you recommend' and 'una buona ricetta per una torta al cioccolato' for 'a good recipe for a chocolate cake'."
        ],
        [
         "standard question",
         "Where can I rent a scooter?",
         "Dove posso noleggiare uno scooter?",
         null,
         2,
         "Navigate a City",
         "Use 'Dove posso' for 'Where can I' and 'noleggiare uno scooter' for 'rent a scooter'."
        ],
        [
         "standard question",
         "What do I need to rent a scooter?",
         "Cosa mi serve per noleggiare uno scooter?",
         null,
         2,
         "Buy things in a store",
         "Use 'Cosa mi serve' for 'What do I need' and 'per noleggiare uno scooter' for 'to rent a scooter'."
        ],
        [
         "standard question",
         "Do I need a license to rent a scooter?",
         "Ho bisogno di una patente per noleggiare uno scooter?",
         null,
         2,
         "Buy things in a store",
         "Use 'Ho bisogno di una patente' for 'Do I need a license' and 'per noleggiare uno scooter' for 'to rent a scooter'."
        ],
        [
         "standard question",
         "I want to withdraw money from the bank.",
         "Voglio prelevare dei soldi dalla banca.",
         null,
         2,
         "Buy things in a store",
         "Use 'Voglio' for 'I want', 'prelevare' for 'to withdraw', and 'dei soldi' for 'money'."
        ],
        [
         "standard question",
         "Where can I find an ATM?",
         "Dove posso trovare un bancomat?",
         null,
         2,
         "Navigate a City",
         "Use 'Dove posso trovare' for 'Where can I find' and 'un bancomat' for 'an ATM'."
        ],
        [
         "standard question",
         "Can I use my debit card here?",
         "Posso usare la mia carta di debito qui?",
         null,
         2,
         "Buy things in a store",
         "Use 'Posso usare' for 'Can I use', 'la mia carta di debito' for 'my debit card', and 'qui' for 'here'."
        ],
        [
         "standard question",
         "Who is the Prime Minister of Italy?",
         "Chi è il Primo Ministro dell'Italia?",
         null,
         2,
         "Introduce Yourself",
         "Remember to use 'Chi' for 'Who' when asking about a person's identity."
        ],
        [
         "standard question",
         "The Prime Minister is the head of the government.",
         "Il Primo Ministro è il capo del governo.",
         null,
         2,
         "Introduce Yourself",
         "Translate 'head of the government' as 'il capo del governo'."
        ],
        [
         "standard question",
         "Can you tell me more about the Prime Minister?",
         "Puoi dirmi di più sul Primo Ministro?",
         null,
         2,
         "Introduce Yourself",
         "Use 'Puoi' for 'Can you' and 'dirmi di più' for 'tell me more'."
        ],
        [
         "standard question",
         "I want to go to the zoo.",
         "Voglio andare allo zoo.",
         null,
         2,
         "Navigate a City",
         "Use 'Voglio' for 'I want' and 'andare allo' for 'to go to the'. Remember that 'zoo' remains the same in Italian."
        ],
        [
         "standard question",
         "How do I get to the zoo?",
         "Come faccio ad arrivare allo zoo?",
         null,
         2,
         "Navigate a City",
         "Use 'Come faccio ad' for 'How do I' and 'arrivare allo' for 'get to the'. Remember that 'zoo' remains the same in Italian."
        ],
        [
         "standard question",
         "What time does the zoo open?",
         "A che ora apre lo zoo?",
         null,
         2,
         "Navigate a City",
         "Use 'A che ora' for 'What time' and 'apre' for 'does open'. Remember that 'zoo' remains the same in Italian."
        ],
        [
         "standard question",
         "Where is the closest park where I can walk my dog?",
         "Dov'è il parco più vicino dove posso portare a passeggio il mio cane?",
         null,
         2,
         "Navigate a City",
         "Use 'Dov'è' for 'Where is', 'il parco più vicino' for 'the closest park', and 'dove posso portare a passeggio il mio cane' for 'where I can walk my dog'."
        ],
        [
         "standard question",
         "Is there a dog-friendly beach nearby?",
         "C'è una spiaggia che ammette cani qui vicino?",
         null,
         2,
         "Navigate a City",
         "Use 'C'è' for 'Is there', 'una spiaggia che ammette cani' for 'a dog-friendly beach', and 'qui vicino' for 'nearby'."
        ],
        [
         "standard question",
         "Can you recommend a route for walking with a dog?",
         "Può consigliarmi un percorso per passeggiare con un cane?",
         null,
         2,
         "Navigate a City",
         "Use 'Può consigliarmi' for 'Can you recommend', 'un percorso' for 'a route', and 'per passeggiare con un cane' for 'for walking with a dog'."
        ],
        [
         "standard question",
         "Can I have a vegetarian pizza without onions?",
         "Posso avere una pizza vegetariana senza cipolle?",
         null,
         2,
         "Order in a restaurant",
         "Use 'Posso avere' for 'Can I have', 'una pizza vegetariana' for 'a vegetarian pizza', and 'senza cipolle' for 'without onions'."
        ],
        [
         "standard question",
         "What vegetarian toppings do you have for pizza?",
         "Quali ingredienti vegetariani avete per la pizza?",
         null,
         2,
         "Order in a restaurant",
         "Use 'Quali ingredienti vegetariani' for 'What vegetarian toppings' and 'avete per la pizza' for 'do you have for pizza'."
        ],
        [
         "standard question",
         "I am allergic to cheese, can you make a cheese-free vegetarian pizza?",
         "Sono allergico al formaggio, potete fare una pizza vegetariana senza formaggio?",
         null,
         2,
         "Order in a restaurant",
         "Use 'Sono allergico al formaggio' for 'I am allergic to cheese', and 'potete fare una pizza vegetariana senza formaggio?' for 'can you make a cheese-free vegetarian pizza?'."
        ],
        [
         "standard question",
         "What time do the local bars close?",
         "A che ora chiudono i bar locali?",
         null,
         2,
         "Navigate a City",
         "Use 'A che ora' for 'What time' and 'chiudono' for 'do close'."
        ],
        [
         "standard question",
         "Are there any night markets in this area?",
         "Ci sono mercati notturni in questa zona?",
         null,
         2,
         "Navigate a City",
         "Remember to use 'Ci sono' for 'Are there any' and 'mercati notturni' for 'night markets'."
        ],
        [
         "standard question",
         "Can you suggest a good place for live music around here?",
         "Puoi suggerirmi un buon posto per la musica dal vivo qui intorno?",
         null,
         2,
         "Navigate a City",
         "Use 'Puoi suggerirmi' for 'Can you suggest' and 'musica dal vivo' for 'live music'."
        ],
        [
         "standard question",
         "How much does it cost to rent a bike for a day?",
         "Quanto costa noleggiare una bicicletta per un giorno?",
         null,
         2,
         "Buy things in a store",
         "Use 'Quanto costa' for 'How much does it cost' and 'noleggiare una bicicletta per un giorno' for 'to rent a bike for a day'."
        ],
        [
         "standard question",
         "Do you have any electric bikes for rent?",
         "Avete biciclette elettriche da noleggiare?",
         null,
         2,
         "Buy things in a store",
         "Use 'Avete' for 'Do you have' and 'biciclette elettriche da noleggiare' for 'any electric bikes for rent'."
        ],
        [
         "standard question",
         "Could you recommend a good cycling route?",
         "Potreste consigliare un buon percorso ciclabile?",
         null,
         2,
         "Navigate a City",
         "Use 'Potreste consigliare' for 'Could you recommend' and 'un buon percorso ciclabile' for 'a good cycling route'."
        ],
        [
         "standard question",
         "How much does it cost to rent a bike for a day?",
         "Quanto costa noleggiare una bicicletta per un giorno?",
         null,
         2,
         "Buy things in a store",
         "Use 'Quanto costa' for 'How much does it cost' and 'noleggiare una bicicletta per un giorno' for 'to rent a bike for a day'."
        ],
        [
         "standard question",
         "Do you sell bike helmets here?",
         "Vendete caschi per bicicletta qui?",
         null,
         1,
         "Buy things in a store",
         "Use 'Vendete' for 'Do you sell' and 'caschi per bicicletta' for 'bike helmets'."
        ],
        [
         "standard question",
         "I would like to buy a bike lock.",
         "Vorrei comprare un lucchetto per bicicletta.",
         null,
         2,
         "Buy things in a store",
         "Use 'Vorrei comprare' for 'I would like to buy' and 'un lucchetto per bicicletta' for 'a bike lock'."
        ],
        [
         "standard question",
         "How do I ask for the price of tulips in Italian?",
         "Quanto costano i tulipani?",
         null,
         2,
         "Buy things in a store",
         "Use 'Quanto costano' for 'How much do' and 'i tulipani' for 'the tulips'."
        ],
        [
         "standard question",
         "What is the Italian phrase for 'a dozen roses', which I might use when buying flowers?",
         "una dozzina di rose",
         null,
         2,
         "Buy things in a store",
         "Use 'una dozzina di' for 'a dozen of' and 'rose' for 'roses'."
        ],
        [
         "standard question",
         "How can I say 'Do you have peonies?' in Italian when looking for specific flowers?",
         "Avete peonie?",
         null,
         2,
         "Buy things in a store",
         "Use 'Avete' for 'Do you have' and 'peonie' for 'peonies'."
        ],
        [
         "standard question",
         "Can you wrap these flowers as a gift?",
         "Può incartare questi fiori come un regalo?",
         null,
         2,
         "Buy things in a store",
         "Use 'Può' for a formal 'Can you', 'incartare' for 'wrap', and 'questi fiori' for 'these flowers'."
        ],
        [
         "standard question",
         "I'm looking for flowers for a wedding. What do you recommend?",
         "Cerco fiori per un matrimonio. Cosa mi consiglia?",
         null,
         2,
         "Buy things in a store",
         "Use 'Cerco' for 'I'm looking for', 'fiori per un matrimonio' for 'flowers for a wedding', and 'Cosa mi consiglia?' for 'What do you recommend?'."
        ],
        [
         "standard question",
         "Do you sell flower pots as well?",
         "Vendete anche vasi per fiori?",
         null,
         1,
         "Buy things in a store",
         "Use 'Vendete' for 'Do you sell' and 'anche vasi per fiori' for 'flower pots as well'."
        ],
        [
         "standard question",
         "Can I have a bouquet with mixed flowers?",
         "Posso avere un mazzo con fiori misti?",
         null,
         2,
         "Buy things in a store",
         "Use 'Posso avere' for 'Can I have' and 'un mazzo con fiori misti' for 'a bouquet with mixed flowers'."
        ],
        [
         "standard question",
         "I'm looking for flowers that can last a week. Any suggestions?",
         "Cerco fiori che possano durare una settimana. Qualche suggerimento?",
         null,
         2,
         "Buy things in a store",
         "Use 'Cerco' for 'I'm looking for', 'fiori che possano durare' for 'flowers that can last', and 'una settimana' for 'a week'."
        ],
        [
         "standard question",
         "Are these flowers fresh?",
         "Questi fiori sono freschi?",
         null,
         1,
         "Buy things in a store",
         "Use 'Questi fiori' for 'these flowers' and 'sono freschi?' for 'are fresh?'."
        ],
        [
         "standard question",
         "I want to learn how to buy flowers in Italian.",
         "Voglio imparare come comprare fiori in italiano.",
         null,
         2,
         "Buy things in a store",
         "Use 'Voglio imparare' for 'I want to learn', 'come' for 'how to', 'comprare' for 'buy', and 'fiori' for 'flowers'."
        ],
        [
         "standard question",
         "What is the Italian word for 'flower shop'?",
         "Fioreria",
         null,
         1,
         "Buy things in a store",
         "Remember that 'flower shop' translates to 'fioreria' in Italian."
        ],
        [
         "standard question",
         "I need help choosing flowers for a friend's birthday.",
         "Ho bisogno di aiuto per scegliere dei fiori per il compleanno di un amico.",
         null,
         2,
         "Buy things in a store",
         "Use 'Ho bisogno di aiuto' for 'I need help', 'per scegliere' for 'choosing', 'dei fiori' for 'flowers', and 'per il compleanno di un amico' for 'for a friend's birthday'."
        ],
        [
         "standard question",
         "I would like a pizza with vegan cheese.",
         "Vorrei una pizza con formaggio vegano.",
         null,
         2,
         "Order in a restaurant",
         "Use 'Vorrei' for 'I would like' and 'con formaggio vegano' for 'with vegan cheese'."
        ],
        [
         "standard question",
         "Can you replace the cheese with vegan cheese on my pizza?",
         "Potete sostituire il formaggio con formaggio vegano sulla mia pizza?",
         null,
         2,
         "Order in a restaurant",
         "Use 'Potete sostituire' for 'Can you replace', 'il formaggio con formaggio vegano' for 'the cheese with vegan cheese', and 'sulla mia pizza' for 'on my pizza'."
        ],
        [
         "standard question",
         "Do you have any pizzas with vegan cheese?",
         "Avete pizze con formaggio vegano?",
         null,
         1,
         "Order in a restaurant",
         "Use 'Avete' for 'Do you have', 'pizze' for 'pizzas', and 'con formaggio vegano' for 'with vegan cheese'."
        ],
        [
         "standard question",
         "I would like a pasta dish, but I'm allergic to mushrooms. Can you make it without mushrooms?",
         "Vorrei un piatto di pasta, ma sono allergico ai funghi. Potete farlo senza funghi?",
         null,
         2,
         "Order in a restaurant",
         "Use 'Vorrei' for 'I would like', 'un piatto di pasta' for 'a pasta dish', 'ma sono allergico ai funghi' for 'but I'm allergic to mushrooms', and 'Potete farlo senza funghi?' for 'Can you make it without mushrooms?'."
        ],
        [
         "standard question",
         "Can I have the salad without mushrooms, please?",
         "Posso avere l'insalata senza funghi, per favore?",
         null,
         1,
         "Order in a restaurant",
         "Use 'Posso avere' for 'Can I have', 'l'insalata' for 'the salad', and 'senza funghi' for 'without mushrooms'."
        ],
        [
         "standard question",
         "Do you have any dishes that don't contain mushrooms?",
         "Avete piatti che non contengono funghi?",
         null,
         2,
         "Order in a restaurant",
         "Use 'Avete' for 'Do you have', 'piatti' for 'dishes', and 'che non contengono funghi' for 'that don't contain mushrooms'."
        ],
        [
         "standard question",
         "Can I have a pizza with extra vegetables?",
         "Posso avere una pizza con extra verdure?",
         null,
         2,
         "Order in a restaurant",
         "Use 'Posso avere' for 'Can I have' and 'con extra verdure' for 'with extra vegetables'."
        ],
        [
         "standard question",
         "I would like a pizza with mushrooms and vegan cheese, please.",
         "Vorrei una pizza con funghi e formaggio vegano, per favore.",
         null,
         2,
         "Order in a restaurant",
         "Use 'Vorrei' for 'I would like', 'con funghi' for 'with mushrooms', 'e formaggio vegano' for 'and vegan cheese', and 'per favore' for 'please'."
        ],
        [
         "standard question",
         "Could you add extra spinach to my pizza instead of cheese?",
         "Potreste aggiungere extra spinaci alla mia pizza al posto del formaggio?",
         null,
         2,
         "Order in a restaurant",
         "Use 'Potreste aggiungere' for 'Could you add', 'extra spinaci' for 'extra spinach', 'alla mia pizza' for 'to my pizza', and 'al posto del formaggio' for 'instead of cheese'."
        ],
        [
         "standard question",
         "Is this orchid locally grown?",
         "Questa orchidea è coltivata localmente?",
         null,
         2,
         "Buy things in a store",
         "Use 'Questa orchidea' for 'this orchid' and 'è coltivata localmente?' to ask if it is locally grown."
        ],
        [
         "standard question",
         "How can I ask if the flowers are imported?",
         "I fiori sono importati?",
         null,
         2,
         "Buy things in a store",
         "Use 'I fiori' for 'the flowers' and 'sono importati?' to ask if they are imported."
        ],
        [
         "standard question",
         "Can you tell me where these orchids come from?",
         "Mi può dire da dove provengono queste orchidee?",
         null,
         2,
         "Buy things in a store",
         "Use 'Mi può dire' for 'Can you tell me', 'da dove' for 'where', and 'provengono queste orchidee' for 'these orchids come from'."
        ],
        [
         "standard question",
         "Is this orchid grown without pesticides?",
         "Questa orchidea è coltivata senza pesticidi?",
         null,
         2,
         "Buy things in a store",
         "Use 'Questa orchidea' for 'this orchid' and 'è coltivata senza pesticidi?' to ask if it is grown without pesticides."
        ],
        [
         "standard question",
         "Do these orchids need a lot of sunlight?",
         "Queste orchidee hanno bisogno di molta luce solare?",
         null,
         2,
         "Buy things in a store",
         "Use 'Queste orchidee' for 'these orchids' and 'hanno bisogno di molta luce solare?' to ask if they need a lot of sunlight."
        ],
        [
         "standard question",
         "What type of soil is best for orchids?",
         "Quale tipo di terreno è migliore per le orchidee?",
         null,
         2,
         "Buy things in a store",
         "Use 'Quale tipo di terreno' for 'What type of soil' and 'è migliore per le orchidee?' to ask about the best soil for orchids."
        ],
        [
         "standard question",
         "How do you say 'I would like to buy a hibiscus plant' in Italian?",
         "Vorrei comprare una pianta di ibisco",
         null,
         2,
         "Buy things in a store",
         "Use 'Vorrei comprare' for 'I would like to buy' and 'una pianta di ibisco' for 'a hibiscus plant'."
        ],
        [
         "standard question",
         "What is the Italian word for 'hibiscus'?",
         "Ibisco",
         null,
         1,
         "Buy things in a store",
         "Remember that the word for 'hibiscus' in Italian is 'ibisco'."
        ],
        [
         "standard question",
         "How do I ask 'Do you have hibiscus flowers for sale?' in Italian?",
         "Avete ibisco in vendita?",
         null,
         2,
         "Buy things in a store",
         "Use 'Avete' for 'Do you have' and 'ibisco in vendita' for 'hibiscus for sale'."
        ],
        [
         "standard question",
         "How do I say 'I would like to buy a hibiscus plant' in Italian?",
         "Vorrei comprare una pianta di ibisco.",
         null,
         2,
         "Buy things in a store",
         "Use 'Vorrei comprare' for 'I would like to buy' and 'una pianta di ibisco' for 'a hibiscus plant'."
        ],
        [
         "standard question",
         "What is the Italian word for 'hibiscus'?",
         "Ibisco",
         null,
         1,
         "Buy things in a store",
         "Remember that the word for 'hibiscus' in Italian is 'ibisco'."
        ],
        [
         "standard question",
         "How do I ask 'Where can I find hibiscus tea?' in Italian?",
         "Dove posso trovare il tè di ibisco?",
         null,
         2,
         "Buy things in a store",
         "Use 'Dove posso trovare' for 'Where can I find' and 'il tè di ibisco' for 'hibiscus tea'."
        ],
        [
         "standard question",
         "How do I say 'I would like to buy a hibiscus plant' in Italian?",
         "Vorrei comprare una pianta di ibisco.",
         null,
         2,
         "Buy things in a store",
         "Use 'Vorrei comprare' for 'I would like to buy' and 'una pianta di ibisco' for 'a hibiscus plant'."
        ],
        [
         "standard question",
         "How do I ask 'Do you have hibiscus flowers?' in Italian?",
         "Avete fiori di ibisco?",
         null,
         1,
         "Buy things in a store",
         "Use 'Avete' for 'Do you have' and 'fiori di ibisco' for 'hibiscus flowers'."
        ],
        [
         "standard question",
         "What is the Italian word for 'hibiscus'?",
         "Ibisco",
         null,
         1,
         "Buy things in a store",
         "Remember that the word 'hibiscus' translates to 'ibisco' in Italian."
        ],
        [
         "standard question",
         "I want to buy a new television.",
         "Voglio comprare una nuova televisione.",
         null,
         2,
         "Buy things in a store",
         "Use 'Voglio' for 'I want' and 'comprare' for 'to buy'. 'Una nuova televisione' translates to 'a new television'."
        ],
        [
         "standard question",
         "What is the price of this TV?",
         "Qual è il prezzo di questa TV?",
         null,
         2,
         "Buy things in a store",
         "Use 'Qual è' for 'What is', 'il prezzo' for 'the price', and 'di questa TV' for 'of this TV'."
        ],
        [
         "standard question",
         "Does this television come with a warranty?",
         "Questa televisione viene con una garanzia?",
         null,
         2,
         "Buy things in a store",
         "Use 'Questa televisione' for 'this television', 'viene con' for 'come with', and 'una garanzia' for 'a warranty'."
        ],
        [
         "standard question",
         "I'm looking for a jacket without buttons.",
         "Sto cercando un giubbotto senza bottoni.",
         null,
         2,
         "Buy things in a store",
         "Use 'Sto cercando' for 'I'm looking for', and 'senza bottoni' for 'without buttons'."
        ],
        [
         "standard question",
         "Does this jacket come without buttons?",
         "Questo giubbotto è senza bottoni?",
         null,
         2,
         "Buy things in a store",
         "Use 'Questo giubbotto' for 'this jacket', and 'è senza bottoni?' for 'come without buttons?'."
        ],
        [
         "standard question",
         "Can you recommend a buttonless jacket?",
         "Può consigliarmi un giubbotto senza bottoni?",
         null,
         2,
         "Buy things in a store",
         "Use 'Può consigliarmi' for 'Can you recommend', and 'un giubbotto senza bottoni' for 'a buttonless jacket'."
        ],
        [
         "standard question",
         "I would like a pizza with vegan cheese, but no mushrooms, please.",
         "Vorrei una pizza con formaggio vegano, ma senza funghi, per favore.",
         null,
         2,
         "Order in a restaurant",
         "Remember to use 'Vorrei' for 'I would like', 'con formaggio vegano' for 'with vegan cheese', 'ma senza funghi' for 'but no mushrooms', and 'per favore' for 'please'."
        ],
        [
         "standard question",
         "Can I have a pizza without mushrooms and with extra vegan cheese?",
         "Posso avere una pizza senza funghi e con extra formaggio vegano?",
         null,
         2,
         "Order in a restaurant",
         "Use 'Posso avere' for 'Can I have', 'senza funghi' for 'without mushrooms', and 'con extra formaggio vegano' for 'with extra vegan cheese'."
        ],
        [
         "standard question",
         "Do you offer a vegan pizza option without mushrooms?",
         "Offrite un'opzione di pizza vegana senza funghi?",
         null,
         2,
         "Order in a restaurant",
         "Use 'Offrite' for 'Do you offer', 'un'opzione di pizza vegana' for 'a vegan pizza option', and 'senza funghi' for 'without mushrooms'."
        ],
        [
         "standard question",
         "Can you show me where the orchids are?",
         "Mi può mostrare dove sono le orchidee?",
         null,
         2,
         "Buy things in a store",
         "Use 'Mi può mostrare' for 'Can you show me' and 'dove sono le orchidee' for 'where the orchids are'."
        ],
        [
         "standard question",
         "I'm looking for a specific type of orchid. Do you have Cattleya orchids?",
         "Sto cercando un tipo specifico di orchidea. Avete orchidee Cattleya?",
         null,
         2,
         "Buy things in a store",
         "Use 'Sto cercando' for 'I'm looking for', 'un tipo specifico di orchidea' for 'a specific type of orchid', and 'Avete orchidee Cattleya?' for 'Do you have Cattleya orchids?'."
        ],
        [
         "standard question",
         "How should I care for an orchid after purchasing it?",
         "Come dovrei prendere cura di un'orchidea dopo averla acquistata?",
         null,
         2,
         "Buy things in a store",
         "Use 'Come dovrei prendere cura' for 'How should I care for' and 'di un'orchidea dopo averla acquistata' for 'an orchid after purchasing it'."
        ],
        [
         "standard question",
         "How do I ask for a basket of daisies in Italian?",
         "Potrei avere un cestino di margherite?",
         null,
         2,
         "Buy things in a store",
         "Use 'Potrei avere' for 'Could I have' and 'un cestino di margherite' for 'a basket of daisies'."
        ],
        [
         "standard question",
         "What's the Italian word for 'daisies'?",
         "Margherite",
         null,
         1,
         "Buy things in a store",
         "Remember that 'daisies' translates to 'margherite' in Italian."
        ],
        [
         "standard question",
         "Can you give me a discount on the daisies?",
         "Mi può fare uno sconto sulle margherite?",
         null,
         2,
         "Buy things in a store",
         "Use 'Mi può fare' for 'Can you give me' and 'uno sconto sulle margherite' for 'a discount on the daisies'."
        ],
        [
         "standard question",
         "How much is a basket of daisies?",
         "Quanto costa un cesto di margherite?",
         null,
         2,
         "Buy things in a store",
         "Use 'Quanto costa' for 'How much is' and 'un cesto di margherite' for 'a basket of daisies'."
        ],
        [
         "standard question",
         "Can I have a basket of daisies, please?",
         "Posso avere un cesto di margherite, per favore?",
         null,
         2,
         "Buy things in a store",
         "Use 'Posso avere' for 'Can I have', 'un cesto di' for 'a basket of', and 'per favore' for 'please'."
        ],
        [
         "standard question",
         "Do you have any discounts on daisies today?",
         "Avete sconti sulle margherite oggi?",
         null,
         2,
         "Buy things in a store",
         "Use 'Avete' for 'Do you have', 'sconti' for 'discounts', and 'sulle margherite' for 'on daisies'."
        ],
        [
         "standard question",
         "What color are the daisies in the basket?",
         "Di che colore sono le margherite nel cesto?",
         null,
         2,
         "Buy things in a store",
         "Use 'Di che colore sono' for 'What color are', and 'le margherite nel cesto' for 'the daisies in the basket'."
        ],
        [
         "standard question",
         "I'm looking for a basket of daisies for my mother's birthday.",
         "Sto cercando un cesto di margherite per il compleanno di mia madre.",
         null,
         2,
         "Buy things in a store",
         "Use 'Sto cercando' for 'I'm looking for', 'un cesto di margherite' for 'a basket of daisies', and 'per il compleanno di mia madre' for 'for my mother's birthday'."
        ],
        [
         "standard question",
         "Can you wrap the basket of daisies as a gift?",
         "Puoi incartare il cesto di margherite come un regalo?",
         null,
         2,
         "Buy things in a store",
         "Use 'Puoi incartare' for 'Can you wrap', 'il cesto di margherite' for 'the basket of daisies', and 'come un regalo' for 'as a gift'."
        ],
        [
         "standard question",
         "How do you say 'daisies' in Italian?",
         "Margherite",
         null,
         1,
         "Buy things in a store",
         "Remember that 'daisies' translates to 'margherite' in Italian."
        ],
        [
         "standard question",
         "I'm looking for a basket of daisies for my friend's birthday.",
         "Sto cercando un cestino di margherite per il compleanno del mio amico.",
         null,
         2,
         "Buy things in a store",
         "Use 'Sto cercando' for 'I'm looking for', 'un cestino di' for 'a basket of', and 'per il compleanno del mio amico' for 'for my friend's birthday'."
        ],
        [
         "standard question",
         "Can you add a card to the basket of daisies?",
         "Puoi aggiungere un biglietto al cestino di margherite?",
         null,
         2,
         "Buy things in a store",
         "Use 'Puoi aggiungere' for 'Can you add' and 'un biglietto al cestino di' for 'a card to the basket of'."
        ],
        [
         "standard question",
         "How much is a basket of red daisies?",
         "Quanto costa un cesto di margherite rosse?",
         null,
         2,
         "Buy things in a store",
         "Use 'Quanto costa' for 'How much is', 'un cesto di' for 'a basket of', and 'margherite rosse' for 'red daisies'."
        ],
        [
         "standard question",
         "I would like a basket of red daisies, please.",
         "Vorrei un cesto di margherite rosse, per favore.",
         null,
         2,
         "Buy things in a store",
         "Use 'Vorrei' for 'I would like', 'un cesto di' for 'a basket of', 'margherite rosse' for 'red daisies', and 'per favore' for 'please'."
        ],
        [
         "standard question",
         "Do you have red daisies available?",
         "Avete margherite rosse disponibili?",
         null,
         2,
         "Buy things in a store",
         "Use 'Avete' for 'Do you have', 'margherite rosse' for 'red daisies', and 'disponibili' for 'available'."
        ],
        [
         "standard question",
         "How much is a dozen red roses?",
         "Quanto costa una dozzina di rose rosse?",
         null,
         2,
         "Buy things in a store",
         "Use 'Quanto costa' for 'How much is', and 'una dozzina di rose rosse' for 'a dozen red roses'."
        ],
        [
         "standard question",
         "I would like to buy some red roses for a special occasion.",
         "Vorrei comprare delle rose rosse per un'occasione speciale.",
         null,
         2,
         "Buy things in a store",
         "Use 'Vorrei comprare' for 'I would like to buy', and 'per un'occasione speciale' for 'for a special occasion'."
        ],
        [
         "standard question",
         "Can you wrap these roses as a gift?",
         "Può confezionare queste rose come un regalo?",
         null,
         2,
         "Buy things in a store",
         "Use 'Può confezionare' for 'Can you wrap', and 'queste rose come un regalo' for 'these roses as a gift'."
        ],
        [
         "standard question",
         "How much do white roses cost?",
         "Quanto costano le rose bianche?",
         null,
         2,
         "Buy things in a store",
         "Use 'Quanto costano' for 'How much do', and 'le rose bianche' for 'white roses'."
        ],
        [
         "standard question",
         "I need a bouquet of white roses, please.",
         "Ho bisogno di un mazzo di rose bianche, per favore.",
         null,
         2,
         "Buy things in a store",
         "Use 'Ho bisogno di' for 'I need', 'un mazzo di' for 'a bouquet of', and 'per favore' for 'please'."
        ],
        [
         "standard question",
         "Do you have white roses for a wedding?",
         "Avete rose bianche per un matrimonio?",
         null,
         2,
         "Buy things in a store",
         "Use 'Avete' for 'Do you have', 'rose bianche' for 'white roses', and 'per un matrimonio' for 'for a wedding'."
        ],
        [
         "standard question",
         "How much are the lilies per stem?",
         "Quanto costano i gigli per stelo?",
         null,
         2,
         "Buy things in a store",
         "Use 'Quanto costano' for 'How much are', and 'i gigli per stelo' for 'the lilies per stem'."
        ],
        [
         "standard question",
         "Do you have any lilies for a birthday gift?",
         "Avete gigli per un regalo di compleanno?",
         null,
         2,
         "Buy things in a store",
         "Use 'Avete' for 'Do you have', 'gigli' for 'lilies', and 'per un regalo di compleanno' for 'for a birthday gift'."
        ],
        [
         "standard question",
         "Can I get these lilies delivered tomorrow?",
         "Posso far consegnare questi gigli domani?",
         null,
         2,
         "Buy things in a store",
         "Use 'Posso' for 'Can I', 'far consegnare' for 'get delivered', and 'questi gigli domani' for 'these lilies tomorrow'."
        ],
        [
         "standard question",
         "Can I buy a basket of yellow daisies?",
         "Posso comprare un cestino di margherite gialle?",
         null,
         2,
         "Buy things in a store",
         "Use 'Posso comprare' for 'Can I buy', and 'un cestino di margherite gialle' for 'a basket of yellow daisies'."
        ],
        [
         "standard question",
         "How much does a basket of yellow daisies cost?",
         "Quanto costa un cestino di margherite gialle?",
         null,
         2,
         "Buy things in a store",
         "Use 'Quanto costa' for 'How much does', and 'un cestino di margherite gialle' for 'a basket of yellow daisies'."
        ],
        [
         "standard question",
         "Do you have a discount for buying multiple baskets of yellow daisies?",
         "Avete uno sconto per l'acquisto di più cestini di margherite gialle?",
         null,
         2,
         "Buy things in a store",
         "Use 'Avete' for 'Do you have', 'uno sconto' for 'a discount', and 'per l'acquisto di più cestini di margherite gialle' for 'for buying multiple baskets of yellow daisies'."
        ],
        [
         "standard question",
         "Can I buy a basket of yellow daisies?",
         "Posso comprare un cestino di margherite gialle?",
         null,
         2,
         "Buy things in a store",
         "Use 'Posso comprare' for 'Can I buy', and 'un cestino di margherite gialle' for 'a basket of yellow daisies'."
        ],
        [
         "standard question",
         "How much does a basket of yellow daisies cost?",
         "Quanto costa un cestino di margherite gialle?",
         null,
         2,
         "Buy things in a store",
         "Use 'Quanto costa' for 'How much does', and 'un cestino di margherite gialle' for 'a basket of yellow daisies'."
        ],
        [
         "standard question",
         "Do you have any discounts on yellow daisies?",
         "Avete sconti sulle margherite gialle?",
         null,
         2,
         "Buy things in a store",
         "Use 'Avete' for 'Do you have', 'sconti' for 'any discounts', and 'sulle margherite gialle' for 'on yellow daisies'."
        ],
        [
         "standard question",
         "Can I buy a basket of yellow daisies?",
         "Posso comprare un cestino di margherite gialle?",
         null,
         2,
         "Buy things in a store",
         "Use 'Posso comprare' for 'Can I buy', and 'un cestino di margherite gialle' for 'a basket of yellow daisies'."
        ],
        [
         "standard question",
         "How much does a basket of yellow daisies cost?",
         "Quanto costa un cestino di margherite gialle?",
         null,
         2,
         "Buy things in a store",
         "Use 'Quanto costa' for 'How much does', and 'un cestino di margherite gialle' for 'a basket of yellow daisies'."
        ],
        [
         "standard question",
         "I would like a basket of yellow daisies for my friend's birthday.",
         "Vorrei un cestino di margherite gialle per il compleanno del mio amico.",
         null,
         2,
         "Buy things in a store",
         "Use 'Vorrei' for 'I would like', 'un cestino di margherite gialle' for 'a basket of yellow daisies', and 'per il compleanno del mio amico' for 'for my friend's birthday'."
        ],
        [
         "standard question",
         "Do you sell yellow daisies here?",
         "Vendete margherite gialle qui?",
         null,
         2,
         "Buy things in a store",
         "Use 'Vendete' for 'Do you sell', and 'margherite gialle qui' for 'yellow daisies here'."
        ],
        [
         "standard question",
         "Could you add a card to the basket of daisies?",
         "Potreste aggiungere un biglietto al cestino di margherite?",
         null,
         2,
         "Buy things in a store",
         "Use 'Potreste aggiungere' for 'Could you add', 'un biglietto' for 'a card', and 'al cestino di margherite' for 'to the basket of daisies'."
        ],
        [
         "standard question",
         "Is it possible to reserve a basket of yellow daisies?",
         "È possibile prenotare un cestino di margherite gialle?",
         null,
         2,
         "Buy things in a store",
         "Use 'È possibile' for 'Is it possible', and 'prenotare un cestino di margherite gialle' for 'reserve a basket of yellow daisies'."
        ],
        [
         "standard question",
         "Can I buy a basket of yellow daisies?",
         "Posso comprare un cestino di margherite gialle?",
         null,
         2,
         "Buy things in a store",
         "Use 'Posso comprare' for 'Can I buy', and 'un cestino di margherite gialle' for 'a basket of yellow daisies'."
        ],
        [
         "standard question",
         "How much does a basket of yellow daisies cost?",
         "Quanto costa un cestino di margherite gialle?",
         null,
         2,
         "Buy things in a store",
         "Use 'Quanto costa' for 'How much does', and 'un cestino di margherite gialle' for 'a basket of yellow daisies'."
        ],
        [
         "standard question",
         "Do you have any special offers on yellow daisies?",
         "Avete offerte speciali su margherite gialle?",
         null,
         2,
         "Buy things in a store",
         "Use 'Avete' for 'Do you have', 'offerte speciali' for 'special offers', and 'su margherite gialle' for 'on yellow daisies'."
        ],
        [
         "standard question",
         "How much is a box of hibiscus?",
         "Quanto costa una scatola di ibisco?",
         null,
         2,
         "Buy things in a store",
         "Use 'Quanto costa' for 'How much is', and 'una scatola di ibisco' for 'a box of hibiscus'."
        ],
        [
         "standard question",
         "Do you sell hibiscus here?",
         "Vendete ibisco qui?",
         null,
         1,
         "Buy things in a store",
         "Use 'Vendete' for 'Do you sell', and 'ibisco qui' for 'hibiscus here'."
        ],
        [
         "standard question",
         "Can I pay for the hibiscus with a credit card?",
         "Posso pagare l'ibisco con una carta di credito?",
         null,
         2,
         "Buy things in a store",
         "Use 'Posso pagare' for 'Can I pay', 'l'ibisco' for 'the hibiscus', and 'con una carta di credito' for 'with a credit card'."
        ],
        [
         "standard question",
         "I want to buy a blue jacket.",
         "Voglio comprare una giacca blu.",
         null,
         2,
         "Buy things in a store",
         "Use 'Voglio comprare' for 'I want to buy', and 'una giacca blu' for 'a blue jacket'."
        ],
        [
         "standard question",
         "Can I have this jacket with extra buttons?",
         "Posso avere questa giacca con bottoni extra?",
         null,
         2,
         "Buy things in a store",
         "Use 'Posso avere' for 'Can I have', 'questa giacca' for 'this jacket', and 'con bottoni extra' for 'with extra buttons'."
        ],
        [
         "standard question",
         "Do you have jackets with floral designs?",
         "Avete giacche con disegni floreali?",
         null,
         2,
         "Buy things in a store",
         "Use 'Avete' for 'Do you have', and 'giacche con disegni floreali' for 'jackets with floral designs'."
        ],
        [
         "standard question",
         "I want to buy red roses.",
         "Voglio comprare delle rose rosse.",
         null,
         1,
         "Buy things in a store",
         "Use 'Voglio comprare' for 'I want to buy', and 'delle rose rosse' for 'red roses'."
        ],
        [
         "standard question",
         "Could you recommend a type of red flower?",
         "Potrebbe consigliarmi un tipo di fiore rosso?",
         null,
         2,
         "Buy things in a store",
         "Use 'Potrebbe consigliarmi' for 'Could you recommend', and 'un tipo di fiore rosso' for 'a type of red flower'."
        ],
        [
         "standard question",
         "I'm looking for roses for Valentine's Day.",
         "Sto cercando delle rose per San Valentino.",
         null,
         2,
         "Buy things in a store",
         "Use 'Sto cercando' for 'I'm looking for', and 'per San Valentino' for 'for Valentine's Day'."
        ],
        [
         "standard question",
         "How much does a single hibiscus flower cost?",
         "Quanto costa un singolo fiore di ibisco?",
         null,
         2,
         "Buy things in a store",
         "Use 'Quanto costa' for 'How much does', 'un singolo' for 'a single', and 'fiore di ibisco' for 'hibiscus flower'."
        ],
        [
         "standard question",
         "Do you have hibiscus flowers in different colors?",
         "Avete fiori di ibisco di diversi colori?",
         null,
         2,
         "Buy things in a store",
         "Use 'Avete' for 'Do you have', 'fiori di ibisco' for 'hibiscus flowers', and 'di diversi colori' for 'in different colors'."
        ],
        [
         "standard question",
         "Is this hibiscus flower fresh?",
         "Questo fiore di ibisco è fresco?",
         null,
         2,
         "Buy things in a store",
         "Use 'Questo' for 'Is this', 'fiore di ibisco' for 'hibiscus flower', and 'è fresco' for 'fresh?'."
        ],
        [
         "standard question",
         "How do you say 'I would like a vegan pizza, please' in Italian?",
         "Vorrei una pizza vegana, per favore",
         null,
         2,
         "Order in a restaurant",
         "Use 'Vorrei' for 'I would like', 'una pizza vegana' for 'a vegan pizza', and 'per favore' for 'please'."
        ],
        [
         "standard question",
         "How can you request 'A vegan pizza with no cheese, please' in Italian?",
         "Una pizza vegana senza formaggio, per favore",
         null,
         2,
         "Order in a restaurant",
         "Use 'Una pizza vegana' for 'A vegan pizza', 'senza formaggio' for 'with no cheese', and 'per favore' for 'please'."
        ],
        [
         "standard question",
         "Translate 'Could I get a vegan pizza with extra tomatoes instead of mushrooms?' to Italian.",
         "Potrei avere una pizza vegana con pomodori extra al posto dei funghi?",
         null,
         2,
         "Order in a restaurant",
         "Use 'Potrei avere' for 'Could I get', 'una pizza vegana' for 'a vegan pizza', 'con pomodori extra' for 'with extra tomatoes', and 'al posto dei funghi' for 'instead of mushrooms'."
        ],
        [
         "standard question",
         "What is the Italian word for 'vegan'?",
         "vegano",
         null,
         1,
         "Order in a restaurant",
         "Remember that 'vegan' translates to 'vegano' in Italian."
        ],
        [
         "standard question",
         "How do you ask for no animal products on your pizza in Italian?",
         "Senza prodotti animali, per favore",
         null,
         2,
         "Order in a restaurant",
         "Use 'Senza' for 'without', 'prodotti animali' for 'animal products', and 'per favore' for 'please'."
        ],
        [
         "standard question",
         "How do you say 'Is the dough made without animal products?' in Italian?",
         "L'impasto è fatto senza prodotti animali?",
         null,
         2,
         "Order in a restaurant",
         "Use 'L'impasto' for 'The dough', 'è fatto' for 'is made', and 'senza prodotti animali' for 'without animal products'."
        ],
        [
         "standard question",
         "How much is a bouquet of blue lilies?",
         "Quanto costa un mazzo di gigli blu?",
         null,
         2,
         "Buy things in a store",
         "Use 'Quanto costa' for 'How much is', and 'un mazzo di gigli blu' for 'a bouquet of blue lilies'."
        ],
        [
         "standard question",
         "I would like a bouquet of blue lilies, please.",
         "Vorrei un mazzo di gigli blu, per favore.",
         null,
         2,
         "Buy things in a store",
         "Use 'Vorrei' for 'I would like', 'un mazzo di' for 'a bouquet of', 'gigli blu' for 'blue lilies', and 'per favore' for 'please'."
        ],
        [
         "standard question",
         "Do you have blue lilies available today?",
         "Avete gigli blu disponibili oggi?",
         null,
         2,
         "Buy things in a store",
         "Use 'Avete' for 'Do you have', 'gigli blu' for 'blue lilies', and 'disponibili oggi' for 'available today'."
        ]
       ],
       "datasetInfos": [],
       "dbfsResultPath": null,
       "isJsonSchema": true,
       "metadata": {},
       "overflow": false,
       "plotOptions": {
        "customPlotOptions": {},
        "displayType": "table",
        "pivotAggregation": null,
        "pivotColumns": null,
        "xColumns": null,
        "yColumns": null
       },
       "removedWidgets": [],
       "schema": [
        {
         "metadata": "{}",
         "name": "question_type",
         "type": "\"string\""
        },
        {
         "metadata": "{}",
         "name": "question",
         "type": "\"string\""
        },
        {
         "metadata": "{}",
         "name": "answer",
         "type": "\"string\""
        },
        {
         "metadata": "{}",
         "name": "file_path",
         "type": "\"string\""
        },
        {
         "metadata": "{}",
         "name": "difficulty_rating",
         "type": "\"integer\""
        },
        {
         "metadata": "{}",
         "name": "category",
         "type": "\"string\""
        },
        {
         "metadata": "{}",
         "name": "instruction",
         "type": "\"string\""
        }
       ],
       "type": "table"
      }
     },
     "output_type": "display_data"
    }
   ],
   "source": [
    "# define message schema\n",
    "from pyspark.sql.functions import col, from_json\n",
    "from pyspark.sql.types import StructType, StructField, StringType, NullType, StructType, IntegerType, FloatType, DoubleType\n",
    "\n",
    "# Define the nested structure for both 'before' and 'after' since they have the same structure\n",
    "nestedStructure = StructType([\n",
    "    StructField(\"question_id\", StringType(), True),\n",
    "    StructField(\"question_text\", StringType(), True),\n",
    "    StructField(\"image_1\", StringType(), True),\n",
    "    StructField(\"image_2\", StringType(), True),\n",
    "    StructField(\"image_3\", StringType(), True),\n",
    "    StructField(\"image_4\", StringType(), True),\n",
    "    StructField(\"answer\", StringType(), True),\n",
    "    StructField(\"created_at\", StringType(), True),\n",
    "    StructField(\"question_type_id\", StringType(), True),\n",
    "    StructField(\"question_type\", StringType(), True),\n",
    "    StructField(\"question\", StringType(), True),\n",
    "    StructField(\"file_path\", StringType(), True),\n",
    "    StructField(\"difficulty_rating\", IntegerType(), True),\n",
    "    StructField(\"category\", StringType(), True),\n",
    "    StructField(\"instruction\", StringType(), True),\n",
    "])\n",
    "\n",
    "# Define the schema with 'before' and 'after' having the same structure and being nullable\n",
    "schema = StructType([\n",
    "    StructField(\"before\", nestedStructure, True),\n",
    "    StructField(\"after\", nestedStructure, True),\n",
    "    StructField(\"op\", StringType()),\n",
    "])\n",
    "\n",
    "# Convert \"value\" column to string\n",
    "newQuestionsDF = df.withColumn(\"value\", col(\"value\").cast(\"string\"))\n",
    "\n",
    "# Apply from_json function with the updated schema\n",
    "newQuestionsDF = newQuestionsDF.withColumn(\"value\", from_json(col(\"value\"), schema))\n",
    "\n",
    "# Filter by operation type \"c\" before selecting columns\n",
    "newQuestionsDF = newQuestionsDF.filter(col(\"value.op\") == \"c\")\n",
    "\n",
    "# Filter by value.before when it is a null struct\n",
    "newQuestionsDF = newQuestionsDF.filter(\"value.before is null\")\n",
    "\n",
    "# Selecting each key in the \"after\" field and making them separate columns\n",
    "newQuestionsDF = newQuestionsDF.select(\n",
    "    col(\"value.after.question_type\").alias(\"question_type\"),\n",
    "    col(\"value.after.question_text\").alias(\"question\"),\n",
    "    col(\"value.after.answer\").alias(\"answer\"),\n",
    "    col(\"value.after.file_path\").alias(\"file_path\"),\n",
    "    col(\"value.after.difficulty_rating\").alias(\"difficulty_rating\"),\n",
    "    col(\"value.after.category\").alias(\"category\"),\n",
    "    col(\"value.after.instruction\").alias(\"instruction\")\n",
    ")\n",
    "display(newQuestionsDF)"
   ]
  },
  {
   "cell_type": "markdown",
   "metadata": {
    "application/vnd.databricks.v1+cell": {
     "cellMetadata": {
      "byteLimit": 2048000,
      "rowLimit": 10000
     },
     "inputWidgets": {},
     "nuid": "a703f842-7111-4bad-8d0c-3ef84099f13e",
     "showTitle": false,
     "title": ""
    }
   },
   "source": [
    "Stream from Spark to Weaviate:"
   ]
  },
  {
   "cell_type": "code",
   "execution_count": 0,
   "metadata": {
    "application/vnd.databricks.v1+cell": {
     "cellMetadata": {
      "byteLimit": 2048000,
      "rowLimit": 10000
     },
     "inputWidgets": {},
     "nuid": "a51cd7ca-f3d3-4d54-967c-a68ebc9c0493",
     "showTitle": false,
     "title": ""
    }
   },
   "outputs": [
    {
     "name": "stderr",
     "output_type": "stream",
     "text": [
      "/local_disk0/.ephemeral_nfs/cluster_libraries/python/lib/python3.10/site-packages/google/protobuf/runtime_version.py:112: UserWarning: Protobuf gencode version 5.27.2 is older than the runtime version 5.28.0 at grpc_health/v1/health.proto. Please avoid checked-in Protobuf gencode that can be obsolete.\n",
      "  warnings.warn(\n",
      "<frozen importlib._bootstrap>:914: ImportWarning: ImportHookFinder.find_spec() not found; falling back to find_module()\n"
     ]
    },
    {
     "data": {
      "text/plain": [
       "AggregateReturn(properties={}, total_count=88)"
      ]
     },
     "execution_count": 3,
     "metadata": {},
     "output_type": "execute_result"
    }
   ],
   "source": [
    "import weaviate\n",
    "from weaviate.classes.init import Auth\n",
    "\n",
    "weaviate_url = \"\"\n",
    "weaviate_api_key = \"\"\n",
    "openai_api_key = \"\"\n",
    "\n",
    "client = weaviate.connect_to_weaviate_cloud(weaviate_url, Auth.api_key(weaviate_api_key), \n",
    "    headers={\n",
    "        'X-OpenAI-Api-key': openai_api_key,\n",
    "        } \n",
    ")\n",
    "\n",
    "collection = client.collections.get(\"ConversationalStatements\")\n",
    "\n",
    "collection.aggregate.over_all(total_count=True)"
   ]
  },
  {
   "cell_type": "code",
   "execution_count": 0,
   "metadata": {
    "application/vnd.databricks.v1+cell": {
     "cellMetadata": {
      "byteLimit": 2048000,
      "rowLimit": 10000
     },
     "inputWidgets": {},
     "nuid": "6baf274c-fe99-46fa-b448-5b32ceff12b0",
     "showTitle": false,
     "title": ""
    }
   },
   "outputs": [
    {
     "data": {
      "text/plain": [
       "<pyspark.sql.streaming.query.StreamingQuery at 0x7f24e4ca52a0>"
      ]
     },
     "execution_count": 4,
     "metadata": {},
     "output_type": "execute_result"
    }
   ],
   "source": [
    "(\n",
    "    newQuestionsDF\n",
    "    .writeStream\n",
    "    .format(\"io.weaviate.spark.Weaviate\")\n",
    "    .option(\"scheme\", \"https\")\n",
    "    .option(\"host\", weaviate_url.replace(\"https://\", \"\"))\n",
    "    .option(\"apiKey\", weaviate_api_key)\n",
    "    .option(\"className\", \"ConversationalStatements\")\n",
    "    .option(\"batchSize\", 100)\n",
    "    .queryName(\"stream_new_questions_to_weaviate\")\n",
    "    .option(\"checkpointLocation\", \"dbfs:/tmp/product_updates_checkpoint\")\n",
    "    .option(\"header:X-Openai-Api-Key\", \"\")\n",
    "    .start()\n",
    ")"
   ]
  }
 ],
 "metadata": {
  "application/vnd.databricks.v1+notebook": {
   "dashboards": [],
   "environmentMetadata": null,
   "language": "python",
   "notebookMetadata": {
    "pythonIndentUnit": 4
   },
   "notebookName": "wealingo_stream_new_questions",
   "widgets": {}
  },
  "language_info": {
   "name": "python"
  }
 },
 "nbformat": 4,
 "nbformat_minor": 0
}
